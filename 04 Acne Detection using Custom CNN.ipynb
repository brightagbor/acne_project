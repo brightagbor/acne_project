{
 "cells": [
  {
   "cell_type": "markdown",
   "id": "02c8aacf",
   "metadata": {},
   "source": [
    "# Acne Detection using Custom CNN"
   ]
  },
  {
   "cell_type": "markdown",
   "id": "d2966743",
   "metadata": {},
   "source": [
    "## Training and Validation"
   ]
  },
  {
   "cell_type": "markdown",
   "id": "b1155b14",
   "metadata": {},
   "source": [
    "### Importing Dependencies"
   ]
  },
  {
   "cell_type": "code",
   "execution_count": 1,
   "id": "31cbdfa0",
   "metadata": {},
   "outputs": [
    {
     "name": "stderr",
     "output_type": "stream",
     "text": [
      "2024-08-03 22:16:17.631906: I external/local_xla/xla/tsl/cuda/cudart_stub.cc:32] Could not find cuda drivers on your machine, GPU will not be used.\n",
      "2024-08-03 22:16:17.634924: I external/local_xla/xla/tsl/cuda/cudart_stub.cc:32] Could not find cuda drivers on your machine, GPU will not be used.\n",
      "2024-08-03 22:16:17.644775: E external/local_xla/xla/stream_executor/cuda/cuda_fft.cc:485] Unable to register cuFFT factory: Attempting to register factory for plugin cuFFT when one has already been registered\n",
      "2024-08-03 22:16:17.660469: E external/local_xla/xla/stream_executor/cuda/cuda_dnn.cc:8454] Unable to register cuDNN factory: Attempting to register factory for plugin cuDNN when one has already been registered\n",
      "2024-08-03 22:16:17.664835: E external/local_xla/xla/stream_executor/cuda/cuda_blas.cc:1452] Unable to register cuBLAS factory: Attempting to register factory for plugin cuBLAS when one has already been registered\n",
      "2024-08-03 22:16:17.675310: I tensorflow/core/platform/cpu_feature_guard.cc:210] This TensorFlow binary is optimized to use available CPU instructions in performance-critical operations.\n",
      "To enable the following instructions: AVX2 FMA, in other operations, rebuild TensorFlow with the appropriate compiler flags.\n",
      "2024-08-03 22:16:18.484384: W tensorflow/compiler/tf2tensorrt/utils/py_utils.cc:38] TF-TRT Warning: Could not find TensorRT\n"
     ]
    }
   ],
   "source": [
    "from tensorflow.keras.models import Model, Sequential\n",
    "from tensorflow.keras.layers import Dense, Flatten, Conv2D, MaxPooling2D, Dropout, Input\n",
    "from tensorflow.keras.preprocessing.image import ImageDataGenerator\n",
    "from tensorflow.keras.optimizers import Adam"
   ]
  },
  {
   "cell_type": "markdown",
   "id": "e6f43616",
   "metadata": {},
   "source": [
    "### Define the custom CNN architecture"
   ]
  },
  {
   "cell_type": "code",
   "execution_count": 2,
   "id": "02fab1e7",
   "metadata": {},
   "outputs": [],
   "source": [
    "# model = Sequential()"
   ]
  },
  {
   "cell_type": "code",
   "execution_count": 3,
   "id": "d8841487",
   "metadata": {},
   "outputs": [],
   "source": [
    "# help(model)"
   ]
  },
  {
   "cell_type": "code",
   "execution_count": 4,
   "id": "40a7ae32",
   "metadata": {},
   "outputs": [
    {
     "name": "stderr",
     "output_type": "stream",
     "text": [
      "/home/agbor/anaconda3/lib/python3.11/site-packages/keras/src/layers/convolutional/base_conv.py:107: UserWarning: Do not pass an `input_shape`/`input_dim` argument to a layer. When using Sequential models, prefer using an `Input(shape)` object as the first layer in the model instead.\n",
      "  super().__init__(activity_regularizer=activity_regularizer, **kwargs)\n"
     ]
    }
   ],
   "source": [
    "from tensorflow.keras.models import Sequential\n",
    "from tensorflow.keras.layers import Conv2D, MaxPooling2D, Flatten, Dense, Dropout\n",
    "\n",
    "model = Sequential([\n",
    "    # First convolutional layer with 32 filters, a 3x3 kernel size, ReLU activation, \n",
    "    # and an input shape of (224, 224, 3) for RGB images.\n",
    "    Conv2D(32, (3, 3), activation='relu', input_shape=(224, 224, 3)),\n",
    "\n",
    "    # Max pooling layer with a 2x2 pool size to reduce the spatial dimensions.\n",
    "    MaxPooling2D(pool_size=(2, 2)),\n",
    "\n",
    "    # Second convolutional layer with 64 filters, a 3x3 kernel size, and ReLU activation.\n",
    "    Conv2D(64, (3, 3), activation='relu'),\n",
    "\n",
    "    # Max pooling layer with a 2x2 pool size to further reduce the spatial dimensions.\n",
    "    MaxPooling2D(pool_size=(2, 2)),\n",
    "\n",
    "    # Third convolutional layer with 128 filters, a 3x3 kernel size, and ReLU activation.\n",
    "    Conv2D(128, (3, 3), activation='relu'),\n",
    "\n",
    "    # Max pooling layer with a 2x2 pool size to further reduce the spatial dimensions.\n",
    "    MaxPooling2D(pool_size=(2, 2)),\n",
    "\n",
    "    # Flatten layer to convert the 2D output of the previous layer to a 1D vector.\n",
    "    Flatten(),\n",
    "\n",
    "    # Fully connected layer with 256 units and ReLU activation.\n",
    "    Dense(256, activation='relu'),\n",
    "\n",
    "    # Dropout layer with a dropout rate of 0.5 to prevent overfitting.\n",
    "    Dropout(0.5),\n",
    "\n",
    "    # Output layer with a single unit and sigmoid activation for binary classification.\n",
    "    Dense(1, activation='sigmoid')\n",
    "])"
   ]
  },
  {
   "cell_type": "markdown",
   "id": "93b996b1",
   "metadata": {},
   "source": [
    "### Compile the model"
   ]
  },
  {
   "cell_type": "code",
   "execution_count": 5,
   "id": "13483126",
   "metadata": {},
   "outputs": [],
   "source": [
    "model.compile(optimizer=Adam(learning_rate=0.0001), loss='binary_crossentropy', metrics=['accuracy'])"
   ]
  },
  {
   "cell_type": "markdown",
   "id": "d584e93a",
   "metadata": {},
   "source": [
    "### Data augmentation and generators for training and validation"
   ]
  },
  {
   "cell_type": "code",
   "execution_count": 6,
   "id": "5bb6ff9f",
   "metadata": {},
   "outputs": [],
   "source": [
    "train_datagen = ImageDataGenerator(\n",
    "    rescale=1./255,\n",
    "    rotation_range=30,\n",
    "    shear_range=0.2,\n",
    "    zoom_range=0.2,\n",
    "    horizontal_flip=True\n",
    ")"
   ]
  },
  {
   "cell_type": "code",
   "execution_count": 7,
   "id": "7081ef1e",
   "metadata": {},
   "outputs": [],
   "source": [
    "val_datagen = ImageDataGenerator(rescale=1./255)"
   ]
  },
  {
   "cell_type": "code",
   "execution_count": 8,
   "id": "941ad0ba",
   "metadata": {},
   "outputs": [
    {
     "name": "stdout",
     "output_type": "stream",
     "text": [
      "Found 1646 images belonging to 2 classes.\n"
     ]
    }
   ],
   "source": [
    "train_generator = train_datagen.flow_from_directory(\n",
    "    \"dataset/training/\",\n",
    "    target_size=(224, 224),\n",
    "    batch_size=32,\n",
    "    class_mode='binary'\n",
    ")"
   ]
  },
  {
   "cell_type": "code",
   "execution_count": 9,
   "id": "57203f81",
   "metadata": {},
   "outputs": [
    {
     "name": "stdout",
     "output_type": "stream",
     "text": [
      "Found 112 images belonging to 2 classes.\n"
     ]
    }
   ],
   "source": [
    "val_generator = val_datagen.flow_from_directory(\n",
    "    \"dataset/validation/\",\n",
    "    target_size=(224, 224),\n",
    "    batch_size=32,\n",
    "    class_mode='binary'\n",
    ")"
   ]
  },
  {
   "cell_type": "code",
   "execution_count": 10,
   "id": "c4d7f042",
   "metadata": {
    "scrolled": false
   },
   "outputs": [],
   "source": [
    "# help(model)"
   ]
  },
  {
   "cell_type": "markdown",
   "id": "6b3aff00",
   "metadata": {},
   "source": [
    "### Train the model"
   ]
  },
  {
   "cell_type": "code",
   "execution_count": 11,
   "id": "8ee70dd2",
   "metadata": {},
   "outputs": [
    {
     "name": "stdout",
     "output_type": "stream",
     "text": [
      "Epoch 1/25\n"
     ]
    },
    {
     "name": "stderr",
     "output_type": "stream",
     "text": [
      "/home/agbor/anaconda3/lib/python3.11/site-packages/keras/src/trainers/data_adapters/py_dataset_adapter.py:121: UserWarning: Your `PyDataset` class should call `super().__init__(**kwargs)` in its constructor. `**kwargs` can include `workers`, `use_multiprocessing`, `max_queue_size`. Do not pass these arguments to `fit()`, as they will be ignored.\n",
      "  self._warn_if_super_not_called()\n"
     ]
    },
    {
     "name": "stdout",
     "output_type": "stream",
     "text": [
      "\u001b[1m52/52\u001b[0m \u001b[32m━━━━━━━━━━━━━━━━━━━━\u001b[0m\u001b[37m\u001b[0m \u001b[1m226s\u001b[0m 4s/step - accuracy: 0.5839 - loss: 0.6861 - val_accuracy: 0.8125 - val_loss: 0.3614\n",
      "Epoch 2/25\n",
      "\u001b[1m52/52\u001b[0m \u001b[32m━━━━━━━━━━━━━━━━━━━━\u001b[0m\u001b[37m\u001b[0m \u001b[1m295s\u001b[0m 5s/step - accuracy: 0.8699 - loss: 0.3368 - val_accuracy: 0.8929 - val_loss: 0.2321\n",
      "Epoch 3/25\n",
      "\u001b[1m52/52\u001b[0m \u001b[32m━━━━━━━━━━━━━━━━━━━━\u001b[0m\u001b[37m\u001b[0m \u001b[1m322s\u001b[0m 6s/step - accuracy: 0.8765 - loss: 0.3135 - val_accuracy: 0.7054 - val_loss: 0.7589\n",
      "Epoch 4/25\n",
      "\u001b[1m52/52\u001b[0m \u001b[32m━━━━━━━━━━━━━━━━━━━━\u001b[0m\u001b[37m\u001b[0m \u001b[1m315s\u001b[0m 5s/step - accuracy: 0.8513 - loss: 0.3398 - val_accuracy: 0.8125 - val_loss: 0.5923\n",
      "Epoch 5/25\n",
      "\u001b[1m52/52\u001b[0m \u001b[32m━━━━━━━━━━━━━━━━━━━━\u001b[0m\u001b[37m\u001b[0m \u001b[1m274s\u001b[0m 5s/step - accuracy: 0.8908 - loss: 0.2777 - val_accuracy: 0.9107 - val_loss: 0.2392\n",
      "Epoch 6/25\n",
      "\u001b[1m52/52\u001b[0m \u001b[32m━━━━━━━━━━━━━━━━━━━━\u001b[0m\u001b[37m\u001b[0m \u001b[1m313s\u001b[0m 5s/step - accuracy: 0.9167 - loss: 0.2391 - val_accuracy: 0.8482 - val_loss: 0.3655\n",
      "Epoch 7/25\n",
      "\u001b[1m52/52\u001b[0m \u001b[32m━━━━━━━━━━━━━━━━━━━━\u001b[0m\u001b[37m\u001b[0m \u001b[1m290s\u001b[0m 5s/step - accuracy: 0.9196 - loss: 0.2153 - val_accuracy: 0.8214 - val_loss: 0.5070\n",
      "Epoch 8/25\n",
      "\u001b[1m52/52\u001b[0m \u001b[32m━━━━━━━━━━━━━━━━━━━━\u001b[0m\u001b[37m\u001b[0m \u001b[1m300s\u001b[0m 6s/step - accuracy: 0.9211 - loss: 0.2174 - val_accuracy: 0.8214 - val_loss: 0.4941\n",
      "Epoch 9/25\n",
      "\u001b[1m52/52\u001b[0m \u001b[32m━━━━━━━━━━━━━━━━━━━━\u001b[0m\u001b[37m\u001b[0m \u001b[1m315s\u001b[0m 5s/step - accuracy: 0.9395 - loss: 0.1770 - val_accuracy: 0.8393 - val_loss: 0.3490\n",
      "Epoch 10/25\n",
      "\u001b[1m52/52\u001b[0m \u001b[32m━━━━━━━━━━━━━━━━━━━━\u001b[0m\u001b[37m\u001b[0m \u001b[1m299s\u001b[0m 6s/step - accuracy: 0.9207 - loss: 0.2109 - val_accuracy: 0.8393 - val_loss: 0.4044\n",
      "Epoch 11/25\n",
      "\u001b[1m52/52\u001b[0m \u001b[32m━━━━━━━━━━━━━━━━━━━━\u001b[0m\u001b[37m\u001b[0m \u001b[1m314s\u001b[0m 5s/step - accuracy: 0.9319 - loss: 0.1992 - val_accuracy: 0.8304 - val_loss: 0.4768\n",
      "Epoch 12/25\n",
      "\u001b[1m52/52\u001b[0m \u001b[32m━━━━━━━━━━━━━━━━━━━━\u001b[0m\u001b[37m\u001b[0m \u001b[1m287s\u001b[0m 5s/step - accuracy: 0.9262 - loss: 0.1702 - val_accuracy: 0.8036 - val_loss: 0.6972\n",
      "Epoch 13/25\n",
      "\u001b[1m52/52\u001b[0m \u001b[32m━━━━━━━━━━━━━━━━━━━━\u001b[0m\u001b[37m\u001b[0m \u001b[1m297s\u001b[0m 6s/step - accuracy: 0.9415 - loss: 0.1617 - val_accuracy: 0.8393 - val_loss: 0.4481\n",
      "Epoch 14/25\n",
      "\u001b[1m52/52\u001b[0m \u001b[32m━━━━━━━━━━━━━━━━━━━━\u001b[0m\u001b[37m\u001b[0m \u001b[1m313s\u001b[0m 5s/step - accuracy: 0.9430 - loss: 0.1554 - val_accuracy: 0.8393 - val_loss: 0.4459\n",
      "Epoch 15/25\n",
      "\u001b[1m52/52\u001b[0m \u001b[32m━━━━━━━━━━━━━━━━━━━━\u001b[0m\u001b[37m\u001b[0m \u001b[1m294s\u001b[0m 5s/step - accuracy: 0.9314 - loss: 0.1776 - val_accuracy: 0.8125 - val_loss: 0.5925\n",
      "Epoch 16/25\n",
      "\u001b[1m52/52\u001b[0m \u001b[32m━━━━━━━━━━━━━━━━━━━━\u001b[0m\u001b[37m\u001b[0m \u001b[1m326s\u001b[0m 6s/step - accuracy: 0.9332 - loss: 0.1602 - val_accuracy: 0.7946 - val_loss: 0.6179\n",
      "Epoch 17/25\n",
      "\u001b[1m52/52\u001b[0m \u001b[32m━━━━━━━━━━━━━━━━━━━━\u001b[0m\u001b[37m\u001b[0m \u001b[1m378s\u001b[0m 6s/step - accuracy: 0.9512 - loss: 0.1392 - val_accuracy: 0.7768 - val_loss: 0.8454\n",
      "Epoch 18/25\n"
     ]
    },
    {
     "name": "stderr",
     "output_type": "stream",
     "text": [
      "2024-08-03 23:42:28.121143: I tensorflow/core/kernels/data/shuffle_dataset_op.cc:450] ShuffleDatasetV3:2: Filling up shuffle buffer (this may take a while): 7 of 8\n",
      "2024-08-03 23:42:29.466823: I tensorflow/core/kernels/data/shuffle_dataset_op.cc:480] Shuffle buffer filled.\n"
     ]
    },
    {
     "name": "stdout",
     "output_type": "stream",
     "text": [
      "\u001b[1m52/52\u001b[0m \u001b[32m━━━━━━━━━━━━━━━━━━━━\u001b[0m\u001b[37m\u001b[0m \u001b[1m350s\u001b[0m 7s/step - accuracy: 0.9341 - loss: 0.1890 - val_accuracy: 0.7857 - val_loss: 0.8481\n",
      "Epoch 19/25\n",
      "\u001b[1m52/52\u001b[0m \u001b[32m━━━━━━━━━━━━━━━━━━━━\u001b[0m\u001b[37m\u001b[0m \u001b[1m349s\u001b[0m 6s/step - accuracy: 0.9439 - loss: 0.1571 - val_accuracy: 0.8304 - val_loss: 0.4969\n",
      "Epoch 20/25\n",
      "\u001b[1m52/52\u001b[0m \u001b[32m━━━━━━━━━━━━━━━━━━━━\u001b[0m\u001b[37m\u001b[0m \u001b[1m287s\u001b[0m 5s/step - accuracy: 0.9572 - loss: 0.1381 - val_accuracy: 0.8214 - val_loss: 0.5142\n",
      "Epoch 21/25\n",
      "\u001b[1m52/52\u001b[0m \u001b[32m━━━━━━━━━━━━━━━━━━━━\u001b[0m\u001b[37m\u001b[0m \u001b[1m295s\u001b[0m 5s/step - accuracy: 0.9470 - loss: 0.1530 - val_accuracy: 0.8125 - val_loss: 0.7670\n",
      "Epoch 22/25\n",
      "\u001b[1m52/52\u001b[0m \u001b[32m━━━━━━━━━━━━━━━━━━━━\u001b[0m\u001b[37m\u001b[0m \u001b[1m263s\u001b[0m 5s/step - accuracy: 0.9497 - loss: 0.1362 - val_accuracy: 0.8214 - val_loss: 0.4983\n",
      "Epoch 23/25\n",
      "\u001b[1m52/52\u001b[0m \u001b[32m━━━━━━━━━━━━━━━━━━━━\u001b[0m\u001b[37m\u001b[0m \u001b[1m263s\u001b[0m 5s/step - accuracy: 0.9398 - loss: 0.1639 - val_accuracy: 0.8304 - val_loss: 0.5108\n",
      "Epoch 24/25\n",
      "\u001b[1m52/52\u001b[0m \u001b[32m━━━━━━━━━━━━━━━━━━━━\u001b[0m\u001b[37m\u001b[0m \u001b[1m214s\u001b[0m 4s/step - accuracy: 0.9536 - loss: 0.1243 - val_accuracy: 0.8304 - val_loss: 0.4951\n",
      "Epoch 25/25\n",
      "\u001b[1m52/52\u001b[0m \u001b[32m━━━━━━━━━━━━━━━━━━━━\u001b[0m\u001b[37m\u001b[0m \u001b[1m299s\u001b[0m 5s/step - accuracy: 0.9695 - loss: 0.1074 - val_accuracy: 0.8304 - val_loss: 0.4864\n"
     ]
    },
    {
     "data": {
      "text/plain": [
       "<keras.src.callbacks.history.History at 0x7fed90baf310>"
      ]
     },
     "execution_count": 11,
     "metadata": {},
     "output_type": "execute_result"
    }
   ],
   "source": [
    "model.fit(\n",
    "    train_generator,\n",
    "    epochs=25,\n",
    "    validation_data=val_generator\n",
    ")"
   ]
  },
  {
   "cell_type": "markdown",
   "id": "45a1fbd1",
   "metadata": {},
   "source": [
    "### Model Evaluation"
   ]
  },
  {
   "cell_type": "code",
   "execution_count": 12,
   "id": "aeb693a0",
   "metadata": {},
   "outputs": [
    {
     "name": "stdout",
     "output_type": "stream",
     "text": [
      "Found 96 images belonging to 2 classes.\n"
     ]
    }
   ],
   "source": [
    "test_generator = val_datagen.flow_from_directory(\n",
    "    \"dataset/testing/\",\n",
    "    target_size=(224, 224),\n",
    "    batch_size=32,\n",
    "    class_mode='binary',\n",
    "    shuffle=False\n",
    ")"
   ]
  },
  {
   "cell_type": "code",
   "execution_count": 20,
   "id": "e140fa95",
   "metadata": {},
   "outputs": [
    {
     "name": "stdout",
     "output_type": "stream",
     "text": [
      "\u001b[1m3/3\u001b[0m \u001b[32m━━━━━━━━━━━━━━━━━━━━\u001b[0m\u001b[37m\u001b[0m \u001b[1m1s\u001b[0m 280ms/step - accuracy: 0.6354 - loss: 0.9921\n",
      "Test Accuracy: 0.77\n",
      "Test Loss: 0.62\n"
     ]
    }
   ],
   "source": [
    "test_loss, test_accuracy = model.evaluate(test_generator)\n",
    "print(f\"Test Accuracy: {test_accuracy:.2f}\")\n",
    "print(f\"Test Loss: {test_loss:.2f}\")"
   ]
  },
  {
   "cell_type": "markdown",
   "id": "d7f19122",
   "metadata": {},
   "source": [
    "### Confusion Matrix"
   ]
  },
  {
   "cell_type": "code",
   "execution_count": 21,
   "id": "8dac93ad",
   "metadata": {},
   "outputs": [
    {
     "name": "stdout",
     "output_type": "stream",
     "text": [
      "\u001b[1m3/3\u001b[0m \u001b[32m━━━━━━━━━━━━━━━━━━━━\u001b[0m\u001b[37m\u001b[0m \u001b[1m1s\u001b[0m 261ms/step\n",
      "[[26 22]\n",
      " [ 0 48]]\n",
      "              precision    recall  f1-score   support\n",
      "\n",
      "           0       1.00      0.54      0.70        48\n",
      "           1       0.69      1.00      0.81        48\n",
      "\n",
      "    accuracy                           0.77        96\n",
      "   macro avg       0.84      0.77      0.76        96\n",
      "weighted avg       0.84      0.77      0.76        96\n",
      "\n"
     ]
    }
   ],
   "source": [
    "# Import functions for evaluating classification performance from scikit-learn\n",
    "from sklearn.metrics import confusion_matrix, classification_report\n",
    "\n",
    "# Get the true labels from the test generator\n",
    "# This will be an array of true class labels for the test dataset\n",
    "true_labels = test_generator.classes\n",
    "\n",
    "# Generate predictions for the test dataset using the trained model\n",
    "# This method returns the predicted probabilities for each class\n",
    "predictions = model.predict(test_generator)\n",
    "\n",
    "# Convert the predicted probabilities to binary labels\n",
    "# Using a threshold of 0.5 for binary classification\n",
    "# Reshape the array to ensure it matches the shape of true_labels\n",
    "predicted_labels = (predictions > 0.5).astype(int).reshape(-1)\n",
    "\n",
    "# Compute the confusion matrix to evaluate the performance of the model\n",
    "# The confusion matrix provides insights into true positives, false positives, true negatives, and false negatives\n",
    "cm = confusion_matrix(true_labels, predicted_labels)\n",
    "print(cm)\n",
    "\n",
    "# Generate a classification report that includes precision, recall, and F1-score\n",
    "# This report provides a detailed evaluation of the model's performance for each class\n",
    "print(classification_report(true_labels, predicted_labels))\n"
   ]
  },
  {
   "cell_type": "markdown",
   "id": "5c458f93",
   "metadata": {},
   "source": [
    "### Heatmap of Confusion Matrix"
   ]
  },
  {
   "cell_type": "code",
   "execution_count": 22,
   "id": "8fb42504",
   "metadata": {},
   "outputs": [
    {
     "data": {
      "image/png": "[encoded data removed]",
      "text/plain": [
       "<Figure size 800x600 with 2 Axes>"
      ]
     },
     "metadata": {},
     "output_type": "display_data"
    }
   ],
   "source": [
    "import numpy as np\n",
    "import seaborn as sns\n",
    "import matplotlib.pyplot as plt\n",
    "from sklearn.metrics import confusion_matrix\n",
    "\n",
    "# Assume true_labels and predicted_labels are already defined as in the previous example\n",
    "\n",
    "# Compute confusion matrix\n",
    "cm = confusion_matrix(true_labels, predicted_labels)\n",
    "\n",
    "# Define class names\n",
    "class_names = ['Non-Acne', 'Acne']\n",
    "\n",
    "# Create a heatmap\n",
    "plt.figure(figsize=(8, 6))\n",
    "sns.heatmap(cm, annot=True, fmt='d', cmap='Blues', xticklabels=class_names, yticklabels=class_names)\n",
    "plt.title('Confusion Matrix')\n",
    "plt.xlabel('Predicted Class')\n",
    "plt.ylabel('True Class')\n",
    "plt.show()\n"
   ]
  },
  {
   "cell_type": "markdown",
   "id": "973139cb",
   "metadata": {},
   "source": [
    "### ROC Curve and AUC (Area Under the Curve)"
   ]
  },
  {
   "cell_type": "code",
   "execution_count": 23,
   "id": "dcb1de8c",
   "metadata": {},
   "outputs": [
    {
     "data": {
      "image/png": "[encoded data removed]",
      "text/plain": [
       "<Figure size 640x480 with 1 Axes>"
      ]
     },
     "metadata": {},
     "output_type": "display_data"
    }
   ],
   "source": [
    "from sklearn.metrics import roc_curve, auc\n",
    "import matplotlib.pyplot as plt\n",
    "\n",
    "# Compute ROC curve and AUC\n",
    "fpr, tpr, _ = roc_curve(true_labels, predictions)\n",
    "roc_auc = auc(fpr, tpr)\n",
    "\n",
    "# Plot ROC curve\n",
    "plt.figure()\n",
    "plt.plot(fpr, tpr, color='blue', lw=2, label=f'ROC curve (area = {roc_auc:.2f})')\n",
    "plt.plot([0, 1], [0, 1], color='gray', lw=2, linestyle='--')\n",
    "plt.xlim([0.0, 1.0])\n",
    "plt.ylim([0.0, 1.05])\n",
    "plt.xlabel('False Positive Rate')\n",
    "plt.ylabel('True Positive Rate')\n",
    "plt.title('Receiver Operating Characteristic (ROC)')\n",
    "plt.legend(loc='lower right')\n",
    "plt.show()\n"
   ]
  },
  {
   "cell_type": "markdown",
   "id": "c5323619",
   "metadata": {},
   "source": [
    "### Precision vs Recall vs F1-Score"
   ]
  },
  {
   "cell_type": "code",
   "execution_count": 24,
   "id": "94a08195",
   "metadata": {},
   "outputs": [
    {
     "data": {
      "image/png": "[encoded data removed]",
      "text/plain": [
       "<Figure size 1000x600 with 1 Axes>"
      ]
     },
     "metadata": {},
     "output_type": "display_data"
    }
   ],
   "source": [
    "import numpy as np\n",
    "import matplotlib.pyplot as plt\n",
    "import seaborn as sns\n",
    "from sklearn.metrics import classification_report\n",
    "\n",
    "# Assuming true_labels and predicted_labels are defined\n",
    "# true_labels: Actual labels\n",
    "# predicted_labels: Predicted labels by the model\n",
    "\n",
    "# Generate a classification report\n",
    "report = classification_report(true_labels, predicted_labels, target_names=['Non-Acne', 'Acne'], output_dict=True)\n",
    "\n",
    "# Extract Precision, Recall, and F1-Score for each class\n",
    "metrics = ['precision', 'recall', 'f1-score']\n",
    "classes = ['Non-Acne', 'Acne']\n",
    "values = {metric: [report[class_name][metric] for class_name in classes] for metric in metrics}\n",
    "\n",
    "# Convert to a format suitable for seaborn\n",
    "metrics_data = []\n",
    "for metric, scores in values.items():\n",
    "    for score, class_name in zip(scores, classes):\n",
    "        metrics_data.append({'Metric': metric, 'Class': class_name, 'Score': score})\n",
    "\n",
    "# Create a DataFrame\n",
    "import pandas as pd\n",
    "df_metrics = pd.DataFrame(metrics_data)\n",
    "\n",
    "# Plot the metrics\n",
    "plt.figure(figsize=(10, 6))\n",
    "sns.barplot(x='Metric', y='Score', hue='Class', data=df_metrics, palette='Set2')\n",
    "plt.title('Precision, Recall, and F1-Score Comparison')\n",
    "plt.ylim(0, 1)  # All metrics are between 0 and 1\n",
    "plt.ylabel('Score')\n",
    "plt.show()\n"
   ]
  },
  {
   "cell_type": "markdown",
   "id": "d90f5a86",
   "metadata": {},
   "source": [
    "### Matthews Correlation Coefficient (MCC)\n",
    "\n",
    "These metrics provide a more comprehensive evaluation of your model's performance, helping to understand its strengths and weaknesses, especially in the context of medical diagnostics where accurate classification is critical."
   ]
  },
  {
   "cell_type": "code",
   "execution_count": 25,
   "id": "81799e40",
   "metadata": {},
   "outputs": [
    {
     "name": "stdout",
     "output_type": "stream",
     "text": [
      "MCC: 0.61\n"
     ]
    }
   ],
   "source": [
    "from sklearn.metrics import matthews_corrcoef\n",
    "\n",
    "mcc = matthews_corrcoef(true_labels, predicted_labels)\n",
    "print(f'MCC: {mcc:.2f}')\n"
   ]
  },
  {
   "cell_type": "markdown",
   "id": "413e6060",
   "metadata": {},
   "source": [
    "### Making predictions using a single image"
   ]
  },
  {
   "cell_type": "code",
   "execution_count": 18,
   "id": "9b4a8cff",
   "metadata": {},
   "outputs": [
    {
     "name": "stdout",
     "output_type": "stream",
     "text": [
      "\u001b[1m1/1\u001b[0m \u001b[32m━━━━━━━━━━━━━━━━━━━━\u001b[0m\u001b[37m\u001b[0m \u001b[1m0s\u001b[0m 40ms/step\n",
      "Predicted Label: Acne\n"
     ]
    }
   ],
   "source": [
    "# Import necessary libraries\n",
    "import numpy as np  # For numerical operations\n",
    "from tensorflow.keras.preprocessing import image  # For image preprocessing\n",
    "from tensorflow.keras.applications.vgg16 import preprocess_input  # For VGG16-specific preprocessing\n",
    "from tensorflow.keras.models import load_model  # For loading a saved model\n",
    "\n",
    "# Load and preprocess the image\n",
    "img_path = \"dataset/single_prediction/skin_2.jpeg\"  # Path to the image file\n",
    "img = image.load_img(img_path, target_size=(224, 224))  # Load the image and resize it to 224x224 pixels\n",
    "img_array = image.img_to_array(img)  # Convert the image to a numpy array\n",
    "img_array = np.expand_dims(img_array, axis=0)  # Add a batch dimension (1, 224, 224, 3)\n",
    "img_array = preprocess_input(img_array)  # Apply VGG16-specific preprocessing (scaling pixel values)\n",
    "\n",
    "# Make a prediction using the trained model\n",
    "prediction = model.predict(img_array)  # Get the predicted probability from the model\n",
    "prediction_class = (prediction > 0.5).astype(int)  # Convert probability to binary class label\n",
    "\n",
    "# Map prediction to class label\n",
    "class_labels = ['Non-Acne', 'Acne']  # Define the class labels\n",
    "predicted_label = class_labels[prediction_class[0][0]]  # Get the predicted class label\n",
    "\n",
    "# Print the predicted class label\n",
    "print(f'Predicted Label: {predicted_label}')  # Output the predicted label\n"
   ]
  },
  {
   "cell_type": "markdown",
   "id": "9b1debd5",
   "metadata": {},
   "source": [
    "### Saving the Modelm"
   ]
  },
  {
   "cell_type": "code",
   "execution_count": 27,
   "id": "137970bf",
   "metadata": {},
   "outputs": [
    {
     "name": "stderr",
     "output_type": "stream",
     "text": [
      "WARNING:absl:You are saving your model as an HDF5 file via `model.save()` or `keras.saving.save_model(model)`. This file format is considered legacy. We recommend using instead the native Keras format, e.g. `model.save('my_model.keras')` or `keras.saving.save_model(model, 'my_model.keras')`. \n"
     ]
    }
   ],
   "source": [
    "from tensorflow.keras.models import save_model\n",
    "\n",
    "# Assuming `model` is your trained Keras model\n",
    "model.save('CustomModel.h5')  # Save model to HDF5 file\n"
   ]
  },
  {
   "cell_type": "markdown",
   "id": "394731a0",
   "metadata": {},
   "source": [
    "### Testing all the acne files"
   ]
  },
  {
   "cell_type": "code",
   "execution_count": 76,
   "id": "d57f4fe5",
   "metadata": {},
   "outputs": [
    {
     "name": "stdout",
     "output_type": "stream",
     "text": [
      "\u001b[1m1/1\u001b[0m \u001b[32m━━━━━━━━━━━━━━━━━━━━\u001b[0m\u001b[37m\u001b[0m \u001b[1m0s\u001b[0m 23ms/step\n",
      "Predicted Label for acne-286_jpeg.rf.1b6bcca440593ac6e33617083f34a4c5.jpg: Acne\n",
      "\u001b[1m1/1\u001b[0m \u001b[32m━━━━━━━━━━━━━━━━━━━━\u001b[0m\u001b[37m\u001b[0m \u001b[1m0s\u001b[0m 23ms/step\n",
      "Predicted Label for acne-422_jpeg.rf.c90a75e149931778d9c643273737df59.jpg: Acne\n",
      "\u001b[1m1/1\u001b[0m \u001b[32m━━━━━━━━━━━━━━━━━━━━\u001b[0m\u001b[37m\u001b[0m \u001b[1m0s\u001b[0m 23ms/step\n",
      "Predicted Label for acne-276_jpeg.rf.9d0990f99dee0e0ec17d89fd07384e0b.jpg: Acne\n",
      "\u001b[1m1/1\u001b[0m \u001b[32m━━━━━━━━━━━━━━━━━━━━\u001b[0m\u001b[37m\u001b[0m \u001b[1m0s\u001b[0m 24ms/step\n",
      "Predicted Label for acne-140_jpg.rf.785b2c29676c422c6a1cdbe6708f86e8.jpg: Acne\n",
      "\u001b[1m1/1\u001b[0m \u001b[32m━━━━━━━━━━━━━━━━━━━━\u001b[0m\u001b[37m\u001b[0m \u001b[1m0s\u001b[0m 24ms/step\n",
      "Predicted Label for acne-84_jpeg.rf.040421ad53965f5f41ddc6f6a8edef9f.jpg: Acne\n",
      "\u001b[1m1/1\u001b[0m \u001b[32m━━━━━━━━━━━━━━━━━━━━\u001b[0m\u001b[37m\u001b[0m \u001b[1m0s\u001b[0m 23ms/step\n",
      "Predicted Label for acne-60_jpeg.rf.f2694c8e6226c725ff40b771560b5e06.jpg: Acne\n",
      "\u001b[1m1/1\u001b[0m \u001b[32m━━━━━━━━━━━━━━━━━━━━\u001b[0m\u001b[37m\u001b[0m \u001b[1m0s\u001b[0m 23ms/step\n",
      "Predicted Label for acne-25_jpeg.rf.61edfe1eaf01bce48403a1a22f693a86.jpg: Non-Acne\n",
      "\u001b[1m1/1\u001b[0m \u001b[32m━━━━━━━━━━━━━━━━━━━━\u001b[0m\u001b[37m\u001b[0m \u001b[1m0s\u001b[0m 24ms/step\n",
      "Predicted Label for acne-32_jpeg.rf.6cfebd1da197182fd10391fc051d7308.jpg: Acne\n",
      "\u001b[1m1/1\u001b[0m \u001b[32m━━━━━━━━━━━━━━━━━━━━\u001b[0m\u001b[37m\u001b[0m \u001b[1m0s\u001b[0m 24ms/step\n",
      "Predicted Label for acne-355_jpeg.rf.a407ad30612ee0eea150efed8772694d.jpg: Acne\n",
      "\u001b[1m1/1\u001b[0m \u001b[32m━━━━━━━━━━━━━━━━━━━━\u001b[0m\u001b[37m\u001b[0m \u001b[1m0s\u001b[0m 23ms/step\n",
      "Predicted Label for acne-49_jpeg.rf.3c951af43df31b304067823e836ec20b.jpg: Acne\n",
      "\u001b[1m1/1\u001b[0m \u001b[32m━━━━━━━━━━━━━━━━━━━━\u001b[0m\u001b[37m\u001b[0m \u001b[1m0s\u001b[0m 23ms/step\n",
      "Predicted Label for acne-166_jpg.rf.a12f2acc98f6a862f6d8b7d28306e6ff.jpg: Acne\n",
      "\u001b[1m1/1\u001b[0m \u001b[32m━━━━━━━━━━━━━━━━━━━━\u001b[0m\u001b[37m\u001b[0m \u001b[1m0s\u001b[0m 23ms/step\n",
      "Predicted Label for acne-187_jpg.rf.a4bc43c7fb75ea9ddc00fa14bf06eda5.jpg: Acne\n",
      "\u001b[1m1/1\u001b[0m \u001b[32m━━━━━━━━━━━━━━━━━━━━\u001b[0m\u001b[37m\u001b[0m \u001b[1m0s\u001b[0m 21ms/step\n",
      "Predicted Label for acne-7_jpeg.rf.34ee37b930f592f787bb8d1bf6b37d30.jpg: Acne\n",
      "\u001b[1m1/1\u001b[0m \u001b[32m━━━━━━━━━━━━━━━━━━━━\u001b[0m\u001b[37m\u001b[0m \u001b[1m0s\u001b[0m 23ms/step\n",
      "Predicted Label for acne-92_jpeg.rf.ffaa4abd4c59b50edc52a68d96de7679.jpg: Acne\n",
      "\u001b[1m1/1\u001b[0m \u001b[32m━━━━━━━━━━━━━━━━━━━━\u001b[0m\u001b[37m\u001b[0m \u001b[1m0s\u001b[0m 25ms/step\n",
      "Predicted Label for acne-440_jpeg.rf.74f7f4b7cabd5d5e65c05367b20cb921.jpg: Acne\n",
      "\u001b[1m1/1\u001b[0m \u001b[32m━━━━━━━━━━━━━━━━━━━━\u001b[0m\u001b[37m\u001b[0m \u001b[1m0s\u001b[0m 24ms/step\n",
      "Predicted Label for acne-95_jpeg.rf.28c5c0321aca3fbff22844c56937dbfd.jpg: Acne\n",
      "\u001b[1m1/1\u001b[0m \u001b[32m━━━━━━━━━━━━━━━━━━━━\u001b[0m\u001b[37m\u001b[0m \u001b[1m0s\u001b[0m 24ms/step\n",
      "Predicted Label for acne-202_jpg.rf.3cb4d03fc5719519ae3f8319099eddef.jpg: Acne\n",
      "\u001b[1m1/1\u001b[0m \u001b[32m━━━━━━━━━━━━━━━━━━━━\u001b[0m\u001b[37m\u001b[0m \u001b[1m0s\u001b[0m 24ms/step\n",
      "Predicted Label for acne-102_jpeg.rf.d15b34dc9a1e69aa996118a4c1a173ef.jpg: Acne\n",
      "\u001b[1m1/1\u001b[0m \u001b[32m━━━━━━━━━━━━━━━━━━━━\u001b[0m\u001b[37m\u001b[0m \u001b[1m0s\u001b[0m 24ms/step\n",
      "Predicted Label for acne-33_jpeg.rf.5f883b1bb6eacef56d03175d54955561.jpg: Acne\n",
      "\u001b[1m1/1\u001b[0m \u001b[32m━━━━━━━━━━━━━━━━━━━━\u001b[0m\u001b[37m\u001b[0m \u001b[1m0s\u001b[0m 24ms/step\n",
      "Predicted Label for acne-160_jpg.rf.b50f56372db5685c5301c83c555a777a.jpg: Acne\n",
      "\u001b[1m1/1\u001b[0m \u001b[32m━━━━━━━━━━━━━━━━━━━━\u001b[0m\u001b[37m\u001b[0m \u001b[1m0s\u001b[0m 23ms/step\n",
      "Predicted Label for acne-70_jpeg.rf.79a8da468a25fbeeb5a047793a3e9a4d.jpg: Acne\n",
      "\u001b[1m1/1\u001b[0m \u001b[32m━━━━━━━━━━━━━━━━━━━━\u001b[0m\u001b[37m\u001b[0m \u001b[1m0s\u001b[0m 24ms/step\n",
      "Predicted Label for acne-144_jpg.rf.e7404e17167235e55bc46e5c3914e22f.jpg: Acne\n",
      "\u001b[1m1/1\u001b[0m \u001b[32m━━━━━━━━━━━━━━━━━━━━\u001b[0m\u001b[37m\u001b[0m \u001b[1m0s\u001b[0m 25ms/step\n",
      "Predicted Label for acne-151_jpg.rf.638c693eb9342b4800bd8b1758e566e1.jpg: Acne\n",
      "\u001b[1m1/1\u001b[0m \u001b[32m━━━━━━━━━━━━━━━━━━━━\u001b[0m\u001b[37m\u001b[0m \u001b[1m0s\u001b[0m 24ms/step\n",
      "Predicted Label for acne-105_jpeg.rf.e9b2ecfb4afb0217f046179f125242d2.jpg: Acne\n",
      "\u001b[1m1/1\u001b[0m \u001b[32m━━━━━━━━━━━━━━━━━━━━\u001b[0m\u001b[37m\u001b[0m \u001b[1m0s\u001b[0m 27ms/step\n",
      "Predicted Label for acne-404_jpeg.rf.120f5acce0b15ea040f6e1a6f8a16dd5.jpg: Acne\n",
      "\u001b[1m1/1\u001b[0m \u001b[32m━━━━━━━━━━━━━━━━━━━━\u001b[0m\u001b[37m\u001b[0m \u001b[1m0s\u001b[0m 23ms/step\n",
      "Predicted Label for acne-230_jpg.rf.92c53cee80df6a2454765f7636b67d1a.jpg: Acne\n",
      "\u001b[1m1/1\u001b[0m \u001b[32m━━━━━━━━━━━━━━━━━━━━\u001b[0m\u001b[37m\u001b[0m \u001b[1m0s\u001b[0m 21ms/step\n",
      "Predicted Label for acne-57_jpeg.rf.b9ed02768080fdfcf648eef4e58c1904.jpg: Acne\n",
      "\u001b[1m1/1\u001b[0m \u001b[32m━━━━━━━━━━━━━━━━━━━━\u001b[0m\u001b[37m\u001b[0m \u001b[1m0s\u001b[0m 23ms/step\n",
      "Predicted Label for acne-167_jpg.rf.ca7f225b1a40cb053f3f590585061393.jpg: Acne\n",
      "\u001b[1m1/1\u001b[0m \u001b[32m━━━━━━━━━━━━━━━━━━━━\u001b[0m\u001b[37m\u001b[0m \u001b[1m0s\u001b[0m 25ms/step\n",
      "Predicted Label for acne-290_jpeg.rf.116ac413d37048340ce6c5b36e1b9d8a.jpg: Acne\n",
      "\u001b[1m1/1\u001b[0m \u001b[32m━━━━━━━━━━━━━━━━━━━━\u001b[0m\u001b[37m\u001b[0m \u001b[1m0s\u001b[0m 24ms/step\n",
      "Predicted Label for acne-15_jpeg.rf.510f6ab6153777e8087f1439ef39d8cc.jpg: Acne\n",
      "\u001b[1m1/1\u001b[0m \u001b[32m━━━━━━━━━━━━━━━━━━━━\u001b[0m\u001b[37m\u001b[0m \u001b[1m0s\u001b[0m 24ms/step\n",
      "Predicted Label for acne-194_jpg.rf.1d82dbb7c1fa130420898223ef06720a.jpg: Acne\n",
      "\u001b[1m1/1\u001b[0m \u001b[32m━━━━━━━━━━━━━━━━━━━━\u001b[0m\u001b[37m\u001b[0m \u001b[1m0s\u001b[0m 24ms/step\n",
      "Predicted Label for acne-112_jpeg.rf.a03c796422719e964f46be1c118861bc.jpg: Acne\n",
      "\u001b[1m1/1\u001b[0m \u001b[32m━━━━━━━━━━━━━━━━━━━━\u001b[0m\u001b[37m\u001b[0m \u001b[1m0s\u001b[0m 24ms/step\n",
      "Predicted Label for acne-5_jpeg.rf.2d6671715f0149df7b494c4d3f12a98b.jpg: Acne\n",
      "\u001b[1m1/1\u001b[0m \u001b[32m━━━━━━━━━━━━━━━━━━━━\u001b[0m\u001b[37m\u001b[0m \u001b[1m0s\u001b[0m 24ms/step\n",
      "Predicted Label for acne-219_jpg.rf.49ae2c76139959c042cfa3cf03848824.jpg: Acne\n",
      "\u001b[1m1/1\u001b[0m \u001b[32m━━━━━━━━━━━━━━━━━━━━\u001b[0m\u001b[37m\u001b[0m \u001b[1m0s\u001b[0m 26ms/step\n",
      "Predicted Label for acne-172_jpg.rf.f8ed4f69412f8420d6628e206113b64c.jpg: Acne\n",
      "\u001b[1m1/1\u001b[0m \u001b[32m━━━━━━━━━━━━━━━━━━━━\u001b[0m\u001b[37m\u001b[0m \u001b[1m0s\u001b[0m 25ms/step\n",
      "Predicted Label for acne-329_jpeg.rf.705fb900ba87dc12538508177c52c8a6.jpg: Non-Acne\n",
      "\u001b[1m1/1\u001b[0m \u001b[32m━━━━━━━━━━━━━━━━━━━━\u001b[0m\u001b[37m\u001b[0m \u001b[1m0s\u001b[0m 22ms/step\n",
      "Predicted Label for acne-370_jpeg.rf.a774873f1db723d298598b08cfc47315.jpg: Acne\n",
      "\u001b[1m1/1\u001b[0m \u001b[32m━━━━━━━━━━━━━━━━━━━━\u001b[0m\u001b[37m\u001b[0m \u001b[1m0s\u001b[0m 26ms/step\n",
      "Predicted Label for acne-457_jpeg.rf.96817d48e7a4fe76651012d96df43141.jpg: Acne\n",
      "\u001b[1m1/1\u001b[0m \u001b[32m━━━━━━━━━━━━━━━━━━━━\u001b[0m\u001b[37m\u001b[0m \u001b[1m0s\u001b[0m 23ms/step\n",
      "Predicted Label for acne-75_jpeg.rf.d648e68373adc0adfd965b63d4632a48.jpg: Acne\n",
      "\u001b[1m1/1\u001b[0m \u001b[32m━━━━━━━━━━━━━━━━━━━━\u001b[0m\u001b[37m\u001b[0m \u001b[1m0s\u001b[0m 23ms/step\n",
      "Predicted Label for acne-99_jpeg.rf.38ff75b46468fb68d29e4125bde66e86.jpg: Acne\n",
      "\u001b[1m1/1\u001b[0m \u001b[32m━━━━━━━━━━━━━━━━━━━━\u001b[0m\u001b[37m\u001b[0m \u001b[1m0s\u001b[0m 22ms/step\n",
      "Predicted Label for acne-161_jpg.rf.78459635cae3ff835cac7159c10bce51.jpg: Acne\n",
      "\u001b[1m1/1\u001b[0m \u001b[32m━━━━━━━━━━━━━━━━━━━━\u001b[0m\u001b[37m\u001b[0m \u001b[1m0s\u001b[0m 23ms/step\n",
      "Predicted Label for acne-206_jpg.rf.8c9e6075fe0cfed1632f82cf23a2d9e4.jpg: Acne\n",
      "\u001b[1m1/1\u001b[0m \u001b[32m━━━━━━━━━━━━━━━━━━━━\u001b[0m\u001b[37m\u001b[0m \u001b[1m0s\u001b[0m 25ms/step\n",
      "Predicted Label for acne-209_jpg.rf.a1dde106a5e5c3cd2b93666e9e226930.jpg: Acne\n",
      "\u001b[1m1/1\u001b[0m \u001b[32m━━━━━━━━━━━━━━━━━━━━\u001b[0m\u001b[37m\u001b[0m \u001b[1m0s\u001b[0m 22ms/step\n",
      "Predicted Label for acne-158_jpg.rf.9c07578d00524a159f65bff978a79c5a.jpg: Acne\n",
      "\u001b[1m1/1\u001b[0m \u001b[32m━━━━━━━━━━━━━━━━━━━━\u001b[0m\u001b[37m\u001b[0m \u001b[1m0s\u001b[0m 24ms/step\n",
      "Predicted Label for acne-155_jpg.rf.96681853cd48ff20eb8c2f0e3f32bdbf.jpg: Acne\n",
      "\u001b[1m1/1\u001b[0m \u001b[32m━━━━━━━━━━━━━━━━━━━━\u001b[0m\u001b[37m\u001b[0m \u001b[1m0s\u001b[0m 25ms/step\n",
      "Predicted Label for acne-128_jpg.rf.e3826584d02398d0f1d915cf3365a959.jpg: Acne\n",
      "\u001b[1m1/1\u001b[0m \u001b[32m━━━━━━━━━━━━━━━━━━━━\u001b[0m\u001b[37m\u001b[0m \u001b[1m0s\u001b[0m 23ms/step\n",
      "Predicted Label for acne-239_jpg.rf.08487e45a5ca975c038eabe8464b0c87.jpg: Acne\n",
      "\u001b[1m1/1\u001b[0m \u001b[32m━━━━━━━━━━━━━━━━━━━━\u001b[0m\u001b[37m\u001b[0m \u001b[1m0s\u001b[0m 24ms/step\n",
      "Predicted Label for acne-236_jpg.rf.c937d8c3c60bac296eb9e3b9237e13aa.jpg: Acne\n"
     ]
    }
   ],
   "source": [
    "import os\n",
    "import numpy as np\n",
    "from tensorflow.keras.preprocessing import image  # For image preprocessing\n",
    "from tensorflow.keras.applications.vgg16 import preprocess_input  # For VGG16-specific preprocessing\n",
    "from tensorflow.keras.models import load_model  # For loading a saved model\n",
    "\n",
    "# Define the directory path\n",
    "acne_path = \"../dataset/testing/acne/\"\n",
    "\n",
    "# Get a list of all files and directories in the specified directory\n",
    "all_acne_files = os.listdir(acne_path)\n",
    "\n",
    "# Filter out only files\n",
    "acne_files = [f for f in all_acne_files if os.path.isfile(os.path.join(acne_path, f))]\n",
    "\n",
    "\n",
    "# Iterate over each file in the acne directory\n",
    "for file_name in acne_files:\n",
    "    # Load and preprocess the image\n",
    "    img_path = os.path.join(acne_path, file_name)  # Construct the full path to the image\n",
    "    img = image.load_img(img_path, target_size=(224, 224))  # Load the image and resize it\n",
    "    img_array = image.img_to_array(img)  # Convert the image to a numpy array\n",
    "    img_array = np.expand_dims(img_array, axis=0)  # Add a batch dimension (1, 224, 224, 3)\n",
    "    img_array = preprocess_input(img_array)  # Apply VGG16-specific preprocessing\n",
    "\n",
    "    # Make a prediction using the trained model\n",
    "    prediction = model.predict(img_array)  # Get the predicted probability from the model\n",
    "    prediction_class = (prediction > 0.5).astype(int)  # Convert probability to binary class label\n",
    "\n",
    "    # Map prediction to class label\n",
    "    class_labels = ['Non-Acne', 'Acne']  # Define the class labels\n",
    "    predicted_label = class_labels[prediction_class[0][0]]  # Get the predicted class label\n",
    "\n",
    "    # Print the predicted class label\n",
    "    print(f'Predicted Label for {file_name}: {predicted_label}')  # Output the predicted label\n"
   ]
  },
  {
   "cell_type": "code",
   "execution_count": null,
   "id": "c062db8e",
   "metadata": {},
   "outputs": [],
   "source": []
  },
  {
   "cell_type": "code",
   "execution_count": null,
   "id": "500dbb1a",
   "metadata": {},
   "outputs": [],
   "source": [
    "import os\n",
    "import numpy as np\n",
    "from tensorflow.keras.preprocessing import image  # For image preprocessing\n",
    "from tensorflow.keras.applications.vgg16 import preprocess_input  # For VGG16-specific preprocessing\n",
    "from tensorflow.keras.models import load_model  # For loading a saved model\n",
    "\n",
    "# Define the directory path\n",
    "acne_path = \"../dataset/testing/acne/\"\n",
    "\n",
    "# Get a list of all files and directories in the specified directory\n",
    "all_acne_files = os.listdir(acne_path)\n",
    "\n",
    "# Filter out only files\n",
    "acne_files = [f for f in all_acne_files if os.path.isfile(os.path.join(acne_path, f))]\n",
    "\n",
    "\n",
    "# Iterate over each file in the acne directory\n",
    "for file_name in acne_files:\n",
    "    # Load and preprocess the image\n",
    "    img_path = os.path.join(acne_path, file_name)  # Construct the full path to the image\n",
    "    img = image.load_img(img_path, target_size=(224, 224))  # Load the image and resize it\n",
    "    img_array = image.img_to_array(img)  # Convert the image to a numpy array\n",
    "    img_array = np.expand_dims(img_array, axis=0)  # Add a batch dimension (1, 224, 224, 3)\n",
    "    img_array = preprocess_input(img_array)  # Apply VGG16-specific preprocessing\n",
    "\n",
    "    # Make a prediction using the trained model\n",
    "    prediction = model.predict(img_array)  # Get the predicted probability from the model\n",
    "    prediction_class = (prediction > 0.5).astype(int)  # Convert probability to binary class label\n",
    "\n",
    "    # Map prediction to class label\n",
    "    class_labels = ['Non-Acne', 'Acne']  # Define the class labels\n",
    "    predicted_label = class_labels[prediction_class[0][0]]  # Get the predicted class label\n",
    "\n",
    "    # Print the predicted class label\n",
    "    print(f'Predicted Label for {file_name}: {predicted_label}')  # Output the predicted label\n"
   ]
  },
  {
   "cell_type": "markdown",
   "id": "3660ff03",
   "metadata": {},
   "source": [
    "### Testing all the Non-acne files"
   ]
  },
  {
   "cell_type": "code",
   "execution_count": 80,
   "id": "e3803e26",
   "metadata": {},
   "outputs": [
    {
     "name": "stdout",
     "output_type": "stream",
     "text": [
      "\u001b[1m1/1\u001b[0m \u001b[32m━━━━━━━━━━━━━━━━━━━━\u001b[0m\u001b[37m\u001b[0m \u001b[1m0s\u001b[0m 23ms/step\n",
      "Predicted Label for actinic-keratosis-5FU-5.jpg: Acne\n",
      "\u001b[1m1/1\u001b[0m \u001b[32m━━━━━━━━━━━━━━━━━━━━\u001b[0m\u001b[37m\u001b[0m \u001b[1m0s\u001b[0m 23ms/step\n",
      "Predicted Label for eczema-hand-188.jpg: Acne\n",
      "\u001b[1m1/1\u001b[0m \u001b[32m━━━━━━━━━━━━━━━━━━━━\u001b[0m\u001b[37m\u001b[0m \u001b[1m0s\u001b[0m 24ms/step\n",
      "Predicted Label for basal-cell-carcinoma-lesion-109.jpg: Acne\n",
      "\u001b[1m1/1\u001b[0m \u001b[32m━━━━━━━━━━━━━━━━━━━━\u001b[0m\u001b[37m\u001b[0m \u001b[1m0s\u001b[0m 24ms/step\n",
      "Predicted Label for stasis-dermatitis-169.jpg: Acne\n",
      "\u001b[1m1/1\u001b[0m \u001b[32m━━━━━━━━━━━━━━━━━━━━\u001b[0m\u001b[37m\u001b[0m \u001b[1m0s\u001b[0m 24ms/step\n",
      "Predicted Label for actinic-keratosis-5FU-25.jpg: Acne\n",
      "\u001b[1m1/1\u001b[0m \u001b[32m━━━━━━━━━━━━━━━━━━━━\u001b[0m\u001b[37m\u001b[0m \u001b[1m0s\u001b[0m 24ms/step\n",
      "Predicted Label for basal-cell-carcinoma-lesion-94.jpg: Acne\n",
      "\u001b[1m1/1\u001b[0m \u001b[32m━━━━━━━━━━━━━━━━━━━━\u001b[0m\u001b[37m\u001b[0m \u001b[1m0s\u001b[0m 26ms/step\n",
      "Predicted Label for actinic-cheilitis-sq-cell-lip-54.jpg: Acne\n",
      "\u001b[1m1/1\u001b[0m \u001b[32m━━━━━━━━━━━━━━━━━━━━\u001b[0m\u001b[37m\u001b[0m \u001b[1m0s\u001b[0m 23ms/step\n",
      "Predicted Label for eczema-hand-133.jpg: Acne\n",
      "\u001b[1m1/1\u001b[0m \u001b[32m━━━━━━━━━━━━━━━━━━━━\u001b[0m\u001b[37m\u001b[0m \u001b[1m0s\u001b[0m 24ms/step\n",
      "Predicted Label for eczema-hyperkeratotic-2.jpg: Acne\n",
      "\u001b[1m1/1\u001b[0m \u001b[32m━━━━━━━━━━━━━━━━━━━━\u001b[0m\u001b[37m\u001b[0m \u001b[1m0s\u001b[0m 22ms/step\n",
      "Predicted Label for eczema-hand-14.jpg: Acne\n",
      "\u001b[1m1/1\u001b[0m \u001b[32m━━━━━━━━━━━━━━━━━━━━\u001b[0m\u001b[37m\u001b[0m \u001b[1m0s\u001b[0m 30ms/step\n",
      "Predicted Label for basal-cell-carcinoma-lesion-25.jpg: Acne\n",
      "\u001b[1m1/1\u001b[0m \u001b[32m━━━━━━━━━━━━━━━━━━━━\u001b[0m\u001b[37m\u001b[0m \u001b[1m0s\u001b[0m 23ms/step\n",
      "Predicted Label for 5T-0006.jpg: Acne\n",
      "\u001b[1m1/1\u001b[0m \u001b[32m━━━━━━━━━━━━━━━━━━━━\u001b[0m\u001b[37m\u001b[0m \u001b[1m0s\u001b[0m 24ms/step\n",
      "Predicted Label for 05SexLinkedEchthyosis0223.jpg: Acne\n",
      "\u001b[1m1/1\u001b[0m \u001b[32m━━━━━━━━━━━━━━━━━━━━\u001b[0m\u001b[37m\u001b[0m \u001b[1m0s\u001b[0m 23ms/step\n",
      "Predicted Label for actinic-keratosis-face-59.jpg: Acne\n",
      "\u001b[1m1/1\u001b[0m \u001b[32m━━━━━━━━━━━━━━━━━━━━\u001b[0m\u001b[37m\u001b[0m \u001b[1m0s\u001b[0m 24ms/step\n",
      "Predicted Label for dermatofibrosarcoma-3.jpg: Acne\n",
      "\u001b[1m1/1\u001b[0m \u001b[32m━━━━━━━━━━━━━━━━━━━━\u001b[0m\u001b[37m\u001b[0m \u001b[1m0s\u001b[0m 22ms/step\n",
      "Predicted Label for eczema-subacute-16.jpg: Acne\n",
      "\u001b[1m1/1\u001b[0m \u001b[32m━━━━━━━━━━━━━━━━━━━━\u001b[0m\u001b[37m\u001b[0m \u001b[1m0s\u001b[0m 24ms/step\n",
      "Predicted Label for basal-cell-carcinoma-lid-5.jpg: Acne\n",
      "\u001b[1m1/1\u001b[0m \u001b[32m━━━━━━━━━━━━━━━━━━━━\u001b[0m\u001b[37m\u001b[0m \u001b[1m0s\u001b[0m 25ms/step\n",
      "Predicted Label for epidermolysis-bullosa-1.jpg: Acne\n",
      "\u001b[1m1/1\u001b[0m \u001b[32m━━━━━━━━━━━━━━━━━━━━\u001b[0m\u001b[37m\u001b[0m \u001b[1m0s\u001b[0m 24ms/step\n",
      "Predicted Label for basal-cell-carcinoma-ear-14.jpg: Acne\n",
      "\u001b[1m1/1\u001b[0m \u001b[32m━━━━━━━━━━━━━━━━━━━━\u001b[0m\u001b[37m\u001b[0m \u001b[1m0s\u001b[0m 25ms/step\n",
      "Predicted Label for stasis-dermatitis-108.jpg: Acne\n",
      "\u001b[1m1/1\u001b[0m \u001b[32m━━━━━━━━━━━━━━━━━━━━\u001b[0m\u001b[37m\u001b[0m \u001b[1m0s\u001b[0m 25ms/step\n",
      "Predicted Label for basal-cell-carcinoma-lesion-52.jpg: Acne\n",
      "\u001b[1m1/1\u001b[0m \u001b[32m━━━━━━━━━━━━━━━━━━━━\u001b[0m\u001b[37m\u001b[0m \u001b[1m0s\u001b[0m 22ms/step\n",
      "Predicted Label for eczema-subacute-72.jpg: Acne\n",
      "\u001b[1m1/1\u001b[0m \u001b[32m━━━━━━━━━━━━━━━━━━━━\u001b[0m\u001b[37m\u001b[0m \u001b[1m0s\u001b[0m 24ms/step\n",
      "Predicted Label for actinic-keratosis-hand-19.jpg: Acne\n",
      "\u001b[1m1/1\u001b[0m \u001b[32m━━━━━━━━━━━━━━━━━━━━\u001b[0m\u001b[37m\u001b[0m \u001b[1m0s\u001b[0m 23ms/step\n",
      "Predicted Label for actinic-keratosis-face-4.jpg: Acne\n",
      "\u001b[1m1/1\u001b[0m \u001b[32m━━━━━━━━━━━━━━━━━━━━\u001b[0m\u001b[37m\u001b[0m \u001b[1m0s\u001b[0m 23ms/step\n",
      "Predicted Label for eczema-foot-86.jpg: Acne\n",
      "\u001b[1m1/1\u001b[0m \u001b[32m━━━━━━━━━━━━━━━━━━━━\u001b[0m\u001b[37m\u001b[0m \u001b[1m0s\u001b[0m 24ms/step\n",
      "Predicted Label for Staphylococcal-Folliculitis-33.jpg: Acne\n",
      "\u001b[1m1/1\u001b[0m \u001b[32m━━━━━━━━━━━━━━━━━━━━\u001b[0m\u001b[37m\u001b[0m \u001b[1m0s\u001b[0m 26ms/step\n",
      "Predicted Label for actinic-keratosis-face-22.jpg: Acne\n",
      "\u001b[1m1/1\u001b[0m \u001b[32m━━━━━━━━━━━━━━━━━━━━\u001b[0m\u001b[37m\u001b[0m \u001b[1m0s\u001b[0m 24ms/step\n",
      "Predicted Label for congenital-nevus-44.jpg: Acne\n",
      "\u001b[1m1/1\u001b[0m \u001b[32m━━━━━━━━━━━━━━━━━━━━\u001b[0m\u001b[37m\u001b[0m \u001b[1m0s\u001b[0m 22ms/step\n",
      "Predicted Label for 3Eczema1-057.jpg: Acne\n",
      "\u001b[1m1/1\u001b[0m \u001b[32m━━━━━━━━━━━━━━━━━━━━\u001b[0m\u001b[37m\u001b[0m \u001b[1m0s\u001b[0m 24ms/step\n",
      "Predicted Label for eczema-trunk-generalized-36.jpg: Acne\n",
      "\u001b[1m1/1\u001b[0m \u001b[32m━━━━━━━━━━━━━━━━━━━━\u001b[0m\u001b[37m\u001b[0m \u001b[1m0s\u001b[0m 24ms/step\n",
      "Predicted Label for Staphylococcal-Folliculitis-11.jpg: Acne\n",
      "\u001b[1m1/1\u001b[0m \u001b[32m━━━━━━━━━━━━━━━━━━━━\u001b[0m\u001b[37m\u001b[0m \u001b[1m0s\u001b[0m 23ms/step\n",
      "Predicted Label for actinic-keratosis-5FU-46.jpg: Acne\n",
      "\u001b[1m1/1\u001b[0m \u001b[32m━━━━━━━━━━━━━━━━━━━━\u001b[0m\u001b[37m\u001b[0m \u001b[1m0s\u001b[0m 24ms/step\n",
      "Predicted Label for Sycosis-Barbae-14.jpg: Acne\n",
      "\u001b[1m1/1\u001b[0m \u001b[32m━━━━━━━━━━━━━━━━━━━━\u001b[0m\u001b[37m\u001b[0m \u001b[1m0s\u001b[0m 24ms/step\n",
      "Predicted Label for eczema-hand-115.jpg: Acne\n",
      "\u001b[1m1/1\u001b[0m \u001b[32m━━━━━━━━━━━━━━━━━━━━\u001b[0m\u001b[37m\u001b[0m \u001b[1m0s\u001b[0m 21ms/step\n",
      "Predicted Label for basal-cell-carcinoma-lid-21.jpg: Acne\n",
      "\u001b[1m1/1\u001b[0m \u001b[32m━━━━━━━━━━━━━━━━━━━━\u001b[0m\u001b[37m\u001b[0m \u001b[1m0s\u001b[0m 21ms/step\n",
      "Predicted Label for eczema-hand-99.jpg: Acne\n",
      "\u001b[1m1/1\u001b[0m \u001b[32m━━━━━━━━━━━━━━━━━━━━\u001b[0m\u001b[37m\u001b[0m \u001b[1m0s\u001b[0m 23ms/step\n",
      "Predicted Label for stasis-dermatitis-14.jpg: Acne\n",
      "\u001b[1m1/1\u001b[0m \u001b[32m━━━━━━━━━━━━━━━━━━━━\u001b[0m\u001b[37m\u001b[0m \u001b[1m0s\u001b[0m 23ms/step\n",
      "Predicted Label for epidermolysis-bullosa-23.jpg: Acne\n",
      "\u001b[1m1/1\u001b[0m \u001b[32m━━━━━━━━━━━━━━━━━━━━\u001b[0m\u001b[37m\u001b[0m \u001b[1m0s\u001b[0m 25ms/step\n",
      "Predicted Label for 03EczemaAreolae021223.jpg: Acne\n",
      "\u001b[1m1/1\u001b[0m \u001b[32m━━━━━━━━━━━━━━━━━━━━\u001b[0m\u001b[37m\u001b[0m \u001b[1m0s\u001b[0m 22ms/step\n",
      "Predicted Label for basal-cell-carcinoma-lesion-126.jpg: Acne\n",
      "\u001b[1m1/1\u001b[0m \u001b[32m━━━━━━━━━━━━━━━━━━━━\u001b[0m\u001b[37m\u001b[0m \u001b[1m0s\u001b[0m 25ms/step\n",
      "Predicted Label for basal-cell-carcinoma-lip-1.jpg: Acne\n",
      "\u001b[1m1/1\u001b[0m \u001b[32m━━━━━━━━━━━━━━━━━━━━\u001b[0m\u001b[37m\u001b[0m \u001b[1m0s\u001b[0m 22ms/step\n",
      "Predicted Label for stasis-dermatitis-189.jpg: Acne\n",
      "\u001b[1m1/1\u001b[0m \u001b[32m━━━━━━━━━━━━━━━━━━━━\u001b[0m\u001b[37m\u001b[0m \u001b[1m0s\u001b[0m 24ms/step\n",
      "Predicted Label for eczema-foot-70.jpg: Acne\n",
      "\u001b[1m1/1\u001b[0m \u001b[32m━━━━━━━━━━━━━━━━━━━━\u001b[0m\u001b[37m\u001b[0m \u001b[1m0s\u001b[0m 25ms/step\n",
      "Predicted Label for actinic-keratosis-face-41.jpg: Acne\n",
      "\u001b[1m1/1\u001b[0m \u001b[32m━━━━━━━━━━━━━━━━━━━━\u001b[0m\u001b[37m\u001b[0m \u001b[1m0s\u001b[0m 23ms/step\n",
      "Predicted Label for stasis-dermatitis-80.jpg: Acne\n",
      "\u001b[1m1/1\u001b[0m \u001b[32m━━━━━━━━━━━━━━━━━━━━\u001b[0m\u001b[37m\u001b[0m \u001b[1m0s\u001b[0m 21ms/step\n",
      "Predicted Label for squamous-cell-carcinoma-nose-4.jpg: Acne\n",
      "\u001b[1m1/1\u001b[0m \u001b[32m━━━━━━━━━━━━━━━━━━━━\u001b[0m\u001b[37m\u001b[0m \u001b[1m0s\u001b[0m 23ms/step\n",
      "Predicted Label for diabetic-bullae-10.jpg: Acne\n",
      "\u001b[1m1/1\u001b[0m \u001b[32m━━━━━━━━━━━━━━━━━━━━\u001b[0m\u001b[37m\u001b[0m \u001b[1m0s\u001b[0m 23ms/step\n",
      "Predicted Label for actinic-keratosis-ear-2.jpg: Acne\n"
     ]
    }
   ],
   "source": [
    "import os\n",
    "import numpy as np\n",
    "from tensorflow.keras.preprocessing import image  # For image preprocessing\n",
    "from tensorflow.keras.applications.vgg16 import preprocess_input  # For VGG16-specific preprocessing\n",
    "from tensorflow.keras.models import load_model  # For loading a saved model\n",
    "\n",
    "# Define the directory path\n",
    "acne_path = \"../dataset/testing/skin/\"\n",
    "\n",
    "# Get a list of all files and directories in the specified directory\n",
    "non_acne_files = os.listdir(acne_path)\n",
    "\n",
    "# Filter out only files\n",
    "non_acne_files = [f for f in non_acne_files if os.path.isfile(os.path.join(acne_path, f))]\n",
    "\n",
    "\n",
    "# Iterate over each file in the acne directory\n",
    "for file_name in non_acne_files:\n",
    "    # Load and preprocess the image\n",
    "    img_path = os.path.join(acne_path, file_name)  # Construct the full path to the image\n",
    "    img = image.load_img(img_path, target_size=(224, 224))  # Load the image and resize it\n",
    "    img_array = image.img_to_array(img)  # Convert the image to a numpy array\n",
    "    img_array = np.expand_dims(img_array, axis=0)  # Add a batch dimension (1, 224, 224, 3)\n",
    "    img_array = preprocess_input(img_array)  # Apply VGG16-specific preprocessing\n",
    "\n",
    "    # Make a prediction using the trained model\n",
    "    prediction = model.predict(img_array)  # Get the predicted probability from the model\n",
    "    prediction_class = (prediction > 0.5).astype(int)  # Convert probability to binary class label\n",
    "\n",
    "    # Map prediction to class label\n",
    "    class_labels = ['Non-Acne', 'Acne']  # Define the class labels\n",
    "    predicted_label = class_labels[prediction_class[0][0]]  # Get the predicted class label\n",
    "\n",
    "    # Print the predicted class label\n",
    "    print(f'Predicted Label for {file_name}: {predicted_label}')  # Output the predicted label\n"
   ]
  },
  {
   "cell_type": "code",
   "execution_count": null,
   "id": "d650fa0b",
   "metadata": {},
   "outputs": [],
   "source": []
  }
 ],
 "metadata": {
  "kernelspec": {
   "display_name": "Python 3 (ipykernel)",
   "language": "python",
   "name": "python3"
  },
  "language_info": {
   "codemirror_mode": {
    "name": "ipython",
    "version": 3
   },
   "file_extension": ".py",
   "mimetype": "text/x-python",
   "name": "python",
   "nbconvert_exporter": "python",
   "pygments_lexer": "ipython3",
   "version": "3.11.5"
  }
 },
 "nbformat": 4,
 "nbformat_minor": 5
}
