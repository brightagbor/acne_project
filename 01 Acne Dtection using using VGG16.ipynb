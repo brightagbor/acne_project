{
 "cells": [
  {
   "cell_type": "markdown",
   "id": "4dc32060",
   "metadata": {},
   "source": [
    "# Acne Dtection using using VGG16"
   ]
  },
  {
   "cell_type": "markdown",
   "id": "6ca1d228",
   "metadata": {},
   "source": [
    "# Training and Validation"
   ]
  },
  {
   "cell_type": "markdown",
   "id": "0f8a831f",
   "metadata": {},
   "source": [
    "### Importing Dependencies"
   ]
  },
  {
   "cell_type": "code",
   "execution_count": 1,
   "id": "0397eeb3",
   "metadata": {},
   "outputs": [
    {
     "name": "stderr",
     "output_type": "stream",
     "text": [
      "2024-08-05 02:13:05.392515: I external/local_xla/xla/tsl/cuda/cudart_stub.cc:32] Could not find cuda drivers on your machine, GPU will not be used.\n",
      "2024-08-05 02:13:05.493146: I external/local_xla/xla/tsl/cuda/cudart_stub.cc:32] Could not find cuda drivers on your machine, GPU will not be used.\n",
      "2024-08-05 02:13:05.589809: E external/local_xla/xla/stream_executor/cuda/cuda_fft.cc:485] Unable to register cuFFT factory: Attempting to register factory for plugin cuFFT when one has already been registered\n",
      "2024-08-05 02:13:05.681837: E external/local_xla/xla/stream_executor/cuda/cuda_dnn.cc:8454] Unable to register cuDNN factory: Attempting to register factory for plugin cuDNN when one has already been registered\n",
      "2024-08-05 02:13:05.706153: E external/local_xla/xla/stream_executor/cuda/cuda_blas.cc:1452] Unable to register cuBLAS factory: Attempting to register factory for plugin cuBLAS when one has already been registered\n",
      "2024-08-05 02:13:05.849323: I tensorflow/core/platform/cpu_feature_guard.cc:210] This TensorFlow binary is optimized to use available CPU instructions in performance-critical operations.\n",
      "To enable the following instructions: AVX2 FMA, in other operations, rebuild TensorFlow with the appropriate compiler flags.\n",
      "2024-08-05 02:13:06.888065: W tensorflow/compiler/tf2tensorrt/utils/py_utils.cc:38] TF-TRT Warning: Could not find TensorRT\n"
     ]
    }
   ],
   "source": [
    "# Import the VGG16 model with pre-trained weights from Keras applications\n",
    "# VGG Stands for:  Visual Geometry Group (VGG)\n",
    "from tensorflow.keras.applications import VGG16\n",
    "\n",
    "# Import the Model class to build and manage our neural network\n",
    "from tensorflow.keras.models import Model\n",
    "\n",
    "# Import Dense and Flatten layers for building our custom layers\n",
    "from tensorflow.keras.layers import Dense, Flatten\n",
    "\n",
    "# Import ImageDataGenerator for data augmentation and preprocessing\n",
    "from tensorflow.keras.preprocessing.image import ImageDataGenerator\n",
    "\n",
    "# Import Adam optimizer for compiling the model\n",
    "from tensorflow.keras.optimizers import Adam\n"
   ]
  },
  {
   "cell_type": "markdown",
   "id": "f00d7d64",
   "metadata": {},
   "source": [
    "### Load the pre-trained VGG16 model, excluding the top layers\n",
    "Loading the pre-trained VGG16 model without its top layers lets you use its powerful feature-detecting abilities and then customize the final part to fit your specific task, saving time and improving accuracy."
   ]
  },
  {
   "cell_type": "code",
   "execution_count": 2,
   "id": "fc9af66c",
   "metadata": {},
   "outputs": [],
   "source": [
    "base_model = VGG16(weights='imagenet', include_top=False, input_shape=(224, 224, 3))"
   ]
  },
  {
   "cell_type": "markdown",
   "id": "51257567",
   "metadata": {},
   "source": [
    "### Freeze the base model layers to prevent them from being updated during training\n",
    "Freezing the base model layers prevents them from being updated during training so that their learned features remain intact, allowing you to only train the new layers you've added, which speeds up training and reduces the risk of overfitting on your new dataset."
   ]
  },
  {
   "cell_type": "code",
   "execution_count": 3,
   "id": "424828d1",
   "metadata": {},
   "outputs": [],
   "source": [
    "for layer in base_model.layers:\n",
    "    layer.trainable = False"
   ]
  },
  {
   "cell_type": "markdown",
   "id": "6a030943",
   "metadata": {},
   "source": [
    "### Add custom classification layers"
   ]
  },
  {
   "cell_type": "code",
   "execution_count": 4,
   "id": "225b9f5c",
   "metadata": {},
   "outputs": [],
   "source": [
    "# Flatten the output from the VGG16 model to convert the 2D feature maps into a 1D vector\n",
    "# This step is necessary before feeding the output into fully connected (Dense) layers\n",
    "x = Flatten()(base_model.output)\n",
    "\n",
    "# Add a Dense layer with 256 units and ReLU activation function\n",
    "# The ReLU function introduces non-linearity and allows the model to learn more complex patterns\n",
    "x = Dense(256, activation='relu')(x)\n",
    "\n",
    "# Add a final Dense layer with a single unit and sigmoid activation function\n",
    "# The sigmoid function outputs a probability score between 0 and 1 for binary classification\n",
    "# This layer is used to determine the presence or absence of the target class (e.g., acne vs. no acne)\n",
    "x = Dense(1, activation='sigmoid')(x)\n"
   ]
  },
  {
   "cell_type": "markdown",
   "id": "b19060fd",
   "metadata": {},
   "source": [
    "### Create the full model\n",
    "Create a new Model object by specifying the input from the base VGG16 model and the output from the custom layers\n",
    "This combines the feature extraction layers from VGG16 with the newly added classification layers into a single model."
   ]
  },
  {
   "cell_type": "code",
   "execution_count": 5,
   "id": "2f981988",
   "metadata": {},
   "outputs": [],
   "source": [
    "model = Model(inputs=base_model.input, outputs=x)"
   ]
  },
  {
   "cell_type": "markdown",
   "id": "d8e1e75c",
   "metadata": {},
   "source": [
    "### Compile the model"
   ]
  },
  {
   "cell_type": "markdown",
   "id": "ae3222b6",
   "metadata": {},
   "source": [
    "Compile the model with the Adam optimizer, binary cross-entropy loss function, and accuracy as a metric\n",
    "The Adam optimizer is used with a learning rate of 0.0001 to adjust the weights during training\n",
    "The binary cross-entropy loss function is suitable for binary classification tasks\n",
    "The model's performance will be evaluated using accuracy, which measures the proportion of correct predictions"
   ]
  },
  {
   "cell_type": "code",
   "execution_count": 6,
   "id": "a74306ff",
   "metadata": {},
   "outputs": [],
   "source": [
    "model.compile(optimizer=Adam(learning_rate=0.0001), loss='binary_crossentropy', metrics=['accuracy'])"
   ]
  },
  {
   "cell_type": "markdown",
   "id": "7316ca49",
   "metadata": {},
   "source": [
    "### Data augmentation and generators for training and validation"
   ]
  },
  {
   "cell_type": "code",
   "execution_count": 7,
   "id": "411392e1",
   "metadata": {},
   "outputs": [
    {
     "name": "stdout",
     "output_type": "stream",
     "text": [
      "Found 1646 images belonging to 2 classes.\n",
      "Found 112 images belonging to 2 classes.\n"
     ]
    }
   ],
   "source": [
    "# Create an ImageDataGenerator instance for the training dataset with data augmentation\n",
    "# This instance will preprocess and augment the training images to improve model generalization\n",
    "train_datagen = ImageDataGenerator(\n",
    "    rescale=1./255,           # Normalize pixel values to the range [0, 1]\n",
    "    rotation_range=30,        # Randomly rotate images by up to 30 degrees\n",
    "    shear_range=0.2,          # Apply random shearing transformations\n",
    "    zoom_range=0.2,           # Apply random zoom\n",
    "    horizontal_flip=True      # Randomly flip images horizontally\n",
    ")\n",
    "\n",
    "# Create an ImageDataGenerator instance for the validation dataset without data augmentation\n",
    "# This instance will only rescale the pixel values for consistent evaluation of the model\n",
    "val_datagen = ImageDataGenerator(rescale=1./255)\n",
    "\n",
    "# Generate batches of augmented image data from the training directory\n",
    "# The images will be resized to 224x224 pixels, and the batches will contain 32 images each\n",
    "# The class_mode='binary' indicates that the labels are binary (e.g., presence or absence of acne)\n",
    "train_generator = train_datagen.flow_from_directory(\n",
    "    \"dataset/training/\",     # Path to the training dataset directory\n",
    "    target_size=(224, 224),  # Resize images to 224x224 pixels\n",
    "    batch_size=32,           # Number of images to return in each batch\n",
    "    class_mode='binary'      # Binary classification labels\n",
    ")\n",
    "\n",
    "# Generate batches of image data from the validation directory\n",
    "# The images will be resized to 224x224 pixels, and the batches will contain 32 images each\n",
    "# The class_mode='binary' indicates that the labels are binary\n",
    "val_generator = val_datagen.flow_from_directory(\n",
    "    \"dataset/validation/\",   # Path to the validation dataset directory\n",
    "    target_size=(224, 224),  # Resize images to 224x224 pixels\n",
    "    batch_size=32,           # Number of images to return in each batch\n",
    "    class_mode='binary'      # Binary classification labels\n",
    ")\n"
   ]
  },
  {
   "cell_type": "markdown",
   "id": "d0ce5a34",
   "metadata": {},
   "source": [
    "### Train the model"
   ]
  },
  {
   "cell_type": "code",
   "execution_count": 8,
   "id": "00c8fe32",
   "metadata": {},
   "outputs": [
    {
     "name": "stdout",
     "output_type": "stream",
     "text": [
      "Epoch 1/25\n"
     ]
    },
    {
     "name": "stderr",
     "output_type": "stream",
     "text": [
      "/home/agbor/anaconda3/lib/python3.11/site-packages/keras/src/trainers/data_adapters/py_dataset_adapter.py:121: UserWarning: Your `PyDataset` class should call `super().__init__(**kwargs)` in its constructor. `**kwargs` can include `workers`, `use_multiprocessing`, `max_queue_size`. Do not pass these arguments to `fit()`, as they will be ignored.\n",
      "  self._warn_if_super_not_called()\n"
     ]
    },
    {
     "name": "stdout",
     "output_type": "stream",
     "text": [
      "\u001b[1m52/52\u001b[0m \u001b[32m━━━━━━━━━━━━━━━━━━━━\u001b[0m\u001b[37m\u001b[0m \u001b[1m299s\u001b[0m 6s/step - accuracy: 0.7359 - loss: 0.5128 - val_accuracy: 0.9196 - val_loss: 0.2452\n",
      "Epoch 2/25\n",
      "\u001b[1m52/52\u001b[0m \u001b[32m━━━━━━━━━━━━━━━━━━━━\u001b[0m\u001b[37m\u001b[0m \u001b[1m304s\u001b[0m 6s/step - accuracy: 0.9166 - loss: 0.2203 - val_accuracy: 0.9196 - val_loss: 0.2031\n",
      "Epoch 3/25\n",
      "\u001b[1m52/52\u001b[0m \u001b[32m━━━━━━━━━━━━━━━━━━━━\u001b[0m\u001b[37m\u001b[0m \u001b[1m309s\u001b[0m 6s/step - accuracy: 0.9359 - loss: 0.1755 - val_accuracy: 0.8393 - val_loss: 0.2997\n",
      "Epoch 4/25\n",
      "\u001b[1m52/52\u001b[0m \u001b[32m━━━━━━━━━━━━━━━━━━━━\u001b[0m\u001b[37m\u001b[0m \u001b[1m316s\u001b[0m 6s/step - accuracy: 0.9346 - loss: 0.1548 - val_accuracy: 0.8125 - val_loss: 0.3321\n",
      "Epoch 5/25\n",
      "\u001b[1m52/52\u001b[0m \u001b[32m━━━━━━━━━━━━━━━━━━━━\u001b[0m\u001b[37m\u001b[0m \u001b[1m321s\u001b[0m 6s/step - accuracy: 0.9444 - loss: 0.1489 - val_accuracy: 0.9196 - val_loss: 0.1907\n",
      "Epoch 6/25\n",
      "\u001b[1m52/52\u001b[0m \u001b[32m━━━━━━━━━━━━━━━━━━━━\u001b[0m\u001b[37m\u001b[0m \u001b[1m313s\u001b[0m 6s/step - accuracy: 0.9524 - loss: 0.1262 - val_accuracy: 0.9375 - val_loss: 0.1693\n",
      "Epoch 7/25\n",
      "\u001b[1m52/52\u001b[0m \u001b[32m━━━━━━━━━━━━━━━━━━━━\u001b[0m\u001b[37m\u001b[0m \u001b[1m306s\u001b[0m 6s/step - accuracy: 0.9667 - loss: 0.0993 - val_accuracy: 0.8661 - val_loss: 0.2773\n",
      "Epoch 8/25\n",
      "\u001b[1m52/52\u001b[0m \u001b[32m━━━━━━━━━━━━━━━━━━━━\u001b[0m\u001b[37m\u001b[0m \u001b[1m305s\u001b[0m 6s/step - accuracy: 0.9673 - loss: 0.0936 - val_accuracy: 0.9286 - val_loss: 0.1826\n",
      "Epoch 9/25\n",
      "\u001b[1m52/52\u001b[0m \u001b[32m━━━━━━━━━━━━━━━━━━━━\u001b[0m\u001b[37m\u001b[0m \u001b[1m316s\u001b[0m 6s/step - accuracy: 0.9569 - loss: 0.1095 - val_accuracy: 0.9107 - val_loss: 0.2042\n",
      "Epoch 10/25\n",
      "\u001b[1m52/52\u001b[0m \u001b[32m━━━━━━━━━━━━━━━━━━━━\u001b[0m\u001b[37m\u001b[0m \u001b[1m318s\u001b[0m 6s/step - accuracy: 0.9691 - loss: 0.0919 - val_accuracy: 0.9375 - val_loss: 0.1611\n",
      "Epoch 11/25\n",
      "\u001b[1m52/52\u001b[0m \u001b[32m━━━━━━━━━━━━━━━━━━━━\u001b[0m\u001b[37m\u001b[0m \u001b[1m322s\u001b[0m 6s/step - accuracy: 0.9703 - loss: 0.0873 - val_accuracy: 0.9018 - val_loss: 0.1631\n",
      "Epoch 12/25\n",
      "\u001b[1m52/52\u001b[0m \u001b[32m━━━━━━━━━━━━━━━━━━━━\u001b[0m\u001b[37m\u001b[0m \u001b[1m323s\u001b[0m 6s/step - accuracy: 0.9644 - loss: 0.0836 - val_accuracy: 0.9107 - val_loss: 0.2630\n",
      "Epoch 13/25\n",
      "\u001b[1m52/52\u001b[0m \u001b[32m━━━━━━━━━━━━━━━━━━━━\u001b[0m\u001b[37m\u001b[0m \u001b[1m326s\u001b[0m 6s/step - accuracy: 0.9738 - loss: 0.0792 - val_accuracy: 0.9375 - val_loss: 0.2146\n",
      "Epoch 14/25\n",
      "\u001b[1m52/52\u001b[0m \u001b[32m━━━━━━━━━━━━━━━━━━━━\u001b[0m\u001b[37m\u001b[0m \u001b[1m329s\u001b[0m 6s/step - accuracy: 0.9825 - loss: 0.0647 - val_accuracy: 0.8304 - val_loss: 0.4296\n",
      "Epoch 15/25\n",
      "\u001b[1m52/52\u001b[0m \u001b[32m━━━━━━━━━━━━━━━━━━━━\u001b[0m\u001b[37m\u001b[0m \u001b[1m320s\u001b[0m 6s/step - accuracy: 0.9746 - loss: 0.0691 - val_accuracy: 0.9464 - val_loss: 0.1509\n",
      "Epoch 16/25\n",
      "\u001b[1m52/52\u001b[0m \u001b[32m━━━━━━━━━━━━━━━━━━━━\u001b[0m\u001b[37m\u001b[0m \u001b[1m318s\u001b[0m 6s/step - accuracy: 0.9586 - loss: 0.0965 - val_accuracy: 0.9375 - val_loss: 0.1450\n",
      "Epoch 17/25\n",
      "\u001b[1m52/52\u001b[0m \u001b[32m━━━━━━━━━━━━━━━━━━━━\u001b[0m\u001b[37m\u001b[0m \u001b[1m319s\u001b[0m 6s/step - accuracy: 0.9726 - loss: 0.0697 - val_accuracy: 0.9286 - val_loss: 0.1968\n",
      "Epoch 18/25\n",
      "\u001b[1m52/52\u001b[0m \u001b[32m━━━━━━━━━━━━━━━━━━━━\u001b[0m\u001b[37m\u001b[0m \u001b[1m324s\u001b[0m 6s/step - accuracy: 0.9778 - loss: 0.0603 - val_accuracy: 0.9464 - val_loss: 0.1895\n",
      "Epoch 19/25\n",
      "\u001b[1m52/52\u001b[0m \u001b[32m━━━━━━━━━━━━━━━━━━━━\u001b[0m\u001b[37m\u001b[0m \u001b[1m315s\u001b[0m 6s/step - accuracy: 0.9806 - loss: 0.0547 - val_accuracy: 0.9464 - val_loss: 0.1529\n",
      "Epoch 20/25\n",
      "\u001b[1m52/52\u001b[0m \u001b[32m━━━━━━━━━━━━━━━━━━━━\u001b[0m\u001b[37m\u001b[0m \u001b[1m308s\u001b[0m 6s/step - accuracy: 0.9788 - loss: 0.0620 - val_accuracy: 0.9107 - val_loss: 0.2470\n",
      "Epoch 21/25\n",
      "\u001b[1m52/52\u001b[0m \u001b[32m━━━━━━━━━━━━━━━━━━━━\u001b[0m\u001b[37m\u001b[0m \u001b[1m315s\u001b[0m 6s/step - accuracy: 0.9755 - loss: 0.0747 - val_accuracy: 0.9464 - val_loss: 0.1839\n",
      "Epoch 22/25\n",
      "\u001b[1m52/52\u001b[0m \u001b[32m━━━━━━━━━━━━━━━━━━━━\u001b[0m\u001b[37m\u001b[0m \u001b[1m337s\u001b[0m 6s/step - accuracy: 0.9861 - loss: 0.0464 - val_accuracy: 0.9196 - val_loss: 0.2574\n",
      "Epoch 23/25\n",
      "\u001b[1m52/52\u001b[0m \u001b[32m━━━━━━━━━━━━━━━━━━━━\u001b[0m\u001b[37m\u001b[0m \u001b[1m349s\u001b[0m 7s/step - accuracy: 0.9812 - loss: 0.0563 - val_accuracy: 0.9286 - val_loss: 0.2332\n",
      "Epoch 24/25\n",
      "\u001b[1m52/52\u001b[0m \u001b[32m━━━━━━━━━━━━━━━━━━━━\u001b[0m\u001b[37m\u001b[0m \u001b[1m320s\u001b[0m 6s/step - accuracy: 0.9831 - loss: 0.0458 - val_accuracy: 0.9107 - val_loss: 0.2559\n",
      "Epoch 25/25\n",
      "\u001b[1m52/52\u001b[0m \u001b[32m━━━━━━━━━━━━━━━━━━━━\u001b[0m\u001b[37m\u001b[0m \u001b[1m319s\u001b[0m 6s/step - accuracy: 0.9925 - loss: 0.0431 - val_accuracy: 0.9554 - val_loss: 0.1943\n"
     ]
    },
    {
     "data": {
      "text/plain": [
       "<keras.src.callbacks.history.History at 0x7fb3e7e2f550>"
      ]
     },
     "execution_count": 8,
     "metadata": {},
     "output_type": "execute_result"
    }
   ],
   "source": [
    "# Train the model using the training data generator and validate it using the validation data generator\n",
    "# The model will be trained for 10 epochs, which means the entire dataset will be processed 10 times\n",
    "# The validation_data parameter specifies the validation data generator to evaluate the model's performance after each epoch\n",
    "model.fit(\n",
    "    train_generator,          # Data generator for training images\n",
    "    epochs=25,                # Number of epochs to train the model\n",
    "    validation_data=val_generator  # Data generator for validation images to evaluate model performance\n",
    ")\n"
   ]
  },
  {
   "cell_type": "markdown",
   "id": "e2474f8b",
   "metadata": {},
   "source": [
    "### Model Evaluation"
   ]
  },
  {
   "cell_type": "code",
   "execution_count": 9,
   "id": "d206ddc2",
   "metadata": {},
   "outputs": [
    {
     "name": "stdout",
     "output_type": "stream",
     "text": [
      "Found 96 images belonging to 2 classes.\n",
      "\u001b[1m3/3\u001b[0m \u001b[32m━━━━━━━━━━━━━━━━━━━━\u001b[0m\u001b[37m\u001b[0m \u001b[1m17s\u001b[0m 6s/step - accuracy: 0.8815 - loss: 0.3069\n",
      "Test Accuracy: 0.93\n",
      "Test Loss: 0.20\n"
     ]
    }
   ],
   "source": [
    "# Create a data generator for the testing dataset\n",
    "# This generator will preprocess the testing images, resize them to 224x224 pixels, and return them in batches\n",
    "# The shuffle=False parameter ensures that the order of images is not changed, which is important for evaluation\n",
    "test_generator = val_datagen.flow_from_directory(\n",
    "    \"dataset/testing/\",       # Path to the testing dataset directory\n",
    "    target_size=(224, 224),   # Resize images to 224x224 pixels\n",
    "    batch_size=32,            # Number of images to return in each batch\n",
    "    class_mode='binary',      # Binary classification labels\n",
    "    shuffle=False             # Do not shuffle the order of images for consistent evaluation\n",
    ")\n",
    "\n",
    "# Evaluate the model's performance on the testing dataset\n",
    "# The evaluate method returns the loss and accuracy of the model on the test data\n",
    "test_loss, test_accuracy = model.evaluate(test_generator)\n",
    "\n",
    "# Print the test accuracy and test loss\n",
    "# These metrics provide insights into the model's performance on unseen data\n",
    "print(f\"Test Accuracy: {test_accuracy:.2f}\")  # Print the test accuracy, rounded to two decimal places\n",
    "print(f\"Test Loss: {test_loss:.2f}\")         # Print the test loss, rounded to two decimal places\n"
   ]
  },
  {
   "cell_type": "markdown",
   "id": "a6fc3b80",
   "metadata": {},
   "source": [
    "### Confusion Matrix"
   ]
  },
  {
   "cell_type": "code",
   "execution_count": 10,
   "id": "d394ddd3",
   "metadata": {},
   "outputs": [
    {
     "name": "stdout",
     "output_type": "stream",
     "text": [
      "\u001b[1m3/3\u001b[0m \u001b[32m━━━━━━━━━━━━━━━━━━━━\u001b[0m\u001b[37m\u001b[0m \u001b[1m17s\u001b[0m 6s/step\n",
      "[[41  7]\n",
      " [ 0 48]]\n",
      "              precision    recall  f1-score   support\n",
      "\n",
      "           0       1.00      0.85      0.92        48\n",
      "           1       0.87      1.00      0.93        48\n",
      "\n",
      "    accuracy                           0.93        96\n",
      "   macro avg       0.94      0.93      0.93        96\n",
      "weighted avg       0.94      0.93      0.93        96\n",
      "\n"
     ]
    }
   ],
   "source": [
    "# Import functions for evaluating classification performance from scikit-learn\n",
    "from sklearn.metrics import confusion_matrix, classification_report\n",
    "\n",
    "# Get the true labels from the test generator\n",
    "# This will be an array of true class labels for the test dataset\n",
    "true_labels = test_generator.classes\n",
    "\n",
    "# Generate predictions for the test dataset using the trained model\n",
    "# This method returns the predicted probabilities for each class\n",
    "predictions = model.predict(test_generator)\n",
    "\n",
    "# Convert the predicted probabilities to binary labels\n",
    "# Using a threshold of 0.5 for binary classification\n",
    "# Reshape the array to ensure it matches the shape of true_labels\n",
    "predicted_labels = (predictions > 0.5).astype(int).reshape(-1)\n",
    "\n",
    "# Compute the confusion matrix to evaluate the performance of the model\n",
    "# The confusion matrix provides insights into true positives, false positives, true negatives, and false negatives\n",
    "cm = confusion_matrix(true_labels, predicted_labels)\n",
    "print(cm)\n",
    "\n",
    "# Generate a classification report that includes precision, recall, and F1-score\n",
    "# This report provides a detailed evaluation of the model's performance for each class\n",
    "print(classification_report(true_labels, predicted_labels))\n"
   ]
  },
  {
   "cell_type": "markdown",
   "id": "436a5525",
   "metadata": {},
   "source": [
    "### Explanation of the above"
   ]
  },
  {
   "cell_type": "markdown",
   "id": "22f51f41",
   "metadata": {},
   "source": [
    "This is a classification report summarizing the performance of a model using a confusion matrix and various metrics. Here's a breakdown:\n",
    "\n",
    "### **Confusion Matrix:**\n",
    "```\n",
    "[[40  8]\n",
    " [ 0 48]]\n",
    "```\n",
    "- **True Positives (TP):** 48 (bottom-right cell) – Correctly predicted positives.\n",
    "- **True Negatives (TN):** 40 (top-left cell) – Correctly predicted negatives.\n",
    "- **False Positives (FP):** 8 (top-right cell) – Negatives incorrectly predicted as positives.\n",
    "- **False Negatives (FN):** 0 (bottom-left cell) – Positives incorrectly predicted as negatives.\n",
    "\n",
    "### **Metrics:**\n",
    "\n",
    "1. **Precision:** Measures the accuracy of positive predictions.\n",
    "   - **Class 0:** 1.00 – All predicted negatives are true negatives.\n",
    "   - **Class 1:** 0.86 – 86% of predicted positives are true positives.\n",
    "   - **Macro Average:** 0.93 – Average precision across all classes.\n",
    "   - **Weighted Average:** 0.93 – Precision averaged by the number of true instances of each class.\n",
    "\n",
    "2. **Recall:** Measures how well the model identifies positive instances.\n",
    "   - **Class 0:** 0.83 – 83% of actual negatives are correctly identified.\n",
    "   - **Class 1:** 1.00 – 100% of actual positives are correctly identified.\n",
    "   - **Macro Average:** 0.92 – Average recall across all classes.\n",
    "   - **Weighted Average:** 0.92 – Recall averaged by the number of true instances of each class.\n",
    "\n",
    "3. **F1-Score:** Harmonic mean of precision and recall, providing a balance between them.\n",
    "   - **Class 0:** 0.91 – The balance of precision and recall for negatives.\n",
    "   - **Class 1:** 0.92 – The balance of precision and recall for positives.\n",
    "   - **Macro Average:** 0.92 – Average F1 score across all classes.\n",
    "   - **Weighted Average:** 0.92 – F1 score averaged by the number of true instances of each class.\n",
    "\n",
    "4. **Accuracy:** Proportion of total correct predictions.\n",
    "   - **Overall Accuracy:** 0.92 – 92% of all predictions are correct.\n"
   ]
  },
  {
   "cell_type": "markdown",
   "id": "509fba2f",
   "metadata": {},
   "source": [
    "### Heatmap of Confusion Matrix"
   ]
  },
  {
   "cell_type": "code",
   "execution_count": 11,
   "id": "bfcfcba6",
   "metadata": {},
   "outputs": [
    {
     "data": {
      "image/png": "[encoded data removed]",
      "text/plain": [
       "<Figure size 800x600 with 2 Axes>"
      ]
     },
     "metadata": {},
     "output_type": "display_data"
    }
   ],
   "source": [
    "import numpy as np\n",
    "import seaborn as sns\n",
    "import matplotlib.pyplot as plt\n",
    "from sklearn.metrics import confusion_matrix\n",
    "\n",
    "# Assume true_labels and predicted_labels are already defined as in the previous example\n",
    "\n",
    "# Compute confusion matrix\n",
    "cm = confusion_matrix(true_labels, predicted_labels)\n",
    "\n",
    "# Define class names\n",
    "class_names = ['Non-Acne', 'Acne']\n",
    "\n",
    "# Create a heatmap\n",
    "plt.figure(figsize=(8, 6))\n",
    "sns.heatmap(cm, annot=True, fmt='d', cmap='Blues', xticklabels=class_names, yticklabels=class_names)\n",
    "plt.title('Confusion Matrix')\n",
    "plt.xlabel('Predicted Class')\n",
    "plt.ylabel('True Class')\n",
    "plt.show()\n"
   ]
  },
  {
   "cell_type": "markdown",
   "id": "2b0ed95d",
   "metadata": {},
   "source": [
    " ### ROC Curve and AUC (Area Under the Curve)"
   ]
  },
  {
   "cell_type": "code",
   "execution_count": 12,
   "id": "c885f693",
   "metadata": {},
   "outputs": [
    {
     "data": {
      "image/png": "[encoded data removed]",
      "text/plain": [
       "<Figure size 640x480 with 1 Axes>"
      ]
     },
     "metadata": {},
     "output_type": "display_data"
    }
   ],
   "source": [
    "from sklearn.metrics import roc_curve, auc\n",
    "import matplotlib.pyplot as plt\n",
    "\n",
    "# Compute ROC curve and AUC\n",
    "fpr, tpr, _ = roc_curve(true_labels, predictions)\n",
    "roc_auc = auc(fpr, tpr)\n",
    "\n",
    "# Plot ROC curve\n",
    "plt.figure()\n",
    "plt.plot(fpr, tpr, color='blue', lw=2, label=f'ROC curve (area = {roc_auc:.2f})')\n",
    "plt.plot([0, 1], [0, 1], color='gray', lw=2, linestyle='--')\n",
    "plt.xlim([0.0, 1.0])\n",
    "plt.ylim([0.0, 1.05])\n",
    "plt.xlabel('False Positive Rate')\n",
    "plt.ylabel('True Positive Rate')\n",
    "plt.title('Receiver Operating Characteristic (ROC)')\n",
    "plt.legend(loc='lower right')\n",
    "plt.show()\n"
   ]
  },
  {
   "cell_type": "markdown",
   "id": "af2101c7",
   "metadata": {},
   "source": [
    "### Precision vs Recall vs F1-Score"
   ]
  },
  {
   "cell_type": "code",
   "execution_count": 13,
   "id": "5a802e75",
   "metadata": {},
   "outputs": [
    {
     "data": {
      "image/png": "[encoded data removed]",
      "text/plain": [
       "<Figure size 1000x600 with 1 Axes>"
      ]
     },
     "metadata": {},
     "output_type": "display_data"
    }
   ],
   "source": [
    "import numpy as np\n",
    "import matplotlib.pyplot as plt\n",
    "import seaborn as sns\n",
    "from sklearn.metrics import classification_report\n",
    "\n",
    "# Assuming true_labels and predicted_labels are defined\n",
    "# true_labels: Actual labels\n",
    "# predicted_labels: Predicted labels by the model\n",
    "\n",
    "# Generate a classification report\n",
    "report = classification_report(true_labels, predicted_labels, target_names=['Non-Acne', 'Acne'], output_dict=True)\n",
    "\n",
    "# Extract Precision, Recall, and F1-Score for each class\n",
    "metrics = ['precision', 'recall', 'f1-score']\n",
    "classes = ['Non-Acne', 'Acne']\n",
    "values = {metric: [report[class_name][metric] for class_name in classes] for metric in metrics}\n",
    "\n",
    "# Convert to a format suitable for seaborn\n",
    "metrics_data = []\n",
    "for metric, scores in values.items():\n",
    "    for score, class_name in zip(scores, classes):\n",
    "        metrics_data.append({'Metric': metric, 'Class': class_name, 'Score': score})\n",
    "\n",
    "# Create a DataFrame\n",
    "import pandas as pd\n",
    "df_metrics = pd.DataFrame(metrics_data)\n",
    "\n",
    "# Plot the metrics\n",
    "plt.figure(figsize=(10, 6))\n",
    "sns.barplot(x='Metric', y='Score', hue='Class', data=df_metrics, palette='Set2')\n",
    "plt.title('Precision, Recall, and F1-Score Comparison')\n",
    "plt.ylim(0, 1)  # All metrics are between 0 and 1\n",
    "plt.ylabel('Score')\n",
    "plt.show()\n"
   ]
  },
  {
   "cell_type": "markdown",
   "id": "c127f186",
   "metadata": {},
   "source": [
    "### Matthews Correlation Coefficient (MCC)\n",
    "\n",
    "These metrics provide a more comprehensive evaluation of your model's performance, helping to understand its strengths and weaknesses, especially in the context of medical diagnostics where accurate classification is critical."
   ]
  },
  {
   "cell_type": "code",
   "execution_count": 14,
   "id": "f97b3d20",
   "metadata": {},
   "outputs": [
    {
     "name": "stdout",
     "output_type": "stream",
     "text": [
      "MCC: 0.86\n"
     ]
    }
   ],
   "source": [
    "from sklearn.metrics import matthews_corrcoef\n",
    "\n",
    "mcc = matthews_corrcoef(true_labels, predicted_labels)\n",
    "print(f'MCC: {mcc:.2f}')\n"
   ]
  },
  {
   "cell_type": "markdown",
   "id": "dc719a47",
   "metadata": {},
   "source": [
    "### Making predictions using a single image"
   ]
  },
  {
   "cell_type": "code",
   "execution_count": 15,
   "id": "a5f80b25",
   "metadata": {},
   "outputs": [
    {
     "name": "stdout",
     "output_type": "stream",
     "text": [
      "\u001b[1m1/1\u001b[0m \u001b[32m━━━━━━━━━━━━━━━━━━━━\u001b[0m\u001b[37m\u001b[0m \u001b[1m0s\u001b[0m 224ms/step\n",
      "Predicted Label: Non-Acne\n"
     ]
    }
   ],
   "source": [
    "# Import necessary libraries\n",
    "import numpy as np  # For numerical operations\n",
    "from tensorflow.keras.preprocessing import image  # For image preprocessing\n",
    "from tensorflow.keras.applications.vgg16 import preprocess_input  # For VGG16-specific preprocessing\n",
    "from tensorflow.keras.models import load_model  # For loading a saved model\n",
    "\n",
    "# Load and preprocess the image\n",
    "img_path = \"dataset/testing/acne/acne-7_jpeg.rf.34ee37b930f592f787bb8d1bf6b37d30.jpg\"  # Path to the image file\n",
    "img = image.load_img(img_path, target_size=(224, 224))  # Load the image and resize it to 224x224 pixels\n",
    "img_array = image.img_to_array(img)  # Convert the image to a numpy array\n",
    "img_array = np.expand_dims(img_array, axis=0)  # Add a batch dimension (1, 224, 224, 3)\n",
    "img_array = preprocess_input(img_array)  # Apply VGG16-specific preprocessing (scaling pixel values)\n",
    "\n",
    "# Make a prediction using the trained model\n",
    "prediction = model.predict(img_array)  # Get the predicted probability from the model\n",
    "prediction_class = (prediction > 0.5).astype(int)  # Convert probability to binary class label\n",
    "\n",
    "# Map prediction to class label\n",
    "class_labels = ['Non-Acne', 'Acne']  # Define the class labels\n",
    "predicted_label = class_labels[prediction_class[0][0]]  # Get the predicted class label\n",
    "\n",
    "# Print the predicted class label\n",
    "print(f'Predicted Label: {predicted_label}')  # Output the predicted label\n"
   ]
  },
  {
   "cell_type": "markdown",
   "id": "bb1efa1b",
   "metadata": {},
   "source": [
    "### Saving the Model"
   ]
  },
  {
   "cell_type": "code",
   "execution_count": 16,
   "id": "5a92c12b",
   "metadata": {},
   "outputs": [
    {
     "name": "stderr",
     "output_type": "stream",
     "text": [
      "WARNING:absl:You are saving your model as an HDF5 file via `model.save()` or `keras.saving.save_model(model)`. This file format is considered legacy. We recommend using instead the native Keras format, e.g. `model.save('my_model.keras')` or `keras.saving.save_model(model, 'my_model.keras')`. \n"
     ]
    }
   ],
   "source": [
    "from tensorflow.keras.models import save_model\n",
    "\n",
    "# Assuming `model` is your trained Keras model\n",
    "model.save('VGG16Model.h5')  # Save model to HDF5 file\n"
   ]
  },
  {
   "cell_type": "markdown",
   "id": "c382fe86",
   "metadata": {},
   "source": [
    "### Loading the Model"
   ]
  },
  {
   "cell_type": "code",
   "execution_count": 18,
   "id": "5c73b828",
   "metadata": {},
   "outputs": [
    {
     "name": "stderr",
     "output_type": "stream",
     "text": [
      "WARNING:absl:Compiled the loaded model, but the compiled metrics have yet to be built. `model.compile_metrics` will be empty until you train or evaluate the model.\n"
     ]
    }
   ],
   "source": [
    "from tensorflow.keras.models import load_model\n",
    "\n",
    "# Load the model from the file\n",
    "model = load_model('VGG16Model.h5')"
   ]
  },
  {
   "cell_type": "markdown",
   "id": "71ecf2fa",
   "metadata": {},
   "source": [
    "### Testing Acne"
   ]
  },
  {
   "cell_type": "code",
   "execution_count": 23,
   "id": "9d761de7",
   "metadata": {
    "scrolled": false
   },
   "outputs": [
    {
     "name": "stderr",
     "output_type": "stream",
     "text": [
      "WARNING:absl:Compiled the loaded model, but the compiled metrics have yet to be built. `model.compile_metrics` will be empty until you train or evaluate the model.\n"
     ]
    },
    {
     "name": "stdout",
     "output_type": "stream",
     "text": [
      "\u001b[1m1/1\u001b[0m \u001b[32m━━━━━━━━━━━━━━━━━━━━\u001b[0m\u001b[37m\u001b[0m \u001b[1m0s\u001b[0m 256ms/step\n",
      "Predicted Label for acne-286_jpeg.rf.1b6bcca440593ac6e33617083f34a4c5.jpg: Non-Acne\n",
      "\u001b[1m1/1\u001b[0m \u001b[32m━━━━━━━━━━━━━━━━━━━━\u001b[0m\u001b[37m\u001b[0m \u001b[1m0s\u001b[0m 155ms/step\n",
      "Predicted Label for acne-422_jpeg.rf.c90a75e149931778d9c643273737df59.jpg: Acne\n",
      "\u001b[1m1/1\u001b[0m \u001b[32m━━━━━━━━━━━━━━━━━━━━\u001b[0m\u001b[37m\u001b[0m \u001b[1m0s\u001b[0m 177ms/step\n",
      "Predicted Label for acne-276_jpeg.rf.9d0990f99dee0e0ec17d89fd07384e0b.jpg: Acne\n",
      "\u001b[1m1/1\u001b[0m \u001b[32m━━━━━━━━━━━━━━━━━━━━\u001b[0m\u001b[37m\u001b[0m \u001b[1m0s\u001b[0m 163ms/step\n",
      "Predicted Label for acne-140_jpg.rf.785b2c29676c422c6a1cdbe6708f86e8.jpg: Acne\n",
      "\u001b[1m1/1\u001b[0m \u001b[32m━━━━━━━━━━━━━━━━━━━━\u001b[0m\u001b[37m\u001b[0m \u001b[1m0s\u001b[0m 186ms/step\n",
      "Predicted Label for acne-84_jpeg.rf.040421ad53965f5f41ddc6f6a8edef9f.jpg: Non-Acne\n",
      "\u001b[1m1/1\u001b[0m \u001b[32m━━━━━━━━━━━━━━━━━━━━\u001b[0m\u001b[37m\u001b[0m \u001b[1m0s\u001b[0m 164ms/step\n",
      "Predicted Label for acne-60_jpeg.rf.f2694c8e6226c725ff40b771560b5e06.jpg: Acne\n",
      "\u001b[1m1/1\u001b[0m \u001b[32m━━━━━━━━━━━━━━━━━━━━\u001b[0m\u001b[37m\u001b[0m \u001b[1m0s\u001b[0m 194ms/step\n",
      "Predicted Label for acne-25_jpeg.rf.61edfe1eaf01bce48403a1a22f693a86.jpg: Acne\n",
      "\u001b[1m1/1\u001b[0m \u001b[32m━━━━━━━━━━━━━━━━━━━━\u001b[0m\u001b[37m\u001b[0m \u001b[1m0s\u001b[0m 172ms/step\n",
      "Predicted Label for acne-32_jpeg.rf.6cfebd1da197182fd10391fc051d7308.jpg: Acne\n",
      "\u001b[1m1/1\u001b[0m \u001b[32m━━━━━━━━━━━━━━━━━━━━\u001b[0m\u001b[37m\u001b[0m \u001b[1m0s\u001b[0m 184ms/step\n",
      "Predicted Label for acne-355_jpeg.rf.a407ad30612ee0eea150efed8772694d.jpg: Acne\n",
      "\u001b[1m1/1\u001b[0m \u001b[32m━━━━━━━━━━━━━━━━━━━━\u001b[0m\u001b[37m\u001b[0m \u001b[1m0s\u001b[0m 178ms/step\n",
      "Predicted Label for acne-49_jpeg.rf.3c951af43df31b304067823e836ec20b.jpg: Acne\n",
      "\u001b[1m1/1\u001b[0m \u001b[32m━━━━━━━━━━━━━━━━━━━━\u001b[0m\u001b[37m\u001b[0m \u001b[1m0s\u001b[0m 158ms/step\n",
      "Predicted Label for acne-166_jpg.rf.a12f2acc98f6a862f6d8b7d28306e6ff.jpg: Non-Acne\n",
      "\u001b[1m1/1\u001b[0m \u001b[32m━━━━━━━━━━━━━━━━━━━━\u001b[0m\u001b[37m\u001b[0m \u001b[1m0s\u001b[0m 132ms/step\n",
      "Predicted Label for acne-187_jpg.rf.a4bc43c7fb75ea9ddc00fa14bf06eda5.jpg: Acne\n",
      "\u001b[1m1/1\u001b[0m \u001b[32m━━━━━━━━━━━━━━━━━━━━\u001b[0m\u001b[37m\u001b[0m \u001b[1m0s\u001b[0m 133ms/step\n",
      "Predicted Label for acne-7_jpeg.rf.34ee37b930f592f787bb8d1bf6b37d30.jpg: Acne\n",
      "\u001b[1m1/1\u001b[0m \u001b[32m━━━━━━━━━━━━━━━━━━━━\u001b[0m\u001b[37m\u001b[0m \u001b[1m0s\u001b[0m 134ms/step\n",
      "Predicted Label for acne-92_jpeg.rf.ffaa4abd4c59b50edc52a68d96de7679.jpg: Acne\n",
      "\u001b[1m1/1\u001b[0m \u001b[32m━━━━━━━━━━━━━━━━━━━━\u001b[0m\u001b[37m\u001b[0m \u001b[1m0s\u001b[0m 132ms/step\n",
      "Predicted Label for acne-440_jpeg.rf.74f7f4b7cabd5d5e65c05367b20cb921.jpg: Non-Acne\n",
      "\u001b[1m1/1\u001b[0m \u001b[32m━━━━━━━━━━━━━━━━━━━━\u001b[0m\u001b[37m\u001b[0m \u001b[1m0s\u001b[0m 133ms/step\n",
      "Predicted Label for acne-95_jpeg.rf.28c5c0321aca3fbff22844c56937dbfd.jpg: Acne\n",
      "\u001b[1m1/1\u001b[0m \u001b[32m━━━━━━━━━━━━━━━━━━━━\u001b[0m\u001b[37m\u001b[0m \u001b[1m0s\u001b[0m 133ms/step\n",
      "Predicted Label for acne-202_jpg.rf.3cb4d03fc5719519ae3f8319099eddef.jpg: Non-Acne\n",
      "\u001b[1m1/1\u001b[0m \u001b[32m━━━━━━━━━━━━━━━━━━━━\u001b[0m\u001b[37m\u001b[0m \u001b[1m0s\u001b[0m 132ms/step\n",
      "Predicted Label for acne-102_jpeg.rf.d15b34dc9a1e69aa996118a4c1a173ef.jpg: Non-Acne\n",
      "\u001b[1m1/1\u001b[0m \u001b[32m━━━━━━━━━━━━━━━━━━━━\u001b[0m\u001b[37m\u001b[0m \u001b[1m0s\u001b[0m 134ms/step\n",
      "Predicted Label for acne-33_jpeg.rf.5f883b1bb6eacef56d03175d54955561.jpg: Acne\n",
      "\u001b[1m1/1\u001b[0m \u001b[32m━━━━━━━━━━━━━━━━━━━━\u001b[0m\u001b[37m\u001b[0m \u001b[1m0s\u001b[0m 134ms/step\n",
      "Predicted Label for acne-160_jpg.rf.b50f56372db5685c5301c83c555a777a.jpg: Non-Acne\n",
      "\u001b[1m1/1\u001b[0m \u001b[32m━━━━━━━━━━━━━━━━━━━━\u001b[0m\u001b[37m\u001b[0m \u001b[1m0s\u001b[0m 138ms/step\n",
      "Predicted Label for acne-70_jpeg.rf.79a8da468a25fbeeb5a047793a3e9a4d.jpg: Non-Acne\n",
      "\u001b[1m1/1\u001b[0m \u001b[32m━━━━━━━━━━━━━━━━━━━━\u001b[0m\u001b[37m\u001b[0m \u001b[1m0s\u001b[0m 135ms/step\n",
      "Predicted Label for acne-144_jpg.rf.e7404e17167235e55bc46e5c3914e22f.jpg: Acne\n",
      "\u001b[1m1/1\u001b[0m \u001b[32m━━━━━━━━━━━━━━━━━━━━\u001b[0m\u001b[37m\u001b[0m \u001b[1m0s\u001b[0m 137ms/step\n",
      "Predicted Label for acne-151_jpg.rf.638c693eb9342b4800bd8b1758e566e1.jpg: Acne\n",
      "\u001b[1m1/1\u001b[0m \u001b[32m━━━━━━━━━━━━━━━━━━━━\u001b[0m\u001b[37m\u001b[0m \u001b[1m0s\u001b[0m 137ms/step\n",
      "Predicted Label for acne-105_jpeg.rf.e9b2ecfb4afb0217f046179f125242d2.jpg: Acne\n",
      "\u001b[1m1/1\u001b[0m \u001b[32m━━━━━━━━━━━━━━━━━━━━\u001b[0m\u001b[37m\u001b[0m \u001b[1m0s\u001b[0m 132ms/step\n",
      "Predicted Label for acne-404_jpeg.rf.120f5acce0b15ea040f6e1a6f8a16dd5.jpg: Non-Acne\n",
      "\u001b[1m1/1\u001b[0m \u001b[32m━━━━━━━━━━━━━━━━━━━━\u001b[0m\u001b[37m\u001b[0m \u001b[1m0s\u001b[0m 134ms/step\n",
      "Predicted Label for acne-230_jpg.rf.92c53cee80df6a2454765f7636b67d1a.jpg: Acne\n",
      "\u001b[1m1/1\u001b[0m \u001b[32m━━━━━━━━━━━━━━━━━━━━\u001b[0m\u001b[37m\u001b[0m \u001b[1m0s\u001b[0m 134ms/step\n",
      "Predicted Label for acne-57_jpeg.rf.b9ed02768080fdfcf648eef4e58c1904.jpg: Acne\n",
      "\u001b[1m1/1\u001b[0m \u001b[32m━━━━━━━━━━━━━━━━━━━━\u001b[0m\u001b[37m\u001b[0m \u001b[1m0s\u001b[0m 132ms/step\n",
      "Predicted Label for acne-167_jpg.rf.ca7f225b1a40cb053f3f590585061393.jpg: Non-Acne\n",
      "\u001b[1m1/1\u001b[0m \u001b[32m━━━━━━━━━━━━━━━━━━━━\u001b[0m\u001b[37m\u001b[0m \u001b[1m0s\u001b[0m 136ms/step\n",
      "Predicted Label for acne-290_jpeg.rf.116ac413d37048340ce6c5b36e1b9d8a.jpg: Acne\n",
      "\u001b[1m1/1\u001b[0m \u001b[32m━━━━━━━━━━━━━━━━━━━━\u001b[0m\u001b[37m\u001b[0m \u001b[1m0s\u001b[0m 135ms/step\n",
      "Predicted Label for acne-15_jpeg.rf.510f6ab6153777e8087f1439ef39d8cc.jpg: Acne\n",
      "\u001b[1m1/1\u001b[0m \u001b[32m━━━━━━━━━━━━━━━━━━━━\u001b[0m\u001b[37m\u001b[0m \u001b[1m0s\u001b[0m 135ms/step\n",
      "Predicted Label for acne-194_jpg.rf.1d82dbb7c1fa130420898223ef06720a.jpg: Acne\n",
      "\u001b[1m1/1\u001b[0m \u001b[32m━━━━━━━━━━━━━━━━━━━━\u001b[0m\u001b[37m\u001b[0m \u001b[1m0s\u001b[0m 149ms/step\n",
      "Predicted Label for acne-112_jpeg.rf.a03c796422719e964f46be1c118861bc.jpg: Acne\n",
      "\u001b[1m1/1\u001b[0m \u001b[32m━━━━━━━━━━━━━━━━━━━━\u001b[0m\u001b[37m\u001b[0m \u001b[1m0s\u001b[0m 133ms/step\n",
      "Predicted Label for acne-5_jpeg.rf.2d6671715f0149df7b494c4d3f12a98b.jpg: Acne\n",
      "\u001b[1m1/1\u001b[0m \u001b[32m━━━━━━━━━━━━━━━━━━━━\u001b[0m\u001b[37m\u001b[0m \u001b[1m0s\u001b[0m 135ms/step\n",
      "Predicted Label for acne-219_jpg.rf.49ae2c76139959c042cfa3cf03848824.jpg: Acne\n",
      "\u001b[1m1/1\u001b[0m \u001b[32m━━━━━━━━━━━━━━━━━━━━\u001b[0m\u001b[37m\u001b[0m \u001b[1m0s\u001b[0m 147ms/step\n",
      "Predicted Label for acne-172_jpg.rf.f8ed4f69412f8420d6628e206113b64c.jpg: Acne\n",
      "\u001b[1m1/1\u001b[0m \u001b[32m━━━━━━━━━━━━━━━━━━━━\u001b[0m\u001b[37m\u001b[0m \u001b[1m0s\u001b[0m 133ms/step\n",
      "Predicted Label for acne-329_jpeg.rf.705fb900ba87dc12538508177c52c8a6.jpg: Acne\n",
      "\u001b[1m1/1\u001b[0m \u001b[32m━━━━━━━━━━━━━━━━━━━━\u001b[0m\u001b[37m\u001b[0m \u001b[1m0s\u001b[0m 144ms/step\n",
      "Predicted Label for acne-370_jpeg.rf.a774873f1db723d298598b08cfc47315.jpg: Non-Acne\n",
      "\u001b[1m1/1\u001b[0m \u001b[32m━━━━━━━━━━━━━━━━━━━━\u001b[0m\u001b[37m\u001b[0m \u001b[1m0s\u001b[0m 144ms/step\n",
      "Predicted Label for acne-457_jpeg.rf.96817d48e7a4fe76651012d96df43141.jpg: Non-Acne\n",
      "\u001b[1m1/1\u001b[0m \u001b[32m━━━━━━━━━━━━━━━━━━━━\u001b[0m\u001b[37m\u001b[0m \u001b[1m0s\u001b[0m 134ms/step\n",
      "Predicted Label for acne-75_jpeg.rf.d648e68373adc0adfd965b63d4632a48.jpg: Non-Acne\n",
      "\u001b[1m1/1\u001b[0m \u001b[32m━━━━━━━━━━━━━━━━━━━━\u001b[0m\u001b[37m\u001b[0m \u001b[1m0s\u001b[0m 145ms/step\n",
      "Predicted Label for acne-99_jpeg.rf.38ff75b46468fb68d29e4125bde66e86.jpg: Acne\n",
      "\u001b[1m1/1\u001b[0m \u001b[32m━━━━━━━━━━━━━━━━━━━━\u001b[0m\u001b[37m\u001b[0m \u001b[1m0s\u001b[0m 138ms/step\n",
      "Predicted Label for acne-161_jpg.rf.78459635cae3ff835cac7159c10bce51.jpg: Acne\n",
      "\u001b[1m1/1\u001b[0m \u001b[32m━━━━━━━━━━━━━━━━━━━━\u001b[0m\u001b[37m\u001b[0m \u001b[1m0s\u001b[0m 139ms/step\n",
      "Predicted Label for acne-206_jpg.rf.8c9e6075fe0cfed1632f82cf23a2d9e4.jpg: Acne\n",
      "\u001b[1m1/1\u001b[0m \u001b[32m━━━━━━━━━━━━━━━━━━━━\u001b[0m\u001b[37m\u001b[0m \u001b[1m0s\u001b[0m 138ms/step\n",
      "Predicted Label for acne-209_jpg.rf.a1dde106a5e5c3cd2b93666e9e226930.jpg: Non-Acne\n",
      "\u001b[1m1/1\u001b[0m \u001b[32m━━━━━━━━━━━━━━━━━━━━\u001b[0m\u001b[37m\u001b[0m \u001b[1m0s\u001b[0m 134ms/step\n",
      "Predicted Label for acne-158_jpg.rf.9c07578d00524a159f65bff978a79c5a.jpg: Non-Acne\n",
      "\u001b[1m1/1\u001b[0m \u001b[32m━━━━━━━━━━━━━━━━━━━━\u001b[0m\u001b[37m\u001b[0m \u001b[1m0s\u001b[0m 135ms/step\n",
      "Predicted Label for acne-155_jpg.rf.96681853cd48ff20eb8c2f0e3f32bdbf.jpg: Acne\n",
      "\u001b[1m1/1\u001b[0m \u001b[32m━━━━━━━━━━━━━━━━━━━━\u001b[0m\u001b[37m\u001b[0m \u001b[1m0s\u001b[0m 132ms/step\n",
      "Predicted Label for acne-128_jpg.rf.e3826584d02398d0f1d915cf3365a959.jpg: Non-Acne\n",
      "\u001b[1m1/1\u001b[0m \u001b[32m━━━━━━━━━━━━━━━━━━━━\u001b[0m\u001b[37m\u001b[0m \u001b[1m0s\u001b[0m 132ms/step\n",
      "Predicted Label for acne-239_jpg.rf.08487e45a5ca975c038eabe8464b0c87.jpg: Non-Acne\n",
      "\u001b[1m1/1\u001b[0m \u001b[32m━━━━━━━━━━━━━━━━━━━━\u001b[0m\u001b[37m\u001b[0m \u001b[1m0s\u001b[0m 137ms/step\n",
      "Predicted Label for acne-236_jpg.rf.c937d8c3c60bac296eb9e3b9237e13aa.jpg: Acne\n"
     ]
    }
   ],
   "source": [
    "import os\n",
    "import numpy as np\n",
    "from tensorflow.keras.preprocessing import image  # For image preprocessing\n",
    "from tensorflow.keras.applications.vgg16 import preprocess_input  # For VGG16-specific preprocessing\n",
    "from tensorflow.keras.models import load_model  # For loading a saved model\n",
    "\n",
    "# Define the directory path\n",
    "acne_path = \"/home/agbor/Public/Deep Learning Projects/Tom Aniebet/Acne Detection/dataset/testing/acne\"\n",
    "\n",
    "# Get a list of all files and directories in the specified directory\n",
    "all_acne_files = os.listdir(acne_path)\n",
    "\n",
    "# Filter out only files\n",
    "acne_files = [f for f in all_acne_files if os.path.isfile(os.path.join(acne_path, f))]\n",
    "\n",
    "# Load the model from the file\n",
    "acne = load_model('VGG16Model.h5')\n",
    "\n",
    "# Iterate over each file in the acne directory\n",
    "for file_name in acne_files:\n",
    "    # Load and preprocess the image\n",
    "    img_path = os.path.join(acne_path, file_name)  # Construct the full path to the image\n",
    "    img = image.load_img(img_path, target_size=(224, 224))  # Load the image and resize it\n",
    "    img_array = image.img_to_array(img)  # Convert the image to a numpy array\n",
    "    img_array = np.expand_dims(img_array, axis=0)  # Add a batch dimension (1, 224, 224, 3)\n",
    "    img_array = preprocess_input(img_array)  # Apply VGG16-specific preprocessing\n",
    "\n",
    "    # Make a prediction using the trained model\n",
    "    prediction = acne.predict(img_array)  # Get the predicted probability from the model\n",
    "    prediction_class = (prediction > 0.5).astype(int)  # Convert probability to binary class label\n",
    "\n",
    "    # Map prediction to class label\n",
    "    class_labels = ['Acne', 'Non-Acne']  # Define the class labels\n",
    "    predicted_label = class_labels[prediction_class[0][0]]  # Get the predicted class label\n",
    "\n",
    "    # Print the predicted class label\n",
    "    print(f'Predicted Label for {file_name}: {predicted_label}')  # Output the predicted label\n"
   ]
  },
  {
   "cell_type": "markdown",
   "id": "2384b999",
   "metadata": {},
   "source": [
    "### Testing all the Non-acne files"
   ]
  },
  {
   "cell_type": "code",
   "execution_count": 24,
   "id": "54b54842",
   "metadata": {
    "scrolled": false
   },
   "outputs": [
    {
     "name": "stderr",
     "output_type": "stream",
     "text": [
      "WARNING:absl:Compiled the loaded model, but the compiled metrics have yet to be built. `model.compile_metrics` will be empty until you train or evaluate the model.\n"
     ]
    },
    {
     "name": "stdout",
     "output_type": "stream",
     "text": [
      "\u001b[1m1/1\u001b[0m \u001b[32m━━━━━━━━━━━━━━━━━━━━\u001b[0m\u001b[37m\u001b[0m \u001b[1m0s\u001b[0m 239ms/step\n",
      "Predicted Label for actinic-keratosis-5FU-5.jpg: Non-Acne\n",
      "\u001b[1m1/1\u001b[0m \u001b[32m━━━━━━━━━━━━━━━━━━━━\u001b[0m\u001b[37m\u001b[0m \u001b[1m0s\u001b[0m 183ms/step\n",
      "Predicted Label for eczema-hand-188.jpg: Non-Acne\n",
      "\u001b[1m1/1\u001b[0m \u001b[32m━━━━━━━━━━━━━━━━━━━━\u001b[0m\u001b[37m\u001b[0m \u001b[1m0s\u001b[0m 154ms/step\n",
      "Predicted Label for basal-cell-carcinoma-lesion-109.jpg: Non-Acne\n",
      "\u001b[1m1/1\u001b[0m \u001b[32m━━━━━━━━━━━━━━━━━━━━\u001b[0m\u001b[37m\u001b[0m \u001b[1m0s\u001b[0m 158ms/step\n",
      "Predicted Label for stasis-dermatitis-169.jpg: Non-Acne\n",
      "\u001b[1m1/1\u001b[0m \u001b[32m━━━━━━━━━━━━━━━━━━━━\u001b[0m\u001b[37m\u001b[0m \u001b[1m0s\u001b[0m 171ms/step\n",
      "Predicted Label for actinic-keratosis-5FU-25.jpg: Non-Acne\n",
      "\u001b[1m1/1\u001b[0m \u001b[32m━━━━━━━━━━━━━━━━━━━━\u001b[0m\u001b[37m\u001b[0m \u001b[1m0s\u001b[0m 160ms/step\n",
      "Predicted Label for basal-cell-carcinoma-lesion-94.jpg: Non-Acne\n",
      "\u001b[1m1/1\u001b[0m \u001b[32m━━━━━━━━━━━━━━━━━━━━\u001b[0m\u001b[37m\u001b[0m \u001b[1m0s\u001b[0m 157ms/step\n",
      "Predicted Label for actinic-cheilitis-sq-cell-lip-54.jpg: Non-Acne\n",
      "\u001b[1m1/1\u001b[0m \u001b[32m━━━━━━━━━━━━━━━━━━━━\u001b[0m\u001b[37m\u001b[0m \u001b[1m0s\u001b[0m 158ms/step\n",
      "Predicted Label for eczema-hand-133.jpg: Non-Acne\n",
      "\u001b[1m1/1\u001b[0m \u001b[32m━━━━━━━━━━━━━━━━━━━━\u001b[0m\u001b[37m\u001b[0m \u001b[1m0s\u001b[0m 206ms/step\n",
      "Predicted Label for eczema-hyperkeratotic-2.jpg: Non-Acne\n",
      "\u001b[1m1/1\u001b[0m \u001b[32m━━━━━━━━━━━━━━━━━━━━\u001b[0m\u001b[37m\u001b[0m \u001b[1m0s\u001b[0m 157ms/step\n",
      "Predicted Label for eczema-hand-14.jpg: Non-Acne\n",
      "\u001b[1m1/1\u001b[0m \u001b[32m━━━━━━━━━━━━━━━━━━━━\u001b[0m\u001b[37m\u001b[0m \u001b[1m0s\u001b[0m 173ms/step\n",
      "Predicted Label for basal-cell-carcinoma-lesion-25.jpg: Non-Acne\n",
      "\u001b[1m1/1\u001b[0m \u001b[32m━━━━━━━━━━━━━━━━━━━━\u001b[0m\u001b[37m\u001b[0m \u001b[1m0s\u001b[0m 204ms/step\n",
      "Predicted Label for 5T-0006.jpg: Non-Acne\n",
      "\u001b[1m1/1\u001b[0m \u001b[32m━━━━━━━━━━━━━━━━━━━━\u001b[0m\u001b[37m\u001b[0m \u001b[1m0s\u001b[0m 175ms/step\n",
      "Predicted Label for 05SexLinkedEchthyosis0223.jpg: Non-Acne\n",
      "\u001b[1m1/1\u001b[0m \u001b[32m━━━━━━━━━━━━━━━━━━━━\u001b[0m\u001b[37m\u001b[0m \u001b[1m0s\u001b[0m 151ms/step\n",
      "Predicted Label for actinic-keratosis-face-59.jpg: Non-Acne\n",
      "\u001b[1m1/1\u001b[0m \u001b[32m━━━━━━━━━━━━━━━━━━━━\u001b[0m\u001b[37m\u001b[0m \u001b[1m0s\u001b[0m 161ms/step\n",
      "Predicted Label for dermatofibrosarcoma-3.jpg: Non-Acne\n",
      "\u001b[1m1/1\u001b[0m \u001b[32m━━━━━━━━━━━━━━━━━━━━\u001b[0m\u001b[37m\u001b[0m \u001b[1m0s\u001b[0m 192ms/step\n",
      "Predicted Label for eczema-subacute-16.jpg: Non-Acne\n",
      "\u001b[1m1/1\u001b[0m \u001b[32m━━━━━━━━━━━━━━━━━━━━\u001b[0m\u001b[37m\u001b[0m \u001b[1m0s\u001b[0m 197ms/step\n",
      "Predicted Label for basal-cell-carcinoma-lid-5.jpg: Non-Acne\n",
      "\u001b[1m1/1\u001b[0m \u001b[32m━━━━━━━━━━━━━━━━━━━━\u001b[0m\u001b[37m\u001b[0m \u001b[1m0s\u001b[0m 137ms/step\n",
      "Predicted Label for epidermolysis-bullosa-1.jpg: Non-Acne\n",
      "\u001b[1m1/1\u001b[0m \u001b[32m━━━━━━━━━━━━━━━━━━━━\u001b[0m\u001b[37m\u001b[0m \u001b[1m0s\u001b[0m 150ms/step\n",
      "Predicted Label for basal-cell-carcinoma-ear-14.jpg: Non-Acne\n",
      "\u001b[1m1/1\u001b[0m \u001b[32m━━━━━━━━━━━━━━━━━━━━\u001b[0m\u001b[37m\u001b[0m \u001b[1m0s\u001b[0m 209ms/step\n",
      "Predicted Label for stasis-dermatitis-108.jpg: Non-Acne\n",
      "\u001b[1m1/1\u001b[0m \u001b[32m━━━━━━━━━━━━━━━━━━━━\u001b[0m\u001b[37m\u001b[0m \u001b[1m0s\u001b[0m 176ms/step\n",
      "Predicted Label for basal-cell-carcinoma-lesion-52.jpg: Non-Acne\n",
      "\u001b[1m1/1\u001b[0m \u001b[32m━━━━━━━━━━━━━━━━━━━━\u001b[0m\u001b[37m\u001b[0m \u001b[1m0s\u001b[0m 183ms/step\n",
      "Predicted Label for eczema-subacute-72.jpg: Non-Acne\n",
      "\u001b[1m1/1\u001b[0m \u001b[32m━━━━━━━━━━━━━━━━━━━━\u001b[0m\u001b[37m\u001b[0m \u001b[1m0s\u001b[0m 154ms/step\n",
      "Predicted Label for actinic-keratosis-hand-19.jpg: Non-Acne\n",
      "\u001b[1m1/1\u001b[0m \u001b[32m━━━━━━━━━━━━━━━━━━━━\u001b[0m\u001b[37m\u001b[0m \u001b[1m0s\u001b[0m 157ms/step\n",
      "Predicted Label for actinic-keratosis-face-4.jpg: Non-Acne\n",
      "\u001b[1m1/1\u001b[0m \u001b[32m━━━━━━━━━━━━━━━━━━━━\u001b[0m\u001b[37m\u001b[0m \u001b[1m0s\u001b[0m 158ms/step\n",
      "Predicted Label for eczema-foot-86.jpg: Non-Acne\n",
      "\u001b[1m1/1\u001b[0m \u001b[32m━━━━━━━━━━━━━━━━━━━━\u001b[0m\u001b[37m\u001b[0m \u001b[1m0s\u001b[0m 153ms/step\n",
      "Predicted Label for Staphylococcal-Folliculitis-33.jpg: Non-Acne\n",
      "\u001b[1m1/1\u001b[0m \u001b[32m━━━━━━━━━━━━━━━━━━━━\u001b[0m\u001b[37m\u001b[0m \u001b[1m0s\u001b[0m 153ms/step\n",
      "Predicted Label for actinic-keratosis-face-22.jpg: Non-Acne\n",
      "\u001b[1m1/1\u001b[0m \u001b[32m━━━━━━━━━━━━━━━━━━━━\u001b[0m\u001b[37m\u001b[0m \u001b[1m0s\u001b[0m 191ms/step\n",
      "Predicted Label for congenital-nevus-44.jpg: Non-Acne\n",
      "\u001b[1m1/1\u001b[0m \u001b[32m━━━━━━━━━━━━━━━━━━━━\u001b[0m\u001b[37m\u001b[0m \u001b[1m0s\u001b[0m 171ms/step\n",
      "Predicted Label for 3Eczema1-057.jpg: Non-Acne\n",
      "\u001b[1m1/1\u001b[0m \u001b[32m━━━━━━━━━━━━━━━━━━━━\u001b[0m\u001b[37m\u001b[0m \u001b[1m0s\u001b[0m 189ms/step\n",
      "Predicted Label for eczema-trunk-generalized-36.jpg: Non-Acne\n",
      "\u001b[1m1/1\u001b[0m \u001b[32m━━━━━━━━━━━━━━━━━━━━\u001b[0m\u001b[37m\u001b[0m \u001b[1m0s\u001b[0m 177ms/step\n",
      "Predicted Label for Staphylococcal-Folliculitis-11.jpg: Non-Acne\n",
      "\u001b[1m1/1\u001b[0m \u001b[32m━━━━━━━━━━━━━━━━━━━━\u001b[0m\u001b[37m\u001b[0m \u001b[1m0s\u001b[0m 156ms/step\n",
      "Predicted Label for actinic-keratosis-5FU-46.jpg: Non-Acne\n",
      "\u001b[1m1/1\u001b[0m \u001b[32m━━━━━━━━━━━━━━━━━━━━\u001b[0m\u001b[37m\u001b[0m \u001b[1m0s\u001b[0m 185ms/step\n",
      "Predicted Label for Sycosis-Barbae-14.jpg: Non-Acne\n",
      "\u001b[1m1/1\u001b[0m \u001b[32m━━━━━━━━━━━━━━━━━━━━\u001b[0m\u001b[37m\u001b[0m \u001b[1m0s\u001b[0m 180ms/step\n",
      "Predicted Label for eczema-hand-115.jpg: Non-Acne\n",
      "\u001b[1m1/1\u001b[0m \u001b[32m━━━━━━━━━━━━━━━━━━━━\u001b[0m\u001b[37m\u001b[0m \u001b[1m0s\u001b[0m 184ms/step\n",
      "Predicted Label for basal-cell-carcinoma-lid-21.jpg: Non-Acne\n",
      "\u001b[1m1/1\u001b[0m \u001b[32m━━━━━━━━━━━━━━━━━━━━\u001b[0m\u001b[37m\u001b[0m \u001b[1m0s\u001b[0m 157ms/step\n",
      "Predicted Label for eczema-hand-99.jpg: Non-Acne\n",
      "\u001b[1m1/1\u001b[0m \u001b[32m━━━━━━━━━━━━━━━━━━━━\u001b[0m\u001b[37m\u001b[0m \u001b[1m0s\u001b[0m 182ms/step\n",
      "Predicted Label for stasis-dermatitis-14.jpg: Non-Acne\n",
      "\u001b[1m1/1\u001b[0m \u001b[32m━━━━━━━━━━━━━━━━━━━━\u001b[0m\u001b[37m\u001b[0m \u001b[1m0s\u001b[0m 163ms/step\n",
      "Predicted Label for epidermolysis-bullosa-23.jpg: Non-Acne\n",
      "\u001b[1m1/1\u001b[0m \u001b[32m━━━━━━━━━━━━━━━━━━━━\u001b[0m\u001b[37m\u001b[0m \u001b[1m0s\u001b[0m 183ms/step\n",
      "Predicted Label for 03EczemaAreolae021223.jpg: Non-Acne\n",
      "\u001b[1m1/1\u001b[0m \u001b[32m━━━━━━━━━━━━━━━━━━━━\u001b[0m\u001b[37m\u001b[0m \u001b[1m0s\u001b[0m 186ms/step\n",
      "Predicted Label for basal-cell-carcinoma-lesion-126.jpg: Non-Acne\n",
      "\u001b[1m1/1\u001b[0m \u001b[32m━━━━━━━━━━━━━━━━━━━━\u001b[0m\u001b[37m\u001b[0m \u001b[1m0s\u001b[0m 154ms/step\n",
      "Predicted Label for basal-cell-carcinoma-lip-1.jpg: Non-Acne\n",
      "\u001b[1m1/1\u001b[0m \u001b[32m━━━━━━━━━━━━━━━━━━━━\u001b[0m\u001b[37m\u001b[0m \u001b[1m0s\u001b[0m 187ms/step\n",
      "Predicted Label for stasis-dermatitis-189.jpg: Non-Acne\n",
      "\u001b[1m1/1\u001b[0m \u001b[32m━━━━━━━━━━━━━━━━━━━━\u001b[0m\u001b[37m\u001b[0m \u001b[1m0s\u001b[0m 162ms/step\n",
      "Predicted Label for eczema-foot-70.jpg: Non-Acne\n",
      "\u001b[1m1/1\u001b[0m \u001b[32m━━━━━━━━━━━━━━━━━━━━\u001b[0m\u001b[37m\u001b[0m \u001b[1m0s\u001b[0m 165ms/step\n",
      "Predicted Label for actinic-keratosis-face-41.jpg: Non-Acne\n",
      "\u001b[1m1/1\u001b[0m \u001b[32m━━━━━━━━━━━━━━━━━━━━\u001b[0m\u001b[37m\u001b[0m \u001b[1m0s\u001b[0m 192ms/step\n",
      "Predicted Label for stasis-dermatitis-80.jpg: Non-Acne\n",
      "\u001b[1m1/1\u001b[0m \u001b[32m━━━━━━━━━━━━━━━━━━━━\u001b[0m\u001b[37m\u001b[0m \u001b[1m0s\u001b[0m 161ms/step\n",
      "Predicted Label for squamous-cell-carcinoma-nose-4.jpg: Non-Acne\n",
      "\u001b[1m1/1\u001b[0m \u001b[32m━━━━━━━━━━━━━━━━━━━━\u001b[0m\u001b[37m\u001b[0m \u001b[1m0s\u001b[0m 176ms/step\n",
      "Predicted Label for diabetic-bullae-10.jpg: Non-Acne\n",
      "\u001b[1m1/1\u001b[0m \u001b[32m━━━━━━━━━━━━━━━━━━━━\u001b[0m\u001b[37m\u001b[0m \u001b[1m0s\u001b[0m 157ms/step\n",
      "Predicted Label for actinic-keratosis-ear-2.jpg: Non-Acne\n"
     ]
    }
   ],
   "source": [
    "import os\n",
    "import numpy as np\n",
    "from tensorflow.keras.preprocessing import image  # For image preprocessing\n",
    "from tensorflow.keras.applications.vgg16 import preprocess_input  # For VGG16-specific preprocessing\n",
    "from tensorflow.keras.models import load_model  # For loading a saved model\n",
    "\n",
    "\n",
    "# Define the directory path\n",
    "non_acne_path = \"/home/agbor/Public/Deep Learning Projects/Tom Aniebet/Acne Detection/dataset/testing/skin\"\n",
    "\n",
    "# Get a list of all files and directories in the specified directory\n",
    "non_acne_files = os.listdir(non_acne_path)\n",
    "\n",
    "# Filter out only files\n",
    "non_acne_files = [f for f in non_acne_files if os.path.isfile(os.path.join(non_acne_path, f))]\n",
    "\n",
    "\n",
    "# Load the model from the file\n",
    "non_acne = load_model('VGG16Model.h5')\n",
    "\n",
    "# Iterate over each file in the acne directory\n",
    "for file_name in non_acne_files:\n",
    "    try:\n",
    "    \n",
    "\n",
    "        # Load and preprocess the image\n",
    "        img_path = os.path.join(non_acne_path, file_name)  # Construct the full path to the image\n",
    "        img = image.load_img(img_path, target_size=(224, 224))  # Load the image and resize it\n",
    "        img_array = image.img_to_array(img)  # Convert the image to a numpy array\n",
    "        img_array = np.expand_dims(img_array, axis=0)  # Add a batch dimension (1, 224, 224, 3)\n",
    "        img_array = preprocess_input(img_array)  # Apply VGG16-specific preprocessing\n",
    "\n",
    "        # Make a prediction using the trained model\n",
    "        prediction = non_acne.predict(img_array)  # Get the predicted probability from the model\n",
    "        prediction_class = (prediction > 0.5).astype(int)  # Convert probability to binary class label\n",
    "        # Map prediction to class label\n",
    "        class_labels = ['Acne', 'Non-Acne']  # Define the class labels\n",
    "        predicted_label = class_labels[prediction_class[0][0]]  # Get the predicted class label\n",
    "\n",
    "        # Print the predicted class label\n",
    "        print(f'Predicted Label for {file_name}: {predicted_label}')  # Output the predicted label\n",
    "    except Exception as e:\n",
    "            print(f\"Error processing {file_name}: {e}\")\n"
   ]
  },
  {
   "cell_type": "code",
   "execution_count": 21,
   "id": "6c18fde8",
   "metadata": {},
   "outputs": [
    {
     "name": "stderr",
     "output_type": "stream",
     "text": [
      "WARNING:absl:Compiled the loaded model, but the compiled metrics have yet to be built. `model.compile_metrics` will be empty until you train or evaluate the model.\n"
     ]
    },
    {
     "name": "stdout",
     "output_type": "stream",
     "text": [
      "\u001b[1m1/1\u001b[0m \u001b[32m━━━━━━━━━━━━━━━━━━━━\u001b[0m\u001b[37m\u001b[0m \u001b[1m0s\u001b[0m 276ms/step\n",
      "Prediction shape: (1, 1)\n",
      "Prediction values: [[0.00053286]]\n",
      "Predicted severity: 0\n"
     ]
    }
   ],
   "source": [
    "import tensorflow as tf\n",
    "from tensorflow.keras.models import load_model\n",
    "import numpy as np\n",
    "from PIL import Image\n",
    "\n",
    "# Load the model\n",
    "model = load_model('VGG16Model.h5')\n",
    "\n",
    "def predict_acne_severity(image_path):\n",
    "    img = Image.open(image_path)\n",
    "    img = img.resize((224, 224))  # Ensure the size matches your model's input size\n",
    "    img_array = np.array(img) / 255.0\n",
    "    img_array = np.expand_dims(img_array, axis=0)\n",
    "    prediction = model.predict(img_array)\n",
    "    \n",
    "    print(f\"Prediction shape: {prediction.shape}\")\n",
    "    print(f\"Prediction values: {prediction}\")\n",
    "\n",
    "    severity = np.argmax(prediction, axis=1)[0]  # Adjust if model outputs differently\n",
    "    return severity\n",
    "\n",
    "# Test the prediction function\n",
    "severity = predict_acne_severity('/home/agbor/Public/Deep Learning Projects/Tom Aniebet/Acne Detection/dataset/testing/acne/acne-355_jpeg.rf.a407ad30612ee0eea150efed8772694d.jpg')\n",
    "print(f\"Predicted severity: {severity}\")\n"
   ]
  },
  {
   "cell_type": "code",
   "execution_count": null,
   "id": "ade685a9",
   "metadata": {},
   "outputs": [],
   "source": []
  },
  {
   "cell_type": "code",
   "execution_count": null,
   "id": "c407dbcd",
   "metadata": {},
   "outputs": [],
   "source": []
  },
  {
   "cell_type": "code",
   "execution_count": null,
   "id": "f0b97c5a",
   "metadata": {},
   "outputs": [],
   "source": []
  },
  {
   "cell_type": "code",
   "execution_count": null,
   "id": "d6715137",
   "metadata": {},
   "outputs": [],
   "source": []
  },
  {
   "cell_type": "code",
   "execution_count": null,
   "id": "10a0f905",
   "metadata": {},
   "outputs": [],
   "source": []
  },
  {
   "cell_type": "code",
   "execution_count": null,
   "id": "f9111398",
   "metadata": {},
   "outputs": [],
   "source": []
  },
  {
   "cell_type": "code",
   "execution_count": null,
   "id": "1273b95b",
   "metadata": {},
   "outputs": [],
   "source": []
  },
  {
   "cell_type": "code",
   "execution_count": null,
   "id": "038bc24a",
   "metadata": {},
   "outputs": [],
   "source": []
  },
  {
   "cell_type": "code",
   "execution_count": null,
   "id": "0f4a30f7",
   "metadata": {},
   "outputs": [],
   "source": []
  }
 ],
 "metadata": {
  "kernelspec": {
   "display_name": "Python 3 (ipykernel)",
   "language": "python",
   "name": "python3"
  },
  "language_info": {
   "codemirror_mode": {
    "name": "ipython",
    "version": 3
   },
   "file_extension": ".py",
   "mimetype": "text/x-python",
   "name": "python",
   "nbconvert_exporter": "python",
   "pygments_lexer": "ipython3",
   "version": "3.11.5"
  }
 },
 "nbformat": 4,
 "nbformat_minor": 5
}
