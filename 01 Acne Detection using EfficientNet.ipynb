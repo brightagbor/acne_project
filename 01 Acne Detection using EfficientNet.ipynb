{
 "cells": [
  {
   "cell_type": "markdown",
   "id": "e1915c1f",
   "metadata": {},
   "source": [
    "# Acne Detection using EfficientNet"
   ]
  },
  {
   "cell_type": "markdown",
   "id": "253084c9",
   "metadata": {},
   "source": [
    "## Training and Validation\n"
   ]
  },
  {
   "cell_type": "markdown",
   "id": "45b4e329",
   "metadata": {},
   "source": [
    "### Importing Dependencies"
   ]
  },
  {
   "cell_type": "code",
   "execution_count": 1,
   "id": "60778960",
   "metadata": {},
   "outputs": [
    {
     "name": "stderr",
     "output_type": "stream",
     "text": [
      "2024-08-03 22:16:37.115936: I external/local_xla/xla/tsl/cuda/cudart_stub.cc:32] Could not find cuda drivers on your machine, GPU will not be used.\n",
      "2024-08-03 22:16:37.121907: I external/local_xla/xla/tsl/cuda/cudart_stub.cc:32] Could not find cuda drivers on your machine, GPU will not be used.\n",
      "2024-08-03 22:16:37.142367: E external/local_xla/xla/stream_executor/cuda/cuda_fft.cc:485] Unable to register cuFFT factory: Attempting to register factory for plugin cuFFT when one has already been registered\n",
      "2024-08-03 22:16:37.176279: E external/local_xla/xla/stream_executor/cuda/cuda_dnn.cc:8454] Unable to register cuDNN factory: Attempting to register factory for plugin cuDNN when one has already been registered\n",
      "2024-08-03 22:16:37.184759: E external/local_xla/xla/stream_executor/cuda/cuda_blas.cc:1452] Unable to register cuBLAS factory: Attempting to register factory for plugin cuBLAS when one has already been registered\n",
      "2024-08-03 22:16:37.198928: I tensorflow/core/platform/cpu_feature_guard.cc:210] This TensorFlow binary is optimized to use available CPU instructions in performance-critical operations.\n",
      "To enable the following instructions: AVX2 FMA, in other operations, rebuild TensorFlow with the appropriate compiler flags.\n",
      "2024-08-03 22:16:38.858914: W tensorflow/compiler/tf2tensorrt/utils/py_utils.cc:38] TF-TRT Warning: Could not find TensorRT\n"
     ]
    }
   ],
   "source": [
    "# Import EfficientNetB0 model with pre-trained weights from Keras applications\n",
    "from tensorflow.keras.applications import EfficientNetB0\n",
    "\n",
    "# Import the Model class to build and manage our neural network\n",
    "from tensorflow.keras.models import Model\n",
    "\n",
    "# Import Dense and Flatten layers for building our custom layers\n",
    "from tensorflow.keras.layers import Dense, Flatten\n",
    "\n",
    "# Import ImageDataGenerator for data augmentation and preprocessing\n",
    "from tensorflow.keras.preprocessing.image import ImageDataGenerator\n",
    "\n",
    "# Import Adam optimizer for compiling the model\n",
    "from tensorflow.keras.optimizers import Adam"
   ]
  },
  {
   "cell_type": "markdown",
   "id": "a8b6be64",
   "metadata": {},
   "source": [
    "### Load the pre-trained EfficientNetB0 model, excluding the top layers\n",
    "Loading the pre-trained EfficientNetB0 model without its top layers lets you use its powerful feature-detecting abilities and then customize the final part to fit your specific task.\n"
   ]
  },
  {
   "cell_type": "code",
   "execution_count": 2,
   "id": "c2340b5d",
   "metadata": {},
   "outputs": [],
   "source": [
    "base_model = EfficientNetB0(weights='imagenet', include_top=False, input_shape=(224, 224, 3))"
   ]
  },
  {
   "cell_type": "markdown",
   "id": "37063603",
   "metadata": {},
   "source": [
    "### Freeze the base model layers to prevent them from being updated during training\n",
    "Freezing the base model layers prevents them from being updated during training so that their learned features remain intact.\n"
   ]
  },
  {
   "cell_type": "code",
   "execution_count": 3,
   "id": "ec4e5592",
   "metadata": {},
   "outputs": [],
   "source": [
    "for layer in base_model.layers:\n",
    "    layer.trainable = False\n"
   ]
  },
  {
   "cell_type": "markdown",
   "id": "b7368e79",
   "metadata": {},
   "source": [
    "### Add custom classification layers\n",
    "Flatten the output from the EfficientNetB0 model to convert the 2D feature maps into a 1D vector\n"
   ]
  },
  {
   "cell_type": "code",
   "execution_count": 4,
   "id": "70049b8f",
   "metadata": {},
   "outputs": [],
   "source": [
    "x = Flatten()(base_model.output)"
   ]
  },
  {
   "cell_type": "markdown",
   "id": "93bde419",
   "metadata": {},
   "source": [
    "### Add a Dense layer with 256 units and ReLU activation function"
   ]
  },
  {
   "cell_type": "code",
   "execution_count": 5,
   "id": "ad448073",
   "metadata": {},
   "outputs": [],
   "source": [
    "x = Dense(256, activation='relu')(x)"
   ]
  },
  {
   "cell_type": "markdown",
   "id": "bff80b4e",
   "metadata": {},
   "source": [
    "### Add a final Dense layer with a single unit and sigmoid activation function\n"
   ]
  },
  {
   "cell_type": "code",
   "execution_count": 6,
   "id": "78f353aa",
   "metadata": {},
   "outputs": [],
   "source": [
    "x = Dense(1, activation='sigmoid')(x)"
   ]
  },
  {
   "cell_type": "markdown",
   "id": "373d9dcb",
   "metadata": {},
   "source": [
    "### Create the full model\n",
    "Create a new Model object by specifying the input from the base EfficientNetB0 model and the output from the custom layers.\n"
   ]
  },
  {
   "cell_type": "code",
   "execution_count": 7,
   "id": "60028c5c",
   "metadata": {},
   "outputs": [],
   "source": [
    "model = Model(inputs=base_model.input, outputs=x)"
   ]
  },
  {
   "cell_type": "markdown",
   "id": "a7bc80e5",
   "metadata": {},
   "source": [
    "### Compile the model\n",
    "Compile the model with the Adam optimizer, binary cross-entropy loss function, and accuracy as a metric.\n"
   ]
  },
  {
   "cell_type": "code",
   "execution_count": 8,
   "id": "9333f3e3",
   "metadata": {},
   "outputs": [],
   "source": [
    "model.compile(optimizer=Adam(learning_rate=0.0001), loss='binary_crossentropy', metrics=['accuracy'])"
   ]
  },
  {
   "cell_type": "markdown",
   "id": "04a5e0d4",
   "metadata": {},
   "source": [
    "### Data augmentation and generators for training and validation"
   ]
  },
  {
   "cell_type": "code",
   "execution_count": 9,
   "id": "7eb9e54f",
   "metadata": {},
   "outputs": [
    {
     "name": "stdout",
     "output_type": "stream",
     "text": [
      "Found 1646 images belonging to 2 classes.\n",
      "Found 112 images belonging to 2 classes.\n"
     ]
    }
   ],
   "source": [
    "# Create an ImageDataGenerator instance for the training dataset with data augmentation\n",
    "\n",
    "train_datagen = ImageDataGenerator(\n",
    "    rescale=1./255,           # Normalize pixel values to the range [0, 1]\n",
    "    rotation_range=30,        # Randomly rotate images by up to 30 degrees\n",
    "    shear_range=0.2,          # Apply random shearing transformations\n",
    "    zoom_range=0.2,           # Apply random zoom\n",
    "    horizontal_flip=True      # Randomly flip images horizontally\n",
    ")\n",
    "\n",
    "### Create an ImageDataGenerator instance for the validation dataset without data augmentation\n",
    "val_datagen = ImageDataGenerator(rescale=1./255)\n",
    "\n",
    "# Generate batches of augmented image data from the training directory\n",
    "train_generator = train_datagen.flow_from_directory(\n",
    "    \"dataset/training/\",     # Path to the training dataset directory\n",
    "    target_size=(224, 224),  # Resize images to 224x224 pixels\n",
    "    batch_size=32,           # Number of images to return in each batch\n",
    "    class_mode='binary'      # Binary classification labels\n",
    ")\n",
    "\n",
    "# Generate batches of image data from the validation directory\n",
    "val_generator = val_datagen.flow_from_directory(\n",
    "    \"dataset/validation/\",   # Path to the validation dataset directory\n",
    "    target_size=(224, 224),  # Resize images to 224x224 pixels\n",
    "    batch_size=32,           # Number of images to return in each batch\n",
    "    class_mode='binary'      # Binary classification labels\n",
    ")\n"
   ]
  },
  {
   "cell_type": "markdown",
   "id": "e464b916",
   "metadata": {},
   "source": [
    "### Train the Model"
   ]
  },
  {
   "cell_type": "code",
   "execution_count": 10,
   "id": "613d00b5",
   "metadata": {},
   "outputs": [
    {
     "name": "stdout",
     "output_type": "stream",
     "text": [
      "Epoch 1/25\n"
     ]
    },
    {
     "name": "stderr",
     "output_type": "stream",
     "text": [
      "/home/agbor/anaconda3/lib/python3.11/site-packages/keras/src/trainers/data_adapters/py_dataset_adapter.py:121: UserWarning: Your `PyDataset` class should call `super().__init__(**kwargs)` in its constructor. `**kwargs` can include `workers`, `use_multiprocessing`, `max_queue_size`. Do not pass these arguments to `fit()`, as they will be ignored.\n",
      "  self._warn_if_super_not_called()\n"
     ]
    },
    {
     "name": "stdout",
     "output_type": "stream",
     "text": [
      "\u001b[1m52/52\u001b[0m \u001b[32m━━━━━━━━━━━━━━━━━━━━\u001b[0m\u001b[37m\u001b[0m \u001b[1m270s\u001b[0m 5s/step - accuracy: 0.5172 - loss: 1.1720 - val_accuracy: 0.5000 - val_loss: 0.7028\n",
      "Epoch 2/25\n",
      "\u001b[1m52/52\u001b[0m \u001b[32m━━━━━━━━━━━━━━━━━━━━\u001b[0m\u001b[37m\u001b[0m \u001b[1m243s\u001b[0m 4s/step - accuracy: 0.4668 - loss: 0.7054 - val_accuracy: 0.5000 - val_loss: 0.6933\n",
      "Epoch 3/25\n",
      "\u001b[1m52/52\u001b[0m \u001b[32m━━━━━━━━━━━━━━━━━━━━\u001b[0m\u001b[37m\u001b[0m \u001b[1m270s\u001b[0m 4s/step - accuracy: 0.5293 - loss: 0.6946 - val_accuracy: 0.5000 - val_loss: 0.6967\n",
      "Epoch 4/25\n",
      "\u001b[1m52/52\u001b[0m \u001b[32m━━━━━━━━━━━━━━━━━━━━\u001b[0m\u001b[37m\u001b[0m \u001b[1m231s\u001b[0m 4s/step - accuracy: 0.4805 - loss: 0.7043 - val_accuracy: 0.5000 - val_loss: 0.6932\n",
      "Epoch 5/25\n",
      "\u001b[1m52/52\u001b[0m \u001b[32m━━━━━━━━━━━━━━━━━━━━\u001b[0m\u001b[37m\u001b[0m \u001b[1m236s\u001b[0m 4s/step - accuracy: 0.4810 - loss: 0.7003 - val_accuracy: 0.5000 - val_loss: 0.7221\n",
      "Epoch 6/25\n",
      "\u001b[1m52/52\u001b[0m \u001b[32m━━━━━━━━━━━━━━━━━━━━\u001b[0m\u001b[37m\u001b[0m \u001b[1m225s\u001b[0m 4s/step - accuracy: 0.5003 - loss: 0.7113 - val_accuracy: 0.5000 - val_loss: 0.7242\n",
      "Epoch 7/25\n",
      "\u001b[1m52/52\u001b[0m \u001b[32m━━━━━━━━━━━━━━━━━━━━\u001b[0m\u001b[37m\u001b[0m \u001b[1m277s\u001b[0m 4s/step - accuracy: 0.4955 - loss: 0.7178 - val_accuracy: 0.5000 - val_loss: 0.7138\n",
      "Epoch 8/25\n",
      "\u001b[1m52/52\u001b[0m \u001b[32m━━━━━━━━━━━━━━━━━━━━\u001b[0m\u001b[37m\u001b[0m \u001b[1m247s\u001b[0m 5s/step - accuracy: 0.4919 - loss: 0.7067 - val_accuracy: 0.5000 - val_loss: 0.6932\n",
      "Epoch 9/25\n",
      "\u001b[1m52/52\u001b[0m \u001b[32m━━━━━━━━━━━━━━━━━━━━\u001b[0m\u001b[37m\u001b[0m \u001b[1m240s\u001b[0m 4s/step - accuracy: 0.4810 - loss: 0.6969 - val_accuracy: 0.5000 - val_loss: 0.6932\n",
      "Epoch 10/25\n",
      "\u001b[1m52/52\u001b[0m \u001b[32m━━━━━━━━━━━━━━━━━━━━\u001b[0m\u001b[37m\u001b[0m \u001b[1m230s\u001b[0m 4s/step - accuracy: 0.5110 - loss: 0.6974 - val_accuracy: 0.5000 - val_loss: 0.6938\n",
      "Epoch 11/25\n",
      "\u001b[1m52/52\u001b[0m \u001b[32m━━━━━━━━━━━━━━━━━━━━\u001b[0m\u001b[37m\u001b[0m \u001b[1m239s\u001b[0m 4s/step - accuracy: 0.5095 - loss: 0.6968 - val_accuracy: 0.5000 - val_loss: 0.6932\n",
      "Epoch 12/25\n",
      "\u001b[1m52/52\u001b[0m \u001b[32m━━━━━━━━━━━━━━━━━━━━\u001b[0m\u001b[37m\u001b[0m \u001b[1m236s\u001b[0m 4s/step - accuracy: 0.4991 - loss: 0.6970 - val_accuracy: 0.5000 - val_loss: 0.7033\n",
      "Epoch 13/25\n",
      "\u001b[1m52/52\u001b[0m \u001b[32m━━━━━━━━━━━━━━━━━━━━\u001b[0m\u001b[37m\u001b[0m \u001b[1m268s\u001b[0m 4s/step - accuracy: 0.4957 - loss: 0.7021 - val_accuracy: 0.5000 - val_loss: 0.7103\n",
      "Epoch 14/25\n",
      "\u001b[1m52/52\u001b[0m \u001b[32m━━━━━━━━━━━━━━━━━━━━\u001b[0m\u001b[37m\u001b[0m \u001b[1m240s\u001b[0m 4s/step - accuracy: 0.4881 - loss: 0.7136 - val_accuracy: 0.5000 - val_loss: 0.6987\n",
      "Epoch 15/25\n",
      "\u001b[1m52/52\u001b[0m \u001b[32m━━━━━━━━━━━━━━━━━━━━\u001b[0m\u001b[37m\u001b[0m \u001b[1m257s\u001b[0m 4s/step - accuracy: 0.4770 - loss: 0.7016 - val_accuracy: 0.5000 - val_loss: 0.7006\n",
      "Epoch 16/25\n",
      "\u001b[1m52/52\u001b[0m \u001b[32m━━━━━━━━━━━━━━━━━━━━\u001b[0m\u001b[37m\u001b[0m \u001b[1m226s\u001b[0m 4s/step - accuracy: 0.5059 - loss: 0.6982 - val_accuracy: 0.5000 - val_loss: 0.7169\n",
      "Epoch 17/25\n",
      "\u001b[1m52/52\u001b[0m \u001b[32m━━━━━━━━━━━━━━━━━━━━\u001b[0m\u001b[37m\u001b[0m \u001b[1m235s\u001b[0m 4s/step - accuracy: 0.4830 - loss: 0.7109 - val_accuracy: 0.5000 - val_loss: 0.6938\n",
      "Epoch 18/25\n",
      "\u001b[1m52/52\u001b[0m \u001b[32m━━━━━━━━━━━━━━━━━━━━\u001b[0m\u001b[37m\u001b[0m \u001b[1m240s\u001b[0m 4s/step - accuracy: 0.4980 - loss: 0.6955 - val_accuracy: 0.5000 - val_loss: 0.6994\n",
      "Epoch 19/25\n",
      "\u001b[1m52/52\u001b[0m \u001b[32m━━━━━━━━━━━━━━━━━━━━\u001b[0m\u001b[37m\u001b[0m \u001b[1m251s\u001b[0m 5s/step - accuracy: 0.4641 - loss: 0.7027 - val_accuracy: 0.5000 - val_loss: 0.6934\n",
      "Epoch 20/25\n",
      "\u001b[1m52/52\u001b[0m \u001b[32m━━━━━━━━━━━━━━━━━━━━\u001b[0m\u001b[37m\u001b[0m \u001b[1m253s\u001b[0m 5s/step - accuracy: 0.4930 - loss: 0.7039 - val_accuracy: 0.5000 - val_loss: 0.6945\n",
      "Epoch 21/25\n",
      "\u001b[1m52/52\u001b[0m \u001b[32m━━━━━━━━━━━━━━━━━━━━\u001b[0m\u001b[37m\u001b[0m \u001b[1m267s\u001b[0m 5s/step - accuracy: 0.5017 - loss: 0.6945 - val_accuracy: 0.5000 - val_loss: 0.6937\n",
      "Epoch 22/25\n",
      "\u001b[1m52/52\u001b[0m \u001b[32m━━━━━━━━━━━━━━━━━━━━\u001b[0m\u001b[37m\u001b[0m \u001b[1m279s\u001b[0m 5s/step - accuracy: 0.4621 - loss: 0.6990 - val_accuracy: 0.5000 - val_loss: 0.6936\n",
      "Epoch 23/25\n"
     ]
    },
    {
     "name": "stderr",
     "output_type": "stream",
     "text": [
      "2024-08-03 23:48:39.076390: I tensorflow/core/kernels/data/shuffle_dataset_op.cc:450] ShuffleDatasetV3:2: Filling up shuffle buffer (this may take a while): 7 of 8\n",
      "2024-08-03 23:48:40.448879: I tensorflow/core/kernels/data/shuffle_dataset_op.cc:480] Shuffle buffer filled.\n"
     ]
    },
    {
     "name": "stdout",
     "output_type": "stream",
     "text": [
      "\u001b[1m52/52\u001b[0m \u001b[32m━━━━━━━━━━━━━━━━━━━━\u001b[0m\u001b[37m\u001b[0m \u001b[1m294s\u001b[0m 5s/step - accuracy: 0.5094 - loss: 0.6960 - val_accuracy: 0.5000 - val_loss: 0.6997\n",
      "Epoch 24/25\n"
     ]
    },
    {
     "name": "stderr",
     "output_type": "stream",
     "text": [
      "2024-08-03 23:52:49.757015: I tensorflow/core/kernels/data/shuffle_dataset_op.cc:450] ShuffleDatasetV3:2: Filling up shuffle buffer (this may take a while): 7 of 8\n",
      "2024-08-03 23:52:51.157769: I tensorflow/core/kernels/data/shuffle_dataset_op.cc:480] Shuffle buffer filled.\n"
     ]
    },
    {
     "name": "stdout",
     "output_type": "stream",
     "text": [
      "\u001b[1m52/52\u001b[0m \u001b[32m━━━━━━━━━━━━━━━━━━━━\u001b[0m\u001b[37m\u001b[0m \u001b[1m259s\u001b[0m 5s/step - accuracy: 0.4947 - loss: 0.6953 - val_accuracy: 0.5000 - val_loss: 0.6935\n",
      "Epoch 25/25\n",
      "\u001b[1m52/52\u001b[0m \u001b[32m━━━━━━━━━━━━━━━━━━━━\u001b[0m\u001b[37m\u001b[0m \u001b[1m223s\u001b[0m 4s/step - accuracy: 0.4729 - loss: 0.7023 - val_accuracy: 0.5000 - val_loss: 0.7092\n"
     ]
    },
    {
     "data": {
      "text/plain": [
       "<keras.src.callbacks.history.History at 0x7f46ed784490>"
      ]
     },
     "execution_count": 10,
     "metadata": {},
     "output_type": "execute_result"
    }
   ],
   "source": [
    "# Train the model using the training data generator and validate it using the validation data generator\n",
    "model.fit(\n",
    "    train_generator,          # Data generator for training images\n",
    "    epochs=25,                # Number of epochs to train the model\n",
    "    validation_data=val_generator  # Data generator for validation images to evaluate model performance\n",
    ")\n"
   ]
  },
  {
   "cell_type": "markdown",
   "id": "aed9cab8",
   "metadata": {},
   "source": [
    "### Model Evaluation\n"
   ]
  },
  {
   "cell_type": "markdown",
   "id": "3a075bde",
   "metadata": {},
   "source": [
    "### Create a data generator for the testing dataset"
   ]
  },
  {
   "cell_type": "code",
   "execution_count": 11,
   "id": "8a89de02",
   "metadata": {},
   "outputs": [
    {
     "name": "stdout",
     "output_type": "stream",
     "text": [
      "Found 96 images belonging to 2 classes.\n"
     ]
    }
   ],
   "source": [
    "test_generator = val_datagen.flow_from_directory(\n",
    "    \"dataset/testing/\",       # Path to the testing dataset directory\n",
    "    target_size=(224, 224),   # Resize images to 224x224 pixels\n",
    "    batch_size=32,            # Number of images to return in each batch\n",
    "    class_mode='binary',      # Binary classification labels\n",
    "    shuffle=False             # Do not shuffle the order of images for consistent evaluation\n",
    ")"
   ]
  },
  {
   "cell_type": "markdown",
   "id": "5706660d",
   "metadata": {},
   "source": [
    "### Evaluate the model's performance on the testing dataset"
   ]
  },
  {
   "cell_type": "code",
   "execution_count": 12,
   "id": "69aab4a5",
   "metadata": {},
   "outputs": [
    {
     "name": "stdout",
     "output_type": "stream",
     "text": [
      "\u001b[1m3/3\u001b[0m \u001b[32m━━━━━━━━━━━━━━━━━━━━\u001b[0m\u001b[37m\u001b[0m \u001b[1m14s\u001b[0m 5s/step - accuracy: 0.3125 - loss: 0.7767  \n"
     ]
    }
   ],
   "source": [
    "test_loss, test_accuracy = model.evaluate(test_generator)"
   ]
  },
  {
   "cell_type": "code",
   "execution_count": 13,
   "id": "e2eecf3a",
   "metadata": {},
   "outputs": [
    {
     "name": "stdout",
     "output_type": "stream",
     "text": [
      "Test Accuracy: 0.50\n",
      "Test Loss: 0.71\n"
     ]
    }
   ],
   "source": [
    "# Print the test accuracy and test loss\n",
    "print(f\"Test Accuracy: {test_accuracy:.2f}\")  # Print the test accuracy\n",
    "print(f\"Test Loss: {test_loss:.2f}\")         # Print the test loss\n"
   ]
  },
  {
   "cell_type": "markdown",
   "id": "78b2c8c9",
   "metadata": {},
   "source": [
    "### Confusion Matrix"
   ]
  },
  {
   "cell_type": "code",
   "execution_count": 14,
   "id": "f1c96f73",
   "metadata": {},
   "outputs": [
    {
     "name": "stdout",
     "output_type": "stream",
     "text": [
      "\u001b[1m3/3\u001b[0m \u001b[32m━━━━━━━━━━━━━━━━━━━━\u001b[0m\u001b[37m\u001b[0m \u001b[1m18s\u001b[0m 4s/step\n",
      "[[ 0 48]\n",
      " [ 0 48]]\n",
      "              precision    recall  f1-score   support\n",
      "\n",
      "           0       0.00      0.00      0.00        48\n",
      "           1       0.50      1.00      0.67        48\n",
      "\n",
      "    accuracy                           0.50        96\n",
      "   macro avg       0.25      0.50      0.33        96\n",
      "weighted avg       0.25      0.50      0.33        96\n",
      "\n"
     ]
    },
    {
     "name": "stderr",
     "output_type": "stream",
     "text": [
      "/home/agbor/anaconda3/lib/python3.11/site-packages/sklearn/metrics/_classification.py:1509: UndefinedMetricWarning: Precision is ill-defined and being set to 0.0 in labels with no predicted samples. Use `zero_division` parameter to control this behavior.\n",
      "  _warn_prf(average, modifier, f\"{metric.capitalize()} is\", len(result))\n",
      "/home/agbor/anaconda3/lib/python3.11/site-packages/sklearn/metrics/_classification.py:1509: UndefinedMetricWarning: Precision is ill-defined and being set to 0.0 in labels with no predicted samples. Use `zero_division` parameter to control this behavior.\n",
      "  _warn_prf(average, modifier, f\"{metric.capitalize()} is\", len(result))\n",
      "/home/agbor/anaconda3/lib/python3.11/site-packages/sklearn/metrics/_classification.py:1509: UndefinedMetricWarning: Precision is ill-defined and being set to 0.0 in labels with no predicted samples. Use `zero_division` parameter to control this behavior.\n",
      "  _warn_prf(average, modifier, f\"{metric.capitalize()} is\", len(result))\n"
     ]
    }
   ],
   "source": [
    "# Import functions for evaluating classification performance from scikit-learn\n",
    "from sklearn.metrics import confusion_matrix, classification_report\n",
    "\n",
    "# Get the true labels from the test generator\n",
    "true_labels = test_generator.classes\n",
    "\n",
    "# Generate predictions for the test dataset using the trained model\n",
    "predictions = model.predict(test_generator)\n",
    "\n",
    "# Convert the predicted probabilities to binary labels\n",
    "predicted_labels = (predictions > 0.5).astype(int).reshape(-1)\n",
    "\n",
    "# Compute the confusion matrix to evaluate the performance of the model\n",
    "cm = confusion_matrix(true_labels, predicted_labels)\n",
    "print(cm)\n",
    "\n",
    "# Generate a classification report that includes precision, recall, and F1-score\n",
    "print(classification_report(true_labels, predicted_labels))"
   ]
  },
  {
   "cell_type": "code",
   "execution_count": null,
   "id": "7c693d66",
   "metadata": {},
   "outputs": [],
   "source": []
  },
  {
   "cell_type": "markdown",
   "id": "b9339f96",
   "metadata": {},
   "source": [
    "### Heatmap of Confusion Matrix\n"
   ]
  },
  {
   "cell_type": "code",
   "execution_count": 15,
   "id": "578b0b99",
   "metadata": {},
   "outputs": [
    {
     "data": {
      "image/png": "[encoded data removed]",
      "text/plain": [
       "<Figure size 800x600 with 2 Axes>"
      ]
     },
     "metadata": {},
     "output_type": "display_data"
    }
   ],
   "source": [
    "import numpy as np\n",
    "import seaborn as sns\n",
    "import matplotlib.pyplot as plt\n",
    "\n",
    "# Compute confusion matrix\n",
    "cm = confusion_matrix(true_labels, predicted_labels)\n",
    "\n",
    "# Define class names\n",
    "class_names = ['Non-Acne', 'Acne']\n",
    "\n",
    "# Create a heatmap\n",
    "plt.figure(figsize=(8, 6))\n",
    "sns.heatmap(cm, annot=True, fmt='d', cmap='Blues', xticklabels=class_names, yticklabels=class_names)\n",
    "plt.title('Confusion Matrix')\n",
    "plt.xlabel('Predicted Class')\n",
    "plt.ylabel('True Class')\n",
    "plt.show()"
   ]
  },
  {
   "cell_type": "markdown",
   "id": "ff378a16",
   "metadata": {},
   "source": [
    "### ROC Curve and AUC (Area Under the Curve)\n"
   ]
  },
  {
   "cell_type": "code",
   "execution_count": 16,
   "id": "2180b342",
   "metadata": {},
   "outputs": [
    {
     "data": {
      "image/png": "[encoded data removed]",
      "text/plain": [
       "<Figure size 640x480 with 1 Axes>"
      ]
     },
     "metadata": {},
     "output_type": "display_data"
    }
   ],
   "source": [
    "from sklearn.metrics import roc_curve, auc\n",
    "\n",
    "# Compute ROC curve and AUC\n",
    "fpr, tpr, _ = roc_curve(true_labels, predictions)\n",
    "roc_auc = auc(fpr, tpr)\n",
    "\n",
    "# Plot ROC curve\n",
    "plt.figure()\n",
    "plt.plot(fpr, tpr, color='blue', lw=2, label=f'ROC curve (area = {roc_auc:.2f})')\n",
    "plt.plot([0, 1], [0, 1], color='gray', lw=2, linestyle='--')\n",
    "plt.xlim([0.0, 1.0])\n",
    "plt.ylim([0.0, 1.05])\n",
    "plt.xlabel('False Positive Rate')\n",
    "plt.ylabel('True Positive Rate')\n",
    "plt.title('Receiver Operating Characteristic (ROC)')\n",
    "plt.legend(loc='lower right')\n",
    "plt.show()\n"
   ]
  },
  {
   "cell_type": "markdown",
   "id": "74c9cd06",
   "metadata": {},
   "source": [
    "### Precision vs Recall vs F1-Score"
   ]
  },
  {
   "cell_type": "code",
   "execution_count": 17,
   "id": "1ec88e0b",
   "metadata": {},
   "outputs": [
    {
     "name": "stderr",
     "output_type": "stream",
     "text": [
      "/home/agbor/anaconda3/lib/python3.11/site-packages/sklearn/metrics/_classification.py:1509: UndefinedMetricWarning: Precision is ill-defined and being set to 0.0 in labels with no predicted samples. Use `zero_division` parameter to control this behavior.\n",
      "  _warn_prf(average, modifier, f\"{metric.capitalize()} is\", len(result))\n",
      "/home/agbor/anaconda3/lib/python3.11/site-packages/sklearn/metrics/_classification.py:1509: UndefinedMetricWarning: Precision is ill-defined and being set to 0.0 in labels with no predicted samples. Use `zero_division` parameter to control this behavior.\n",
      "  _warn_prf(average, modifier, f\"{metric.capitalize()} is\", len(result))\n",
      "/home/agbor/anaconda3/lib/python3.11/site-packages/sklearn/metrics/_classification.py:1509: UndefinedMetricWarning: Precision is ill-defined and being set to 0.0 in labels with no predicted samples. Use `zero_division` parameter to control this behavior.\n",
      "  _warn_prf(average, modifier, f\"{metric.capitalize()} is\", len(result))\n"
     ]
    },
    {
     "data": {
      "image/png": "[encoded data removed]",
      "text/plain": [
       "<Figure size 1000x600 with 1 Axes>"
      ]
     },
     "metadata": {},
     "output_type": "display_data"
    }
   ],
   "source": [
    "import pandas as pd\n",
    "\n",
    "# Generate a classification report\n",
    "report = classification_report(true_labels, predicted_labels, target_names=['Non-Acne', 'Acne'], output_dict=True)\n",
    "\n",
    "# Extract Precision, Recall, and F1-Score for each class\n",
    "metrics = ['precision', 'recall', 'f1-score']\n",
    "classes = ['Non-Acne', 'Acne']\n",
    "values = {metric: [report[class_name][metric] for class_name in classes] for metric in metrics}\n",
    "\n",
    "# Convert to a format suitable for seaborn\n",
    "metrics_data = []\n",
    "for metric, scores in values.items():\n",
    "    for score, class_name in zip(scores, classes):\n",
    "        metrics_data.append({'Metric': metric, 'Class': class_name, 'Score': score})\n",
    "\n",
    "# Create a DataFrame\n",
    "df_metrics = pd.DataFrame(metrics_data)\n",
    "\n",
    "# Plot the metrics\n",
    "plt.figure(figsize=(10, 6))\n",
    "sns.barplot(x='Metric', y='Score', hue='Class', data=df_metrics, palette='Set2')\n",
    "plt.title('Precision, Recall, and F1-Score Comparison')\n",
    "plt.ylim(0, 1)  # All metrics are between 0 and 1\n",
    "plt.ylabel('Score')\n",
    "plt.show()\n"
   ]
  },
  {
   "cell_type": "markdown",
   "id": "17445e6a",
   "metadata": {},
   "source": [
    "### Matthews Correlation Coefficient (MCC)"
   ]
  },
  {
   "cell_type": "code",
   "execution_count": 18,
   "id": "3263e2a4",
   "metadata": {},
   "outputs": [
    {
     "name": "stdout",
     "output_type": "stream",
     "text": [
      "MCC: 0.00\n"
     ]
    }
   ],
   "source": [
    "from sklearn.metrics import matthews_corrcoef\n",
    "\n",
    "mcc = matthews_corrcoef(true_labels, predicted_labels)\n",
    "print(f'MCC: {mcc:.2f}')"
   ]
  },
  {
   "cell_type": "markdown",
   "id": "5ed09bf0",
   "metadata": {},
   "source": [
    "### Making predictions using a single image"
   ]
  },
  {
   "cell_type": "code",
   "execution_count": 19,
   "id": "197bc36c",
   "metadata": {},
   "outputs": [
    {
     "name": "stdout",
     "output_type": "stream",
     "text": [
      "\u001b[1m1/1\u001b[0m \u001b[32m━━━━━━━━━━━━━━━━━━━━\u001b[0m\u001b[37m\u001b[0m \u001b[1m5s\u001b[0m 5s/step\n",
      "Predicted Label: Non-Acne\n"
     ]
    }
   ],
   "source": [
    "# Import necessary libraries\n",
    "import numpy as np  # For numerical operations\n",
    "from tensorflow.keras.preprocessing import image  # For image preprocessing\n",
    "from tensorflow.keras.applications.vgg16 import preprocess_input  # For VGG16-specific preprocessing\n",
    "from tensorflow.keras.models import load_model  # For loading a saved model\n",
    "\n",
    "# Load and preprocess the image\n",
    "img_path = \"dataset/testing/acne/acne-7_jpeg.rf.34ee37b930f592f787bb8d1bf6b37d30.jpg\"  # Path to the image file\n",
    "img = image.load_img(img_path, target_size=(224, 224))  # Load the image and resize it to 224x224 pixels\n",
    "img_array = image.img_to_array(img)  # Convert the image to a numpy array\n",
    "img_array = np.expand_dims(img_array, axis=0)  # Add a batch dimension (1, 224, 224, 3)\n",
    "img_array = preprocess_input(img_array)  # Apply VGG16-specific preprocessing (scaling pixel values)\n",
    "\n",
    "# Make a prediction using the trained model\n",
    "prediction = model.predict(img_array)  # Get the predicted probability from the model\n",
    "prediction_class = (prediction > 0.5).astype(int)  # Convert probability to binary class label\n",
    "\n",
    "# Map prediction to class label\n",
    "class_labels = ['Non-Acne', 'Acne']  # Define the class labels\n",
    "predicted_label = class_labels[prediction_class[0][0]]  # Get the predicted class label\n",
    "\n",
    "# Print the predicted class label\n",
    "print(f'Predicted Label: {predicted_label}')  # Output the predicted label\n"
   ]
  },
  {
   "cell_type": "markdown",
   "id": "e417b7cd",
   "metadata": {},
   "source": [
    "### Saving the Model"
   ]
  },
  {
   "cell_type": "code",
   "execution_count": 25,
   "id": "bbe0c097",
   "metadata": {
    "scrolled": true
   },
   "outputs": [
    {
     "name": "stderr",
     "output_type": "stream",
     "text": [
      "WARNING:absl:You are saving your model as an HDF5 file via `model.save()` or `keras.saving.save_model(model)`. This file format is considered legacy. We recommend using instead the native Keras format, e.g. `model.save('my_model.keras')` or `keras.saving.save_model(model, 'my_model.keras')`. \n"
     ]
    }
   ],
   "source": [
    "from tensorflow.keras.models import save_model\n",
    "\n",
    "# Assuming `model` is your trained Keras model\n",
    "model.save('EfficientNetModel.h5')  # Save model to HDF5 file\n"
   ]
  },
  {
   "cell_type": "code",
   "execution_count": null,
   "id": "eb934239",
   "metadata": {
    "scrolled": false
   },
   "outputs": [],
   "source": []
  },
  {
   "cell_type": "code",
   "execution_count": null,
   "id": "5d7bffa9",
   "metadata": {},
   "outputs": [],
   "source": []
  }
 ],
 "metadata": {
  "kernelspec": {
   "display_name": "Python 3 (ipykernel)",
   "language": "python",
   "name": "python3"
  },
  "language_info": {
   "codemirror_mode": {
    "name": "ipython",
    "version": 3
   },
   "file_extension": ".py",
   "mimetype": "text/x-python",
   "name": "python",
   "nbconvert_exporter": "python",
   "pygments_lexer": "ipython3",
   "version": "3.11.5"
  }
 },
 "nbformat": 4,
 "nbformat_minor": 5
}
