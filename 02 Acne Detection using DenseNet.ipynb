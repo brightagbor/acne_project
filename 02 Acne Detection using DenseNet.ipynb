{
 "cells": [
  {
   "cell_type": "markdown",
   "id": "272d9226",
   "metadata": {},
   "source": [
    "# Acne Detection using DenseNet"
   ]
  },
  {
   "cell_type": "markdown",
   "id": "08d4705c",
   "metadata": {},
   "source": [
    "# Training and Validation"
   ]
  },
  {
   "cell_type": "markdown",
   "id": "ecc0517d",
   "metadata": {},
   "source": [
    "### Importing Dependencies"
   ]
  },
  {
   "cell_type": "code",
   "execution_count": 1,
   "id": "fd07c76b",
   "metadata": {},
   "outputs": [
    {
     "name": "stderr",
     "output_type": "stream",
     "text": [
      "2024-08-03 22:16:28.149691: I external/local_xla/xla/tsl/cuda/cudart_stub.cc:32] Could not find cuda drivers on your machine, GPU will not be used.\n",
      "2024-08-03 22:16:28.156224: I external/local_xla/xla/tsl/cuda/cudart_stub.cc:32] Could not find cuda drivers on your machine, GPU will not be used.\n",
      "2024-08-03 22:16:28.178900: E external/local_xla/xla/stream_executor/cuda/cuda_fft.cc:485] Unable to register cuFFT factory: Attempting to register factory for plugin cuFFT when one has already been registered\n",
      "2024-08-03 22:16:28.210954: E external/local_xla/xla/stream_executor/cuda/cuda_dnn.cc:8454] Unable to register cuDNN factory: Attempting to register factory for plugin cuDNN when one has already been registered\n",
      "2024-08-03 22:16:28.219428: E external/local_xla/xla/stream_executor/cuda/cuda_blas.cc:1452] Unable to register cuBLAS factory: Attempting to register factory for plugin cuBLAS when one has already been registered\n",
      "2024-08-03 22:16:28.236378: I tensorflow/core/platform/cpu_feature_guard.cc:210] This TensorFlow binary is optimized to use available CPU instructions in performance-critical operations.\n",
      "To enable the following instructions: AVX2 FMA, in other operations, rebuild TensorFlow with the appropriate compiler flags.\n",
      "2024-08-03 22:16:29.829072: W tensorflow/compiler/tf2tensorrt/utils/py_utils.cc:38] TF-TRT Warning: Could not find TensorRT\n"
     ]
    }
   ],
   "source": [
    "from tensorflow.keras.applications import DenseNet121\n",
    "from tensorflow.keras.models import Model\n",
    "from tensorflow.keras.layers import Dense, Flatten\n",
    "from tensorflow.keras.preprocessing.image import ImageDataGenerator\n",
    "from tensorflow.keras.optimizers import Adam"
   ]
  },
  {
   "cell_type": "markdown",
   "id": "c1f83a05",
   "metadata": {},
   "source": [
    "### Load the pre-trained DenseNet121 model, excluding the top layers"
   ]
  },
  {
   "cell_type": "code",
   "execution_count": 2,
   "id": "df9734bd",
   "metadata": {},
   "outputs": [],
   "source": [
    "base_model = DenseNet121(weights='imagenet', include_top=False, input_shape=(224, 224, 3))"
   ]
  },
  {
   "cell_type": "markdown",
   "id": "8a3220b6",
   "metadata": {},
   "source": [
    "### Freeze the base model layers"
   ]
  },
  {
   "cell_type": "code",
   "execution_count": 3,
   "id": "104408b6",
   "metadata": {},
   "outputs": [],
   "source": [
    "for layer in base_model.layers:\n",
    "    layer.trainable = False"
   ]
  },
  {
   "cell_type": "markdown",
   "id": "f90c0c05",
   "metadata": {},
   "source": [
    "### Add custom classification layers"
   ]
  },
  {
   "cell_type": "code",
   "execution_count": 4,
   "id": "439bfe77",
   "metadata": {},
   "outputs": [],
   "source": [
    "x = Flatten()(base_model.output)\n",
    "x = Dense(256, activation='relu')(x)\n",
    "x = Dense(1, activation='sigmoid')(x)"
   ]
  },
  {
   "cell_type": "markdown",
   "id": "9cc868b3",
   "metadata": {},
   "source": [
    "### Create the full model"
   ]
  },
  {
   "cell_type": "code",
   "execution_count": 5,
   "id": "a5a627cf",
   "metadata": {},
   "outputs": [],
   "source": [
    "model = Model(inputs=base_model.input, outputs=x)"
   ]
  },
  {
   "cell_type": "markdown",
   "id": "1035fd68",
   "metadata": {},
   "source": [
    "### Compile the model"
   ]
  },
  {
   "cell_type": "code",
   "execution_count": 6,
   "id": "1323507e",
   "metadata": {},
   "outputs": [],
   "source": [
    "model.compile(optimizer=Adam(learning_rate=0.0001), loss='binary_crossentropy', metrics=['accuracy'])"
   ]
  },
  {
   "cell_type": "markdown",
   "id": "e8081e49",
   "metadata": {},
   "source": [
    "### Data augmentation and generators for training and validation"
   ]
  },
  {
   "cell_type": "code",
   "execution_count": 7,
   "id": "feb7a78e",
   "metadata": {},
   "outputs": [],
   "source": [
    "train_datagen = ImageDataGenerator(\n",
    "    rescale=1./255,\n",
    "    rotation_range=30,\n",
    "    shear_range=0.2,\n",
    "    zoom_range=0.2,\n",
    "    horizontal_flip=True\n",
    ")\n"
   ]
  },
  {
   "cell_type": "code",
   "execution_count": 8,
   "id": "d1073c7a",
   "metadata": {},
   "outputs": [],
   "source": [
    "val_datagen = ImageDataGenerator(rescale=1./255)"
   ]
  },
  {
   "cell_type": "code",
   "execution_count": 9,
   "id": "a6b89000",
   "metadata": {},
   "outputs": [
    {
     "name": "stdout",
     "output_type": "stream",
     "text": [
      "Found 1646 images belonging to 2 classes.\n"
     ]
    }
   ],
   "source": [
    "train_generator = train_datagen.flow_from_directory(\n",
    "    \"dataset/training/\",\n",
    "    target_size=(224, 224),\n",
    "    batch_size=32,\n",
    "    class_mode='binary'\n",
    ")"
   ]
  },
  {
   "cell_type": "code",
   "execution_count": 10,
   "id": "8a44dec9",
   "metadata": {},
   "outputs": [
    {
     "name": "stdout",
     "output_type": "stream",
     "text": [
      "Found 112 images belonging to 2 classes.\n"
     ]
    }
   ],
   "source": [
    "val_generator = val_datagen.flow_from_directory(\n",
    "    \"dataset/validation/\",\n",
    "    target_size=(224, 224),\n",
    "    batch_size=32,\n",
    "    class_mode='binary'\n",
    ")"
   ]
  },
  {
   "cell_type": "markdown",
   "id": "ae4d01ef",
   "metadata": {},
   "source": [
    "### Train the model"
   ]
  },
  {
   "cell_type": "code",
   "execution_count": 11,
   "id": "0dec81d2",
   "metadata": {},
   "outputs": [
    {
     "name": "stdout",
     "output_type": "stream",
     "text": [
      "Epoch 1/25\n"
     ]
    },
    {
     "name": "stderr",
     "output_type": "stream",
     "text": [
      "/home/agbor/anaconda3/lib/python3.11/site-packages/keras/src/trainers/data_adapters/py_dataset_adapter.py:121: UserWarning: Your `PyDataset` class should call `super().__init__(**kwargs)` in its constructor. `**kwargs` can include `workers`, `use_multiprocessing`, `max_queue_size`. Do not pass these arguments to `fit()`, as they will be ignored.\n",
      "  self._warn_if_super_not_called()\n"
     ]
    },
    {
     "name": "stdout",
     "output_type": "stream",
     "text": [
      "\u001b[1m52/52\u001b[0m \u001b[32m━━━━━━━━━━━━━━━━━━━━\u001b[0m\u001b[37m\u001b[0m \u001b[1m511s\u001b[0m 9s/step - accuracy: 0.7481 - loss: 1.1506 - val_accuracy: 0.8839 - val_loss: 0.3917\n",
      "Epoch 2/25\n",
      "\u001b[1m52/52\u001b[0m \u001b[32m━━━━━━━━━━━━━━━━━━━━\u001b[0m\u001b[37m\u001b[0m \u001b[1m484s\u001b[0m 9s/step - accuracy: 0.9515 - loss: 0.1159 - val_accuracy: 0.9554 - val_loss: 0.1639\n",
      "Epoch 3/25\n",
      "\u001b[1m52/52\u001b[0m \u001b[32m━━━━━━━━━━━━━━━━━━━━\u001b[0m\u001b[37m\u001b[0m \u001b[1m483s\u001b[0m 9s/step - accuracy: 0.9803 - loss: 0.0556 - val_accuracy: 0.9464 - val_loss: 0.1954\n",
      "Epoch 4/25\n",
      "\u001b[1m52/52\u001b[0m \u001b[32m━━━━━━━━━━━━━━━━━━━━\u001b[0m\u001b[37m\u001b[0m \u001b[1m530s\u001b[0m 9s/step - accuracy: 0.9723 - loss: 0.0604 - val_accuracy: 0.9643 - val_loss: 0.1516\n",
      "Epoch 5/25\n",
      "\u001b[1m52/52\u001b[0m \u001b[32m━━━━━━━━━━━━━━━━━━━━\u001b[0m\u001b[37m\u001b[0m \u001b[1m475s\u001b[0m 9s/step - accuracy: 0.9863 - loss: 0.0426 - val_accuracy: 0.9464 - val_loss: 0.1954\n",
      "Epoch 6/25\n",
      "\u001b[1m52/52\u001b[0m \u001b[32m━━━━━━━━━━━━━━━━━━━━\u001b[0m\u001b[37m\u001b[0m \u001b[1m477s\u001b[0m 9s/step - accuracy: 0.9865 - loss: 0.0342 - val_accuracy: 0.8929 - val_loss: 0.5105\n",
      "Epoch 7/25\n",
      "\u001b[1m52/52\u001b[0m \u001b[32m━━━━━━━━━━━━━━━━━━━━\u001b[0m\u001b[37m\u001b[0m \u001b[1m477s\u001b[0m 9s/step - accuracy: 0.9893 - loss: 0.0333 - val_accuracy: 0.9018 - val_loss: 0.4467\n",
      "Epoch 8/25\n",
      "\u001b[1m52/52\u001b[0m \u001b[32m━━━━━━━━━━━━━━━━━━━━\u001b[0m\u001b[37m\u001b[0m \u001b[1m475s\u001b[0m 9s/step - accuracy: 0.9947 - loss: 0.0202 - val_accuracy: 0.8839 - val_loss: 0.5734\n",
      "Epoch 9/25\n",
      "\u001b[1m52/52\u001b[0m \u001b[32m━━━━━━━━━━━━━━━━━━━━\u001b[0m\u001b[37m\u001b[0m \u001b[1m511s\u001b[0m 9s/step - accuracy: 0.9873 - loss: 0.0399 - val_accuracy: 0.9286 - val_loss: 0.3341\n",
      "Epoch 10/25\n",
      "\u001b[1m52/52\u001b[0m \u001b[32m━━━━━━━━━━━━━━━━━━━━\u001b[0m\u001b[37m\u001b[0m \u001b[1m534s\u001b[0m 10s/step - accuracy: 0.9947 - loss: 0.0153 - val_accuracy: 0.9464 - val_loss: 0.2490\n",
      "Epoch 11/25\n",
      "\u001b[1m52/52\u001b[0m \u001b[32m━━━━━━━━━━━━━━━━━━━━\u001b[0m\u001b[37m\u001b[0m \u001b[1m550s\u001b[0m 10s/step - accuracy: 0.9902 - loss: 0.0225 - val_accuracy: 0.9196 - val_loss: 0.3739\n",
      "Epoch 12/25\n",
      "\u001b[1m52/52\u001b[0m \u001b[32m━━━━━━━━━━━━━━━━━━━━\u001b[0m\u001b[37m\u001b[0m \u001b[1m521s\u001b[0m 10s/step - accuracy: 0.9964 - loss: 0.0155 - val_accuracy: 0.9375 - val_loss: 0.2998\n",
      "Epoch 13/25\n",
      "\u001b[1m52/52\u001b[0m \u001b[32m━━━━━━━━━━━━━━━━━━━━\u001b[0m\u001b[37m\u001b[0m \u001b[1m523s\u001b[0m 9s/step - accuracy: 0.9954 - loss: 0.0131 - val_accuracy: 0.9464 - val_loss: 0.2083\n",
      "Epoch 14/25\n",
      "\u001b[1m52/52\u001b[0m \u001b[32m━━━━━━━━━━━━━━━━━━━━\u001b[0m\u001b[37m\u001b[0m \u001b[1m462s\u001b[0m 8s/step - accuracy: 0.9905 - loss: 0.0260 - val_accuracy: 0.9375 - val_loss: 0.3094\n",
      "Epoch 15/25\n",
      "\u001b[1m52/52\u001b[0m \u001b[32m━━━━━━━━━━━━━━━━━━━━\u001b[0m\u001b[37m\u001b[0m \u001b[1m399s\u001b[0m 7s/step - accuracy: 0.9975 - loss: 0.0109 - val_accuracy: 0.9464 - val_loss: 0.2393\n",
      "Epoch 16/25\n",
      "\u001b[1m52/52\u001b[0m \u001b[32m━━━━━━━━━━━━━━━━━━━━\u001b[0m\u001b[37m\u001b[0m \u001b[1m418s\u001b[0m 7s/step - accuracy: 0.9945 - loss: 0.0170 - val_accuracy: 0.9554 - val_loss: 0.2636\n",
      "Epoch 17/25\n",
      "\u001b[1m52/52\u001b[0m \u001b[32m━━━━━━━━━━━━━━━━━━━━\u001b[0m\u001b[37m\u001b[0m \u001b[1m257s\u001b[0m 5s/step - accuracy: 0.9961 - loss: 0.0095 - val_accuracy: 0.9107 - val_loss: 0.4782\n",
      "Epoch 18/25\n",
      "\u001b[1m52/52\u001b[0m \u001b[32m━━━━━━━━━━━━━━━━━━━━\u001b[0m\u001b[37m\u001b[0m \u001b[1m380s\u001b[0m 7s/step - accuracy: 0.9973 - loss: 0.0072 - val_accuracy: 0.8750 - val_loss: 0.6974\n",
      "Epoch 19/25\n",
      "\u001b[1m52/52\u001b[0m \u001b[32m━━━━━━━━━━━━━━━━━━━━\u001b[0m\u001b[37m\u001b[0m \u001b[1m342s\u001b[0m 6s/step - accuracy: 0.9965 - loss: 0.0141 - val_accuracy: 0.9375 - val_loss: 0.4067\n",
      "Epoch 20/25\n",
      "\u001b[1m52/52\u001b[0m \u001b[32m━━━━━━━━━━━━━━━━━━━━\u001b[0m\u001b[37m\u001b[0m \u001b[1m420s\u001b[0m 7s/step - accuracy: 0.9949 - loss: 0.0156 - val_accuracy: 0.9107 - val_loss: 0.4519\n",
      "Epoch 21/25\n",
      "\u001b[1m52/52\u001b[0m \u001b[32m━━━━━━━━━━━━━━━━━━━━\u001b[0m\u001b[37m\u001b[0m \u001b[1m367s\u001b[0m 7s/step - accuracy: 0.9927 - loss: 0.0167 - val_accuracy: 0.9286 - val_loss: 0.3430\n",
      "Epoch 22/25\n",
      "\u001b[1m52/52\u001b[0m \u001b[32m━━━━━━━━━━━━━━━━━━━━\u001b[0m\u001b[37m\u001b[0m \u001b[1m387s\u001b[0m 7s/step - accuracy: 0.9934 - loss: 0.0128 - val_accuracy: 0.9107 - val_loss: 0.4068\n",
      "Epoch 23/25\n",
      "\u001b[1m52/52\u001b[0m \u001b[32m━━━━━━━━━━━━━━━━━━━━\u001b[0m\u001b[37m\u001b[0m \u001b[1m363s\u001b[0m 7s/step - accuracy: 0.9984 - loss: 0.0084 - val_accuracy: 0.9196 - val_loss: 0.3867\n",
      "Epoch 24/25\n",
      "\u001b[1m52/52\u001b[0m \u001b[32m━━━━━━━━━━━━━━━━━━━━\u001b[0m\u001b[37m\u001b[0m \u001b[1m368s\u001b[0m 7s/step - accuracy: 0.9962 - loss: 0.0115 - val_accuracy: 0.9375 - val_loss: 0.2990\n",
      "Epoch 25/25\n",
      "\u001b[1m52/52\u001b[0m \u001b[32m━━━━━━━━━━━━━━━━━━━━\u001b[0m\u001b[37m\u001b[0m \u001b[1m380s\u001b[0m 7s/step - accuracy: 0.9967 - loss: 0.0062 - val_accuracy: 0.9107 - val_loss: 0.5445\n"
     ]
    },
    {
     "data": {
      "text/plain": [
       "<keras.src.callbacks.history.History at 0x7fbb543c06d0>"
      ]
     },
     "execution_count": 11,
     "metadata": {},
     "output_type": "execute_result"
    }
   ],
   "source": [
    "model.fit(\n",
    "    train_generator,\n",
    "    epochs=25,\n",
    "    validation_data=val_generator\n",
    ")"
   ]
  },
  {
   "cell_type": "markdown",
   "id": "5d958787",
   "metadata": {},
   "source": [
    "### Model Evaluation"
   ]
  },
  {
   "cell_type": "code",
   "execution_count": 87,
   "id": "92d40933",
   "metadata": {},
   "outputs": [
    {
     "name": "stdout",
     "output_type": "stream",
     "text": [
      "Found 96 images belonging to 2 classes.\n"
     ]
    }
   ],
   "source": [
    "test_generator = val_datagen.flow_from_directory(\n",
    "    \"dataset/testing/\",\n",
    "    target_size=(224, 224),\n",
    "    batch_size=32,\n",
    "    class_mode='binary',\n",
    "    shuffle=False\n",
    ")"
   ]
  },
  {
   "cell_type": "code",
   "execution_count": 88,
   "id": "0e70f81e",
   "metadata": {},
   "outputs": [
    {
     "name": "stderr",
     "output_type": "stream",
     "text": [
      "/home/agbor/anaconda3/lib/python3.11/site-packages/keras/src/trainers/data_adapters/py_dataset_adapter.py:121: UserWarning: Your `PyDataset` class should call `super().__init__(**kwargs)` in its constructor. `**kwargs` can include `workers`, `use_multiprocessing`, `max_queue_size`. Do not pass these arguments to `fit()`, as they will be ignored.\n",
      "  self._warn_if_super_not_called()\n"
     ]
    },
    {
     "name": "stdout",
     "output_type": "stream",
     "text": [
      "\u001b[1m3/3\u001b[0m \u001b[32m━━━━━━━━━━━━━━━━━━━━\u001b[0m\u001b[37m\u001b[0m \u001b[1m12s\u001b[0m 4s/step - accuracy: 0.8555 - loss: 0.3004\n",
      "Test Accuracy: 0.91\n",
      "Test Loss: 0.19\n"
     ]
    }
   ],
   "source": [
    "test_loss, test_accuracy = model.evaluate(test_generator)\n",
    "print(f\"Test Accuracy: {test_accuracy:.2f}\")\n",
    "print(f\"Test Loss: {test_loss:.2f}\")\n"
   ]
  },
  {
   "cell_type": "markdown",
   "id": "e3027b15",
   "metadata": {},
   "source": [
    "### Confusion Matrix"
   ]
  },
  {
   "cell_type": "code",
   "execution_count": 98,
   "id": "8765738f",
   "metadata": {},
   "outputs": [
    {
     "name": "stdout",
     "output_type": "stream",
     "text": [
      "\u001b[1m3/3\u001b[0m \u001b[32m━━━━━━━━━━━━━━━━━━━━\u001b[0m\u001b[37m\u001b[0m \u001b[1m12s\u001b[0m 4s/step\n",
      "[[40  8]\n",
      " [ 1 47]]\n",
      "              precision    recall  f1-score   support\n",
      "\n",
      "           0       0.98      0.83      0.90        48\n",
      "           1       0.85      0.98      0.91        48\n",
      "\n",
      "    accuracy                           0.91        96\n",
      "   macro avg       0.92      0.91      0.91        96\n",
      "weighted avg       0.92      0.91      0.91        96\n",
      "\n"
     ]
    }
   ],
   "source": [
    "# Import functions for evaluating classification performance from scikit-learn\n",
    "from sklearn.metrics import confusion_matrix, classification_report\n",
    "\n",
    "# Get the true labels from the test generator\n",
    "# This will be an array of true class labels for the test dataset\n",
    "true_labels = test_generator.classes\n",
    "\n",
    "# Generate predictions for the test dataset using the trained model\n",
    "# This method returns the predicted probabilities for each class\n",
    "predictions = model.predict(test_generator)\n",
    "\n",
    "# Convert the predicted probabilities to binary labels\n",
    "# Using a threshold of 0.5 for binary classification\n",
    "# Reshape the array to ensure it matches the shape of true_labels\n",
    "predicted_labels = (predictions > 0.5).astype(int).reshape(-1)\n",
    "\n",
    "# Compute the confusion matrix to evaluate the performance of the model\n",
    "# The confusion matrix provides insights into true positives, false positives, true negatives, and false negatives\n",
    "cm = confusion_matrix(true_labels, predicted_labels)\n",
    "print(cm)\n",
    "\n",
    "# Generate a classification report that includes precision, recall, and F1-score\n",
    "# This report provides a detailed evaluation of the model's performance for each class\n",
    "print(classification_report(true_labels, predicted_labels))\n"
   ]
  },
  {
   "cell_type": "markdown",
   "id": "edd62609",
   "metadata": {},
   "source": [
    "### Heatmap of Confusion Matrix"
   ]
  },
  {
   "cell_type": "code",
   "execution_count": 90,
   "id": "46b4b99b",
   "metadata": {},
   "outputs": [
    {
     "data": {
      "image/png": "[encoded data removed]",
      "text/plain": [
       "<Figure size 800x600 with 2 Axes>"
      ]
     },
     "metadata": {},
     "output_type": "display_data"
    }
   ],
   "source": [
    "import numpy as np\n",
    "import seaborn as sns\n",
    "import matplotlib.pyplot as plt\n",
    "from sklearn.metrics import confusion_matrix\n",
    "\n",
    "# Assume true_labels and predicted_labels are already defined as in the previous example\n",
    "\n",
    "# Compute confusion matrix\n",
    "cm = confusion_matrix(true_labels, predicted_labels)\n",
    "\n",
    "# Define class names\n",
    "class_names = ['Non-Acne', 'Acne']\n",
    "\n",
    "# Create a heatmap\n",
    "plt.figure(figsize=(8, 6))\n",
    "sns.heatmap(cm, annot=True, fmt='d', cmap='Blues', xticklabels=class_names, yticklabels=class_names)\n",
    "plt.title('Confusion Matrix')\n",
    "plt.xlabel('Predicted Class')\n",
    "plt.ylabel('True Class')\n",
    "plt.show()\n"
   ]
  },
  {
   "cell_type": "markdown",
   "id": "b2d90a58",
   "metadata": {},
   "source": [
    "### ROC Curve and AUC (Area Under the Curve)"
   ]
  },
  {
   "cell_type": "code",
   "execution_count": 91,
   "id": "39b76427",
   "metadata": {},
   "outputs": [
    {
     "data": {
      "image/png": "[encoded data removed]",
      "text/plain": [
       "<Figure size 640x480 with 1 Axes>"
      ]
     },
     "metadata": {},
     "output_type": "display_data"
    }
   ],
   "source": [
    "from sklearn.metrics import roc_curve, auc\n",
    "import matplotlib.pyplot as plt\n",
    "\n",
    "# Compute ROC curve and AUC\n",
    "fpr, tpr, _ = roc_curve(true_labels, predictions)\n",
    "roc_auc = auc(fpr, tpr)\n",
    "\n",
    "# Plot ROC curve\n",
    "plt.figure()\n",
    "plt.plot(fpr, tpr, color='blue', lw=2, label=f'ROC curve (area = {roc_auc:.2f})')\n",
    "plt.plot([0, 1], [0, 1], color='gray', lw=2, linestyle='--')\n",
    "plt.xlim([0.0, 1.0])\n",
    "plt.ylim([0.0, 1.05])\n",
    "plt.xlabel('False Positive Rate')\n",
    "plt.ylabel('True Positive Rate')\n",
    "plt.title('Receiver Operating Characteristic (ROC)')\n",
    "plt.legend(loc='lower right')\n",
    "plt.show()\n"
   ]
  },
  {
   "cell_type": "markdown",
   "id": "e7548a53",
   "metadata": {},
   "source": [
    "### Precision vs Recall vs F1-Score"
   ]
  },
  {
   "cell_type": "code",
   "execution_count": 92,
   "id": "2a87bc10",
   "metadata": {},
   "outputs": [
    {
     "data": {
      "image/png": "[encoded data removed]",
      "text/plain": [
       "<Figure size 1000x600 with 1 Axes>"
      ]
     },
     "metadata": {},
     "output_type": "display_data"
    }
   ],
   "source": [
    "import numpy as np\n",
    "import matplotlib.pyplot as plt\n",
    "import seaborn as sns\n",
    "from sklearn.metrics import classification_report\n",
    "\n",
    "# Assuming true_labels and predicted_labels are defined\n",
    "# true_labels: Actual labels\n",
    "# predicted_labels: Predicted labels by the model\n",
    "\n",
    "# Generate a classification report\n",
    "report = classification_report(true_labels, predicted_labels, target_names=['Non-Acne', 'Acne'], output_dict=True)\n",
    "\n",
    "# Extract Precision, Recall, and F1-Score for each class\n",
    "metrics = ['precision', 'recall', 'f1-score']\n",
    "classes = ['Non-Acne', 'Acne']\n",
    "values = {metric: [report[class_name][metric] for class_name in classes] for metric in metrics}\n",
    "\n",
    "# Convert to a format suitable for seaborn\n",
    "metrics_data = []\n",
    "for metric, scores in values.items():\n",
    "    for score, class_name in zip(scores, classes):\n",
    "        metrics_data.append({'Metric': metric, 'Class': class_name, 'Score': score})\n",
    "\n",
    "# Create a DataFrame\n",
    "import pandas as pd\n",
    "df_metrics = pd.DataFrame(metrics_data)\n",
    "\n",
    "# Plot the metrics\n",
    "plt.figure(figsize=(10, 6))\n",
    "sns.barplot(x='Metric', y='Score', hue='Class', data=df_metrics, palette='Set2')\n",
    "plt.title('Precision, Recall, and F1-Score Comparison')\n",
    "plt.ylim(0, 1)  # All metrics are between 0 and 1\n",
    "plt.ylabel('Score')\n",
    "plt.show()\n"
   ]
  },
  {
   "cell_type": "markdown",
   "id": "264e575a",
   "metadata": {},
   "source": [
    "### Matthews Correlation Coefficient (MCC)\n",
    "\n",
    "These metrics provide a more comprehensive evaluation of your model's performance, helping to understand its strengths and weaknesses, especially in the context of medical diagnostics where accurate classification is critical."
   ]
  },
  {
   "cell_type": "code",
   "execution_count": 93,
   "id": "fee70f62",
   "metadata": {},
   "outputs": [
    {
     "name": "stdout",
     "output_type": "stream",
     "text": [
      "MCC: 0.82\n"
     ]
    }
   ],
   "source": [
    "from sklearn.metrics import matthews_corrcoef\n",
    "\n",
    "mcc = matthews_corrcoef(true_labels, predicted_labels)\n",
    "print(f'MCC: {mcc:.2f}')\n"
   ]
  },
  {
   "cell_type": "markdown",
   "id": "2bbf45b8",
   "metadata": {},
   "source": [
    "### Making predictions using a single image"
   ]
  },
  {
   "cell_type": "code",
   "execution_count": 94,
   "id": "281e76c5",
   "metadata": {},
   "outputs": [
    {
     "name": "stdout",
     "output_type": "stream",
     "text": [
      "\u001b[1m1/1\u001b[0m \u001b[32m━━━━━━━━━━━━━━━━━━━━\u001b[0m\u001b[37m\u001b[0m \u001b[1m0s\u001b[0m 133ms/step\n",
      "Predicted Label: Acne\n"
     ]
    }
   ],
   "source": [
    "# Import necessary libraries\n",
    "import numpy as np  # For numerical operations\n",
    "from tensorflow.keras.preprocessing import image  # For image preprocessing\n",
    "from tensorflow.keras.applications.vgg16 import preprocess_input  # For VGG16-specific preprocessing\n",
    "from tensorflow.keras.models import load_model  # For loading a saved model\n",
    "\n",
    "# Load and preprocess the image\n",
    "img_path = \"dataset/single_prediction/eczema.jpeg\"  # Path to the image file\n",
    "img = image.load_img(img_path, target_size=(224, 224))  # Load the image and resize it to 224x224 pixels\n",
    "img_array = image.img_to_array(img)  # Convert the image to a numpy array\n",
    "img_array = np.expand_dims(img_array, axis=0)  # Add a batch dimension (1, 224, 224, 3)\n",
    "img_array = preprocess_input(img_array)  # Apply VGG16-specific preprocessing (scaling pixel values)\n",
    "\n",
    "# Make a prediction using the trained model\n",
    "prediction = model.predict(img_array)  # Get the predicted probability from the model\n",
    "prediction_class = (prediction > 0.5).astype(int)  # Convert probability to binary class label\n",
    "\n",
    "# Map prediction to class label\n",
    "class_labels = ['Non-Acne', 'Acne']  # Define the class labels\n",
    "predicted_label = class_labels[prediction_class[0][0]]  # Get the predicted class label\n",
    "\n",
    "# Print the predicted class label\n",
    "print(f'Predicted Label: {predicted_label}')  # Output the predicted label\n"
   ]
  },
  {
   "cell_type": "markdown",
   "id": "0add8e98",
   "metadata": {},
   "source": [
    "### Saving the Model"
   ]
  },
  {
   "cell_type": "code",
   "execution_count": 95,
   "id": "4b351076",
   "metadata": {},
   "outputs": [
    {
     "name": "stderr",
     "output_type": "stream",
     "text": [
      "WARNING:absl:You are saving your model as an HDF5 file via `model.save()` or `keras.saving.save_model(model)`. This file format is considered legacy. We recommend using instead the native Keras format, e.g. `model.save('my_model.keras')` or `keras.saving.save_model(model, 'my_model.keras')`. \n"
     ]
    }
   ],
   "source": [
    "from tensorflow.keras.models import save_model\n",
    "\n",
    "# Assuming `model` is your trained Keras model\n",
    "model.save('DenseNetModel.h5')  # Save model to HDF5 file\n"
   ]
  },
  {
   "cell_type": "markdown",
   "id": "e07c4eac",
   "metadata": {},
   "source": [
    "### Testing all the acne files"
   ]
  },
  {
   "cell_type": "code",
   "execution_count": 96,
   "id": "ed21d66a",
   "metadata": {
    "scrolled": false
   },
   "outputs": [
    {
     "name": "stderr",
     "output_type": "stream",
     "text": [
      "WARNING:absl:Compiled the loaded model, but the compiled metrics have yet to be built. `model.compile_metrics` will be empty until you train or evaluate the model.\n"
     ]
    },
    {
     "name": "stdout",
     "output_type": "stream",
     "text": [
      "\u001b[1m1/1\u001b[0m \u001b[32m━━━━━━━━━━━━━━━━━━━━\u001b[0m\u001b[37m\u001b[0m \u001b[1m0s\u001b[0m 251ms/step\n",
      "Predicted Label for acne-286_jpeg.rf.1b6bcca440593ac6e33617083f34a4c5.jpg: Acne\n",
      "\u001b[1m1/1\u001b[0m \u001b[32m━━━━━━━━━━━━━━━━━━━━\u001b[0m\u001b[37m\u001b[0m \u001b[1m0s\u001b[0m 204ms/step\n",
      "Predicted Label for acne-422_jpeg.rf.c90a75e149931778d9c643273737df59.jpg: Acne\n",
      "\u001b[1m1/1\u001b[0m \u001b[32m━━━━━━━━━━━━━━━━━━━━\u001b[0m\u001b[37m\u001b[0m \u001b[1m0s\u001b[0m 178ms/step\n",
      "Predicted Label for acne-276_jpeg.rf.9d0990f99dee0e0ec17d89fd07384e0b.jpg: Acne\n",
      "\u001b[1m1/1\u001b[0m \u001b[32m━━━━━━━━━━━━━━━━━━━━\u001b[0m\u001b[37m\u001b[0m \u001b[1m0s\u001b[0m 183ms/step\n",
      "Predicted Label for acne-140_jpg.rf.785b2c29676c422c6a1cdbe6708f86e8.jpg: Acne\n",
      "\u001b[1m1/1\u001b[0m \u001b[32m━━━━━━━━━━━━━━━━━━━━\u001b[0m\u001b[37m\u001b[0m \u001b[1m0s\u001b[0m 178ms/step\n",
      "Predicted Label for acne-84_jpeg.rf.040421ad53965f5f41ddc6f6a8edef9f.jpg: Non-Acne\n",
      "\u001b[1m1/1\u001b[0m \u001b[32m━━━━━━━━━━━━━━━━━━━━\u001b[0m\u001b[37m\u001b[0m \u001b[1m0s\u001b[0m 172ms/step\n",
      "Predicted Label for acne-60_jpeg.rf.f2694c8e6226c725ff40b771560b5e06.jpg: Acne\n",
      "\u001b[1m1/1\u001b[0m \u001b[32m━━━━━━━━━━━━━━━━━━━━\u001b[0m\u001b[37m\u001b[0m \u001b[1m0s\u001b[0m 174ms/step\n",
      "Predicted Label for acne-25_jpeg.rf.61edfe1eaf01bce48403a1a22f693a86.jpg: Acne\n",
      "\u001b[1m1/1\u001b[0m \u001b[32m━━━━━━━━━━━━━━━━━━━━\u001b[0m\u001b[37m\u001b[0m \u001b[1m0s\u001b[0m 171ms/step\n",
      "Predicted Label for acne-32_jpeg.rf.6cfebd1da197182fd10391fc051d7308.jpg: Acne\n",
      "\u001b[1m1/1\u001b[0m \u001b[32m━━━━━━━━━━━━━━━━━━━━\u001b[0m\u001b[37m\u001b[0m \u001b[1m0s\u001b[0m 176ms/step\n",
      "Predicted Label for acne-355_jpeg.rf.a407ad30612ee0eea150efed8772694d.jpg: Acne\n",
      "\u001b[1m1/1\u001b[0m \u001b[32m━━━━━━━━━━━━━━━━━━━━\u001b[0m\u001b[37m\u001b[0m \u001b[1m0s\u001b[0m 176ms/step\n",
      "Predicted Label for acne-49_jpeg.rf.3c951af43df31b304067823e836ec20b.jpg: Acne\n",
      "\u001b[1m1/1\u001b[0m \u001b[32m━━━━━━━━━━━━━━━━━━━━\u001b[0m\u001b[37m\u001b[0m \u001b[1m0s\u001b[0m 171ms/step\n",
      "Predicted Label for acne-166_jpg.rf.a12f2acc98f6a862f6d8b7d28306e6ff.jpg: Non-Acne\n",
      "\u001b[1m1/1\u001b[0m \u001b[32m━━━━━━━━━━━━━━━━━━━━\u001b[0m\u001b[37m\u001b[0m \u001b[1m0s\u001b[0m 172ms/step\n",
      "Predicted Label for acne-187_jpg.rf.a4bc43c7fb75ea9ddc00fa14bf06eda5.jpg: Non-Acne\n",
      "\u001b[1m1/1\u001b[0m \u001b[32m━━━━━━━━━━━━━━━━━━━━\u001b[0m\u001b[37m\u001b[0m \u001b[1m0s\u001b[0m 180ms/step\n",
      "Predicted Label for acne-7_jpeg.rf.34ee37b930f592f787bb8d1bf6b37d30.jpg: Acne\n",
      "\u001b[1m1/1\u001b[0m \u001b[32m━━━━━━━━━━━━━━━━━━━━\u001b[0m\u001b[37m\u001b[0m \u001b[1m0s\u001b[0m 171ms/step\n",
      "Predicted Label for acne-92_jpeg.rf.ffaa4abd4c59b50edc52a68d96de7679.jpg: Acne\n",
      "\u001b[1m1/1\u001b[0m \u001b[32m━━━━━━━━━━━━━━━━━━━━\u001b[0m\u001b[37m\u001b[0m \u001b[1m0s\u001b[0m 169ms/step\n",
      "Predicted Label for acne-440_jpeg.rf.74f7f4b7cabd5d5e65c05367b20cb921.jpg: Non-Acne\n",
      "\u001b[1m1/1\u001b[0m \u001b[32m━━━━━━━━━━━━━━━━━━━━\u001b[0m\u001b[37m\u001b[0m \u001b[1m0s\u001b[0m 171ms/step\n",
      "Predicted Label for acne-95_jpeg.rf.28c5c0321aca3fbff22844c56937dbfd.jpg: Acne\n",
      "\u001b[1m1/1\u001b[0m \u001b[32m━━━━━━━━━━━━━━━━━━━━\u001b[0m\u001b[37m\u001b[0m \u001b[1m0s\u001b[0m 170ms/step\n",
      "Predicted Label for acne-202_jpg.rf.3cb4d03fc5719519ae3f8319099eddef.jpg: Non-Acne\n",
      "\u001b[1m1/1\u001b[0m \u001b[32m━━━━━━━━━━━━━━━━━━━━\u001b[0m\u001b[37m\u001b[0m \u001b[1m0s\u001b[0m 185ms/step\n",
      "Predicted Label for acne-102_jpeg.rf.d15b34dc9a1e69aa996118a4c1a173ef.jpg: Non-Acne\n",
      "\u001b[1m1/1\u001b[0m \u001b[32m━━━━━━━━━━━━━━━━━━━━\u001b[0m\u001b[37m\u001b[0m \u001b[1m0s\u001b[0m 198ms/step\n",
      "Predicted Label for acne-33_jpeg.rf.5f883b1bb6eacef56d03175d54955561.jpg: Acne\n",
      "\u001b[1m1/1\u001b[0m \u001b[32m━━━━━━━━━━━━━━━━━━━━\u001b[0m\u001b[37m\u001b[0m \u001b[1m0s\u001b[0m 184ms/step\n",
      "Predicted Label for acne-160_jpg.rf.b50f56372db5685c5301c83c555a777a.jpg: Non-Acne\n",
      "\u001b[1m1/1\u001b[0m \u001b[32m━━━━━━━━━━━━━━━━━━━━\u001b[0m\u001b[37m\u001b[0m \u001b[1m0s\u001b[0m 185ms/step\n",
      "Predicted Label for acne-70_jpeg.rf.79a8da468a25fbeeb5a047793a3e9a4d.jpg: Non-Acne\n",
      "\u001b[1m1/1\u001b[0m \u001b[32m━━━━━━━━━━━━━━━━━━━━\u001b[0m\u001b[37m\u001b[0m \u001b[1m0s\u001b[0m 192ms/step\n",
      "Predicted Label for acne-144_jpg.rf.e7404e17167235e55bc46e5c3914e22f.jpg: Acne\n",
      "\u001b[1m1/1\u001b[0m \u001b[32m━━━━━━━━━━━━━━━━━━━━\u001b[0m\u001b[37m\u001b[0m \u001b[1m0s\u001b[0m 175ms/step\n",
      "Predicted Label for acne-151_jpg.rf.638c693eb9342b4800bd8b1758e566e1.jpg: Acne\n",
      "\u001b[1m1/1\u001b[0m \u001b[32m━━━━━━━━━━━━━━━━━━━━\u001b[0m\u001b[37m\u001b[0m \u001b[1m0s\u001b[0m 188ms/step\n",
      "Predicted Label for acne-105_jpeg.rf.e9b2ecfb4afb0217f046179f125242d2.jpg: Acne\n",
      "\u001b[1m1/1\u001b[0m \u001b[32m━━━━━━━━━━━━━━━━━━━━\u001b[0m\u001b[37m\u001b[0m \u001b[1m0s\u001b[0m 178ms/step\n",
      "Predicted Label for acne-404_jpeg.rf.120f5acce0b15ea040f6e1a6f8a16dd5.jpg: Acne\n",
      "\u001b[1m1/1\u001b[0m \u001b[32m━━━━━━━━━━━━━━━━━━━━\u001b[0m\u001b[37m\u001b[0m \u001b[1m0s\u001b[0m 177ms/step\n",
      "Predicted Label for acne-230_jpg.rf.92c53cee80df6a2454765f7636b67d1a.jpg: Acne\n",
      "\u001b[1m1/1\u001b[0m \u001b[32m━━━━━━━━━━━━━━━━━━━━\u001b[0m\u001b[37m\u001b[0m \u001b[1m0s\u001b[0m 171ms/step\n",
      "Predicted Label for acne-57_jpeg.rf.b9ed02768080fdfcf648eef4e58c1904.jpg: Acne\n",
      "\u001b[1m1/1\u001b[0m \u001b[32m━━━━━━━━━━━━━━━━━━━━\u001b[0m\u001b[37m\u001b[0m \u001b[1m0s\u001b[0m 182ms/step\n",
      "Predicted Label for acne-167_jpg.rf.ca7f225b1a40cb053f3f590585061393.jpg: Non-Acne\n",
      "\u001b[1m1/1\u001b[0m \u001b[32m━━━━━━━━━━━━━━━━━━━━\u001b[0m\u001b[37m\u001b[0m \u001b[1m0s\u001b[0m 179ms/step\n",
      "Predicted Label for acne-290_jpeg.rf.116ac413d37048340ce6c5b36e1b9d8a.jpg: Acne\n",
      "\u001b[1m1/1\u001b[0m \u001b[32m━━━━━━━━━━━━━━━━━━━━\u001b[0m\u001b[37m\u001b[0m \u001b[1m0s\u001b[0m 171ms/step\n",
      "Predicted Label for acne-15_jpeg.rf.510f6ab6153777e8087f1439ef39d8cc.jpg: Acne\n",
      "\u001b[1m1/1\u001b[0m \u001b[32m━━━━━━━━━━━━━━━━━━━━\u001b[0m\u001b[37m\u001b[0m \u001b[1m0s\u001b[0m 172ms/step\n",
      "Predicted Label for acne-194_jpg.rf.1d82dbb7c1fa130420898223ef06720a.jpg: Acne\n",
      "\u001b[1m1/1\u001b[0m \u001b[32m━━━━━━━━━━━━━━━━━━━━\u001b[0m\u001b[37m\u001b[0m \u001b[1m0s\u001b[0m 168ms/step\n",
      "Predicted Label for acne-112_jpeg.rf.a03c796422719e964f46be1c118861bc.jpg: Acne\n",
      "\u001b[1m1/1\u001b[0m \u001b[32m━━━━━━━━━━━━━━━━━━━━\u001b[0m\u001b[37m\u001b[0m \u001b[1m0s\u001b[0m 171ms/step\n",
      "Predicted Label for acne-5_jpeg.rf.2d6671715f0149df7b494c4d3f12a98b.jpg: Acne\n",
      "\u001b[1m1/1\u001b[0m \u001b[32m━━━━━━━━━━━━━━━━━━━━\u001b[0m\u001b[37m\u001b[0m \u001b[1m0s\u001b[0m 203ms/step\n",
      "Predicted Label for acne-219_jpg.rf.49ae2c76139959c042cfa3cf03848824.jpg: Non-Acne\n",
      "\u001b[1m1/1\u001b[0m \u001b[32m━━━━━━━━━━━━━━━━━━━━\u001b[0m\u001b[37m\u001b[0m \u001b[1m0s\u001b[0m 190ms/step\n",
      "Predicted Label for acne-172_jpg.rf.f8ed4f69412f8420d6628e206113b64c.jpg: Acne\n",
      "\u001b[1m1/1\u001b[0m \u001b[32m━━━━━━━━━━━━━━━━━━━━\u001b[0m\u001b[37m\u001b[0m \u001b[1m0s\u001b[0m 171ms/step\n",
      "Predicted Label for acne-329_jpeg.rf.705fb900ba87dc12538508177c52c8a6.jpg: Acne\n",
      "\u001b[1m1/1\u001b[0m \u001b[32m━━━━━━━━━━━━━━━━━━━━\u001b[0m\u001b[37m\u001b[0m \u001b[1m0s\u001b[0m 169ms/step\n",
      "Predicted Label for acne-370_jpeg.rf.a774873f1db723d298598b08cfc47315.jpg: Non-Acne\n",
      "\u001b[1m1/1\u001b[0m \u001b[32m━━━━━━━━━━━━━━━━━━━━\u001b[0m\u001b[37m\u001b[0m \u001b[1m0s\u001b[0m 170ms/step\n",
      "Predicted Label for acne-457_jpeg.rf.96817d48e7a4fe76651012d96df43141.jpg: Non-Acne\n",
      "\u001b[1m1/1\u001b[0m \u001b[32m━━━━━━━━━━━━━━━━━━━━\u001b[0m\u001b[37m\u001b[0m \u001b[1m0s\u001b[0m 183ms/step\n",
      "Predicted Label for acne-75_jpeg.rf.d648e68373adc0adfd965b63d4632a48.jpg: Non-Acne\n",
      "\u001b[1m1/1\u001b[0m \u001b[32m━━━━━━━━━━━━━━━━━━━━\u001b[0m\u001b[37m\u001b[0m \u001b[1m0s\u001b[0m 188ms/step\n",
      "Predicted Label for acne-99_jpeg.rf.38ff75b46468fb68d29e4125bde66e86.jpg: Acne\n",
      "\u001b[1m1/1\u001b[0m \u001b[32m━━━━━━━━━━━━━━━━━━━━\u001b[0m\u001b[37m\u001b[0m \u001b[1m0s\u001b[0m 191ms/step\n",
      "Predicted Label for acne-161_jpg.rf.78459635cae3ff835cac7159c10bce51.jpg: Acne\n",
      "\u001b[1m1/1\u001b[0m \u001b[32m━━━━━━━━━━━━━━━━━━━━\u001b[0m\u001b[37m\u001b[0m \u001b[1m0s\u001b[0m 182ms/step\n",
      "Predicted Label for acne-206_jpg.rf.8c9e6075fe0cfed1632f82cf23a2d9e4.jpg: Acne\n",
      "\u001b[1m1/1\u001b[0m \u001b[32m━━━━━━━━━━━━━━━━━━━━\u001b[0m\u001b[37m\u001b[0m \u001b[1m0s\u001b[0m 186ms/step\n",
      "Predicted Label for acne-209_jpg.rf.a1dde106a5e5c3cd2b93666e9e226930.jpg: Non-Acne\n",
      "\u001b[1m1/1\u001b[0m \u001b[32m━━━━━━━━━━━━━━━━━━━━\u001b[0m\u001b[37m\u001b[0m \u001b[1m0s\u001b[0m 176ms/step\n",
      "Predicted Label for acne-158_jpg.rf.9c07578d00524a159f65bff978a79c5a.jpg: Non-Acne\n",
      "\u001b[1m1/1\u001b[0m \u001b[32m━━━━━━━━━━━━━━━━━━━━\u001b[0m\u001b[37m\u001b[0m \u001b[1m0s\u001b[0m 183ms/step\n",
      "Predicted Label for acne-155_jpg.rf.96681853cd48ff20eb8c2f0e3f32bdbf.jpg: Acne\n",
      "\u001b[1m1/1\u001b[0m \u001b[32m━━━━━━━━━━━━━━━━━━━━\u001b[0m\u001b[37m\u001b[0m \u001b[1m0s\u001b[0m 177ms/step\n",
      "Predicted Label for acne-128_jpg.rf.e3826584d02398d0f1d915cf3365a959.jpg: Non-Acne\n",
      "\u001b[1m1/1\u001b[0m \u001b[32m━━━━━━━━━━━━━━━━━━━━\u001b[0m\u001b[37m\u001b[0m \u001b[1m0s\u001b[0m 171ms/step\n",
      "Predicted Label for acne-239_jpg.rf.08487e45a5ca975c038eabe8464b0c87.jpg: Non-Acne\n",
      "\u001b[1m1/1\u001b[0m \u001b[32m━━━━━━━━━━━━━━━━━━━━\u001b[0m\u001b[37m\u001b[0m \u001b[1m0s\u001b[0m 177ms/step\n",
      "Predicted Label for acne-236_jpg.rf.c937d8c3c60bac296eb9e3b9237e13aa.jpg: Non-Acne\n"
     ]
    }
   ],
   "source": [
    "import os\n",
    "import numpy as np\n",
    "from tensorflow.keras.preprocessing import image  # For image preprocessing\n",
    "from tensorflow.keras.applications.vgg16 import preprocess_input  # For VGG16-specific preprocessing\n",
    "from tensorflow.keras.models import load_model  # For loading a saved model\n",
    "\n",
    "# Define the directory path\n",
    "acne_path = \"/home/agbor/Public/Deep Learning Projects/Tom Aniebet/Acne Detection/dataset/testing/acne\"\n",
    "\n",
    "# Get a list of all files and directories in the specified directory\n",
    "all_acne_files = os.listdir(acne_path)\n",
    "\n",
    "# Filter out only files\n",
    "acne_files = [f for f in all_acne_files if os.path.isfile(os.path.join(acne_path, f))]\n",
    "\n",
    "# Load the model from the file\n",
    "acne = load_model('DenseNetModel.h5')\n",
    "\n",
    "# Iterate over each file in the acne directory\n",
    "for file_name in acne_files:\n",
    "    # Load and preprocess the image\n",
    "    img_path = os.path.join(acne_path, file_name)  # Construct the full path to the image\n",
    "    img = image.load_img(img_path, target_size=(224, 224))  # Load the image and resize it\n",
    "    img_array = image.img_to_array(img)  # Convert the image to a numpy array\n",
    "    img_array = np.expand_dims(img_array, axis=0)  # Add a batch dimension (1, 224, 224, 3)\n",
    "    img_array = preprocess_input(img_array)  # Apply VGG16-specific preprocessing\n",
    "\n",
    "    # Make a prediction using the trained model\n",
    "    prediction = acne.predict(img_array)  # Get the predicted probability from the model\n",
    "    prediction_class = (prediction > 0.5).astype(int)  # Convert probability to binary class label\n",
    "\n",
    "    # Map prediction to class label\n",
    "    class_labels = ['Acne', 'Non-Acne']  # Define the class labels\n",
    "    predicted_label = class_labels[prediction_class[0][0]]  # Get the predicted class label\n",
    "\n",
    "    # Print the predicted class label\n",
    "    print(f'Predicted Label for {file_name}: {predicted_label}')  # Output the predicted label\n"
   ]
  },
  {
   "cell_type": "markdown",
   "id": "8cc724ab",
   "metadata": {},
   "source": [
    "### Testing all the Non-acne files"
   ]
  },
  {
   "cell_type": "code",
   "execution_count": 97,
   "id": "47a9ed64",
   "metadata": {},
   "outputs": [
    {
     "name": "stderr",
     "output_type": "stream",
     "text": [
      "WARNING:absl:Compiled the loaded model, but the compiled metrics have yet to be built. `model.compile_metrics` will be empty until you train or evaluate the model.\n"
     ]
    },
    {
     "name": "stdout",
     "output_type": "stream",
     "text": [
      "\u001b[1m1/1\u001b[0m \u001b[32m━━━━━━━━━━━━━━━━━━━━\u001b[0m\u001b[37m\u001b[0m \u001b[1m0s\u001b[0m 289ms/step\n",
      "Predicted Label for actinic-keratosis-5FU-5.jpg: Non-Acne\n",
      "\u001b[1m1/1\u001b[0m \u001b[32m━━━━━━━━━━━━━━━━━━━━\u001b[0m\u001b[37m\u001b[0m \u001b[1m0s\u001b[0m 160ms/step\n",
      "Predicted Label for eczema-hand-188.jpg: Non-Acne\n",
      "\u001b[1m1/1\u001b[0m \u001b[32m━━━━━━━━━━━━━━━━━━━━\u001b[0m\u001b[37m\u001b[0m \u001b[1m0s\u001b[0m 169ms/step\n",
      "Predicted Label for basal-cell-carcinoma-lesion-109.jpg: Non-Acne\n",
      "\u001b[1m1/1\u001b[0m \u001b[32m━━━━━━━━━━━━━━━━━━━━\u001b[0m\u001b[37m\u001b[0m \u001b[1m0s\u001b[0m 190ms/step\n",
      "Predicted Label for stasis-dermatitis-169.jpg: Non-Acne\n",
      "\u001b[1m1/1\u001b[0m \u001b[32m━━━━━━━━━━━━━━━━━━━━\u001b[0m\u001b[37m\u001b[0m \u001b[1m0s\u001b[0m 169ms/step\n",
      "Predicted Label for actinic-keratosis-5FU-25.jpg: Non-Acne\n",
      "\u001b[1m1/1\u001b[0m \u001b[32m━━━━━━━━━━━━━━━━━━━━\u001b[0m\u001b[37m\u001b[0m \u001b[1m0s\u001b[0m 173ms/step\n",
      "Predicted Label for basal-cell-carcinoma-lesion-94.jpg: Non-Acne\n",
      "\u001b[1m1/1\u001b[0m \u001b[32m━━━━━━━━━━━━━━━━━━━━\u001b[0m\u001b[37m\u001b[0m \u001b[1m0s\u001b[0m 170ms/step\n",
      "Predicted Label for actinic-cheilitis-sq-cell-lip-54.jpg: Non-Acne\n",
      "\u001b[1m1/1\u001b[0m \u001b[32m━━━━━━━━━━━━━━━━━━━━\u001b[0m\u001b[37m\u001b[0m \u001b[1m0s\u001b[0m 186ms/step\n",
      "Predicted Label for eczema-hand-133.jpg: Non-Acne\n",
      "\u001b[1m1/1\u001b[0m \u001b[32m━━━━━━━━━━━━━━━━━━━━\u001b[0m\u001b[37m\u001b[0m \u001b[1m0s\u001b[0m 197ms/step\n",
      "Predicted Label for eczema-hyperkeratotic-2.jpg: Non-Acne\n",
      "\u001b[1m1/1\u001b[0m \u001b[32m━━━━━━━━━━━━━━━━━━━━\u001b[0m\u001b[37m\u001b[0m \u001b[1m0s\u001b[0m 173ms/step\n",
      "Predicted Label for eczema-hand-14.jpg: Non-Acne\n",
      "\u001b[1m1/1\u001b[0m \u001b[32m━━━━━━━━━━━━━━━━━━━━\u001b[0m\u001b[37m\u001b[0m \u001b[1m0s\u001b[0m 171ms/step\n",
      "Predicted Label for basal-cell-carcinoma-lesion-25.jpg: Non-Acne\n",
      "\u001b[1m1/1\u001b[0m \u001b[32m━━━━━━━━━━━━━━━━━━━━\u001b[0m\u001b[37m\u001b[0m \u001b[1m0s\u001b[0m 171ms/step\n",
      "Predicted Label for 5T-0006.jpg: Non-Acne\n",
      "\u001b[1m1/1\u001b[0m \u001b[32m━━━━━━━━━━━━━━━━━━━━\u001b[0m\u001b[37m\u001b[0m \u001b[1m0s\u001b[0m 168ms/step\n",
      "Predicted Label for 05SexLinkedEchthyosis0223.jpg: Non-Acne\n",
      "\u001b[1m1/1\u001b[0m \u001b[32m━━━━━━━━━━━━━━━━━━━━\u001b[0m\u001b[37m\u001b[0m \u001b[1m0s\u001b[0m 185ms/step\n",
      "Predicted Label for actinic-keratosis-face-59.jpg: Non-Acne\n",
      "\u001b[1m1/1\u001b[0m \u001b[32m━━━━━━━━━━━━━━━━━━━━\u001b[0m\u001b[37m\u001b[0m \u001b[1m0s\u001b[0m 172ms/step\n",
      "Predicted Label for dermatofibrosarcoma-3.jpg: Non-Acne\n",
      "\u001b[1m1/1\u001b[0m \u001b[32m━━━━━━━━━━━━━━━━━━━━\u001b[0m\u001b[37m\u001b[0m \u001b[1m0s\u001b[0m 183ms/step\n",
      "Predicted Label for eczema-subacute-16.jpg: Non-Acne\n",
      "\u001b[1m1/1\u001b[0m \u001b[32m━━━━━━━━━━━━━━━━━━━━\u001b[0m\u001b[37m\u001b[0m \u001b[1m0s\u001b[0m 170ms/step\n",
      "Predicted Label for basal-cell-carcinoma-lid-5.jpg: Non-Acne\n",
      "\u001b[1m1/1\u001b[0m \u001b[32m━━━━━━━━━━━━━━━━━━━━\u001b[0m\u001b[37m\u001b[0m \u001b[1m0s\u001b[0m 173ms/step\n",
      "Predicted Label for epidermolysis-bullosa-1.jpg: Non-Acne\n",
      "\u001b[1m1/1\u001b[0m \u001b[32m━━━━━━━━━━━━━━━━━━━━\u001b[0m\u001b[37m\u001b[0m \u001b[1m0s\u001b[0m 184ms/step\n",
      "Predicted Label for basal-cell-carcinoma-ear-14.jpg: Non-Acne\n",
      "\u001b[1m1/1\u001b[0m \u001b[32m━━━━━━━━━━━━━━━━━━━━\u001b[0m\u001b[37m\u001b[0m \u001b[1m0s\u001b[0m 170ms/step\n",
      "Predicted Label for stasis-dermatitis-108.jpg: Non-Acne\n",
      "\u001b[1m1/1\u001b[0m \u001b[32m━━━━━━━━━━━━━━━━━━━━\u001b[0m\u001b[37m\u001b[0m \u001b[1m0s\u001b[0m 168ms/step\n",
      "Predicted Label for basal-cell-carcinoma-lesion-52.jpg: Non-Acne\n",
      "\u001b[1m1/1\u001b[0m \u001b[32m━━━━━━━━━━━━━━━━━━━━\u001b[0m\u001b[37m\u001b[0m \u001b[1m0s\u001b[0m 172ms/step\n",
      "Predicted Label for eczema-subacute-72.jpg: Non-Acne\n",
      "\u001b[1m1/1\u001b[0m \u001b[32m━━━━━━━━━━━━━━━━━━━━\u001b[0m\u001b[37m\u001b[0m \u001b[1m0s\u001b[0m 172ms/step\n",
      "Predicted Label for actinic-keratosis-hand-19.jpg: Non-Acne\n",
      "\u001b[1m1/1\u001b[0m \u001b[32m━━━━━━━━━━━━━━━━━━━━\u001b[0m\u001b[37m\u001b[0m \u001b[1m0s\u001b[0m 173ms/step\n",
      "Predicted Label for actinic-keratosis-face-4.jpg: Non-Acne\n",
      "\u001b[1m1/1\u001b[0m \u001b[32m━━━━━━━━━━━━━━━━━━━━\u001b[0m\u001b[37m\u001b[0m \u001b[1m0s\u001b[0m 180ms/step\n",
      "Predicted Label for eczema-foot-86.jpg: Non-Acne\n",
      "\u001b[1m1/1\u001b[0m \u001b[32m━━━━━━━━━━━━━━━━━━━━\u001b[0m\u001b[37m\u001b[0m \u001b[1m0s\u001b[0m 184ms/step\n",
      "Predicted Label for Staphylococcal-Folliculitis-33.jpg: Non-Acne\n",
      "\u001b[1m1/1\u001b[0m \u001b[32m━━━━━━━━━━━━━━━━━━━━\u001b[0m\u001b[37m\u001b[0m \u001b[1m0s\u001b[0m 190ms/step\n",
      "Predicted Label for actinic-keratosis-face-22.jpg: Non-Acne\n",
      "\u001b[1m1/1\u001b[0m \u001b[32m━━━━━━━━━━━━━━━━━━━━\u001b[0m\u001b[37m\u001b[0m \u001b[1m0s\u001b[0m 176ms/step\n",
      "Predicted Label for congenital-nevus-44.jpg: Non-Acne\n",
      "\u001b[1m1/1\u001b[0m \u001b[32m━━━━━━━━━━━━━━━━━━━━\u001b[0m\u001b[37m\u001b[0m \u001b[1m0s\u001b[0m 179ms/step\n",
      "Predicted Label for 3Eczema1-057.jpg: Non-Acne\n",
      "\u001b[1m1/1\u001b[0m \u001b[32m━━━━━━━━━━━━━━━━━━━━\u001b[0m\u001b[37m\u001b[0m \u001b[1m0s\u001b[0m 205ms/step\n",
      "Predicted Label for eczema-trunk-generalized-36.jpg: Non-Acne\n",
      "\u001b[1m1/1\u001b[0m \u001b[32m━━━━━━━━━━━━━━━━━━━━\u001b[0m\u001b[37m\u001b[0m \u001b[1m0s\u001b[0m 177ms/step\n",
      "Predicted Label for Staphylococcal-Folliculitis-11.jpg: Non-Acne\n",
      "\u001b[1m1/1\u001b[0m \u001b[32m━━━━━━━━━━━━━━━━━━━━\u001b[0m\u001b[37m\u001b[0m \u001b[1m0s\u001b[0m 193ms/step\n",
      "Predicted Label for actinic-keratosis-5FU-46.jpg: Non-Acne\n",
      "\u001b[1m1/1\u001b[0m \u001b[32m━━━━━━━━━━━━━━━━━━━━\u001b[0m\u001b[37m\u001b[0m \u001b[1m0s\u001b[0m 173ms/step\n",
      "Predicted Label for Sycosis-Barbae-14.jpg: Non-Acne\n",
      "\u001b[1m1/1\u001b[0m \u001b[32m━━━━━━━━━━━━━━━━━━━━\u001b[0m\u001b[37m\u001b[0m \u001b[1m0s\u001b[0m 169ms/step\n",
      "Predicted Label for eczema-hand-115.jpg: Non-Acne\n",
      "\u001b[1m1/1\u001b[0m \u001b[32m━━━━━━━━━━━━━━━━━━━━\u001b[0m\u001b[37m\u001b[0m \u001b[1m0s\u001b[0m 243ms/step\n",
      "Predicted Label for basal-cell-carcinoma-lid-21.jpg: Non-Acne\n",
      "\u001b[1m1/1\u001b[0m \u001b[32m━━━━━━━━━━━━━━━━━━━━\u001b[0m\u001b[37m\u001b[0m \u001b[1m0s\u001b[0m 212ms/step\n",
      "Predicted Label for eczema-hand-99.jpg: Non-Acne\n",
      "\u001b[1m1/1\u001b[0m \u001b[32m━━━━━━━━━━━━━━━━━━━━\u001b[0m\u001b[37m\u001b[0m \u001b[1m0s\u001b[0m 174ms/step\n",
      "Predicted Label for stasis-dermatitis-14.jpg: Non-Acne\n",
      "\u001b[1m1/1\u001b[0m \u001b[32m━━━━━━━━━━━━━━━━━━━━\u001b[0m\u001b[37m\u001b[0m \u001b[1m0s\u001b[0m 168ms/step\n",
      "Predicted Label for epidermolysis-bullosa-23.jpg: Non-Acne\n",
      "\u001b[1m1/1\u001b[0m \u001b[32m━━━━━━━━━━━━━━━━━━━━\u001b[0m\u001b[37m\u001b[0m \u001b[1m0s\u001b[0m 172ms/step\n",
      "Predicted Label for 03EczemaAreolae021223.jpg: Non-Acne\n",
      "\u001b[1m1/1\u001b[0m \u001b[32m━━━━━━━━━━━━━━━━━━━━\u001b[0m\u001b[37m\u001b[0m \u001b[1m0s\u001b[0m 168ms/step\n",
      "Predicted Label for basal-cell-carcinoma-lesion-126.jpg: Non-Acne\n",
      "\u001b[1m1/1\u001b[0m \u001b[32m━━━━━━━━━━━━━━━━━━━━\u001b[0m\u001b[37m\u001b[0m \u001b[1m0s\u001b[0m 168ms/step\n",
      "Predicted Label for basal-cell-carcinoma-lip-1.jpg: Non-Acne\n",
      "\u001b[1m1/1\u001b[0m \u001b[32m━━━━━━━━━━━━━━━━━━━━\u001b[0m\u001b[37m\u001b[0m \u001b[1m0s\u001b[0m 172ms/step\n",
      "Predicted Label for stasis-dermatitis-189.jpg: Non-Acne\n",
      "\u001b[1m1/1\u001b[0m \u001b[32m━━━━━━━━━━━━━━━━━━━━\u001b[0m\u001b[37m\u001b[0m \u001b[1m0s\u001b[0m 170ms/step\n",
      "Predicted Label for eczema-foot-70.jpg: Non-Acne\n",
      "\u001b[1m1/1\u001b[0m \u001b[32m━━━━━━━━━━━━━━━━━━━━\u001b[0m\u001b[37m\u001b[0m \u001b[1m0s\u001b[0m 169ms/step\n",
      "Predicted Label for actinic-keratosis-face-41.jpg: Non-Acne\n",
      "\u001b[1m1/1\u001b[0m \u001b[32m━━━━━━━━━━━━━━━━━━━━\u001b[0m\u001b[37m\u001b[0m \u001b[1m0s\u001b[0m 167ms/step\n",
      "Predicted Label for stasis-dermatitis-80.jpg: Non-Acne\n",
      "\u001b[1m1/1\u001b[0m \u001b[32m━━━━━━━━━━━━━━━━━━━━\u001b[0m\u001b[37m\u001b[0m \u001b[1m0s\u001b[0m 167ms/step\n",
      "Predicted Label for squamous-cell-carcinoma-nose-4.jpg: Non-Acne\n",
      "\u001b[1m1/1\u001b[0m \u001b[32m━━━━━━━━━━━━━━━━━━━━\u001b[0m\u001b[37m\u001b[0m \u001b[1m0s\u001b[0m 171ms/step\n",
      "Predicted Label for diabetic-bullae-10.jpg: Non-Acne\n",
      "\u001b[1m1/1\u001b[0m \u001b[32m━━━━━━━━━━━━━━━━━━━━\u001b[0m\u001b[37m\u001b[0m \u001b[1m0s\u001b[0m 170ms/step\n",
      "Predicted Label for actinic-keratosis-ear-2.jpg: Non-Acne\n"
     ]
    }
   ],
   "source": [
    "import os\n",
    "import numpy as np\n",
    "from tensorflow.keras.preprocessing import image  # For image preprocessing\n",
    "from tensorflow.keras.applications.vgg16 import preprocess_input  # For VGG16-specific preprocessing\n",
    "from tensorflow.keras.models import load_model  # For loading a saved model\n",
    "\n",
    "\n",
    "# Define the directory path\n",
    "non_acne_path = \"/home/agbor/Public/Deep Learning Projects/Tom Aniebet/Acne Detection/dataset/testing/skin\"\n",
    "\n",
    "# Get a list of all files and directories in the specified directory\n",
    "non_acne_files = os.listdir(non_acne_path)\n",
    "\n",
    "# Filter out only files\n",
    "non_acne_files = [f for f in non_acne_files if os.path.isfile(os.path.join(non_acne_path, f))]\n",
    "\n",
    "\n",
    "# Load the model from the file\n",
    "non_acne = load_model('DenseNetModel.h5')\n",
    "\n",
    "# Iterate over each file in the acne directory\n",
    "for file_name in non_acne_files:\n",
    "    try:\n",
    "    \n",
    "\n",
    "        # Load and preprocess the image\n",
    "        img_path = os.path.join(non_acne_path, file_name)  # Construct the full path to the image\n",
    "        img = image.load_img(img_path, target_size=(224, 224))  # Load the image and resize it\n",
    "        img_array = image.img_to_array(img)  # Convert the image to a numpy array\n",
    "        img_array = np.expand_dims(img_array, axis=0)  # Add a batch dimension (1, 224, 224, 3)\n",
    "        img_array = preprocess_input(img_array)  # Apply VGG16-specific preprocessing\n",
    "\n",
    "        # Make a prediction using the trained model\n",
    "        prediction = non_acne.predict(img_array)  # Get the predicted probability from the model\n",
    "        prediction_class = (prediction > 0.5).astype(int)  # Convert probability to binary class label\n",
    "        # Map prediction to class label\n",
    "        class_labels = ['Acne', 'Non-Acne']  # Define the class labels\n",
    "        predicted_label = class_labels[prediction_class[0][0]]  # Get the predicted class label\n",
    "\n",
    "        # Print the predicted class label\n",
    "        print(f'Predicted Label for {file_name}: {predicted_label}')  # Output the predicted label\n",
    "    except Exception as e:\n",
    "            print(f\"Error processing {file_name}: {e}\")\n"
   ]
  },
  {
   "cell_type": "code",
   "execution_count": null,
   "id": "c30dbb58",
   "metadata": {},
   "outputs": [],
   "source": []
  },
  {
   "cell_type": "code",
   "execution_count": null,
   "id": "97a2214c",
   "metadata": {},
   "outputs": [],
   "source": []
  },
  {
   "cell_type": "code",
   "execution_count": null,
   "id": "29484ee1",
   "metadata": {},
   "outputs": [],
   "source": []
  },
  {
   "cell_type": "code",
   "execution_count": null,
   "id": "f8ca9c67",
   "metadata": {},
   "outputs": [],
   "source": []
  },
  {
   "cell_type": "code",
   "execution_count": null,
   "id": "73ecdee9",
   "metadata": {},
   "outputs": [],
   "source": []
  },
  {
   "cell_type": "code",
   "execution_count": null,
   "id": "2d33f119",
   "metadata": {},
   "outputs": [],
   "source": []
  }
 ],
 "metadata": {
  "kernelspec": {
   "display_name": "Python 3 (ipykernel)",
   "language": "python",
   "name": "python3"
  },
  "language_info": {
   "codemirror_mode": {
    "name": "ipython",
    "version": 3
   },
   "file_extension": ".py",
   "mimetype": "text/x-python",
   "name": "python",
   "nbconvert_exporter": "python",
   "pygments_lexer": "ipython3",
   "version": "3.11.5"
  }
 },
 "nbformat": 4,
 "nbformat_minor": 5
}
